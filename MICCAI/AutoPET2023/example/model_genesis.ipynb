{
 "cells": [
  {
   "cell_type": "code",
   "execution_count": 1,
   "metadata": {},
   "outputs": [],
   "source": [
    "import numpy as np\n",
    "from model_genesis import get_pair\n",
    "from easydict import EasyDict"
   ]
  },
  {
   "cell_type": "code",
   "execution_count": 2,
   "metadata": {},
   "outputs": [],
   "source": [
    "x = np.random.random([1, 1, 128, 128, 128])"
   ]
  },
  {
   "cell_type": "code",
   "execution_count": 3,
   "metadata": {},
   "outputs": [],
   "source": [
    "args = EasyDict()\n",
    "args.genesis_args = EasyDict()\n",
    "args.genesis_args.nonlinear_rate = 0.9  # prob of non-linear transformation\n",
    "args.genesis_args.local_rate = 0.5      # prob of local pixel shuffling\n",
    "args.genesis_args.paint_rate = 0.9      # prob of (in/out) painting \n",
    "args.genesis_args.outpaint_rate = 0.8   # prob of outer painting\n",
    "args.genesis_args.inpaint_rate = 0.2    # prob of inner painting\n",
    "\n",
    "# for model genesis, basic augmentation\n",
    "args.genesis_args.rotation_rate = 0.0\n",
    "args.genesis_args.flip_rate = 0.4\n",
    "args.genesis_args.norm_type = \"minmax\""
   ]
  },
  {
   "cell_type": "code",
   "execution_count": 4,
   "metadata": {},
   "outputs": [],
   "source": [
    "_ = get_pair(x, 1, args.genesis_args)"
   ]
  },
  {
   "cell_type": "code",
   "execution_count": null,
   "metadata": {},
   "outputs": [],
   "source": []
  }
 ],
 "metadata": {
  "kernelspec": {
   "display_name": "autoPET",
   "language": "python",
   "name": "python3"
  },
  "language_info": {
   "codemirror_mode": {
    "name": "ipython",
    "version": 3
   },
   "file_extension": ".py",
   "mimetype": "text/x-python",
   "name": "python",
   "nbconvert_exporter": "python",
   "pygments_lexer": "ipython3",
   "version": "3.10.11"
  },
  "orig_nbformat": 4
 },
 "nbformat": 4,
 "nbformat_minor": 2
}
