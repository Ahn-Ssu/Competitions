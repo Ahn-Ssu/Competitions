{
 "cells": [
  {
   "cell_type": "code",
   "execution_count": 1,
   "metadata": {},
   "outputs": [],
   "source": [
    "import torch "
   ]
  },
  {
   "cell_type": "code",
   "execution_count": 4,
   "metadata": {},
   "outputs": [
    {
     "data": {
      "text/plain": [
       "dict_keys(['epoch', 'state_dict', 'optimizer_state_dict'])"
      ]
     },
     "execution_count": 4,
     "metadata": {},
     "output_type": "execute_result"
    }
   ],
   "source": [
    "ret = torch.load('/root/Competitions/MICCAI/AutoPET2023/example/Genesis_Chest_CT.pt', map_location='cpu')\n",
    "ret.keys()"
   ]
  },
  {
   "cell_type": "code",
   "execution_count": 6,
   "metadata": {},
   "outputs": [
    {
     "data": {
      "text/plain": [
       "odict_keys(['module.down_tr64.ops.0.conv1.weight', 'module.down_tr64.ops.0.conv1.bias', 'module.down_tr64.ops.0.bn1.weight', 'module.down_tr64.ops.0.bn1.bias', 'module.down_tr64.ops.0.bn1.running_mean', 'module.down_tr64.ops.0.bn1.running_var', 'module.down_tr64.ops.0.bn1.num_batches_tracked', 'module.down_tr64.ops.1.conv1.weight', 'module.down_tr64.ops.1.conv1.bias', 'module.down_tr64.ops.1.bn1.weight', 'module.down_tr64.ops.1.bn1.bias', 'module.down_tr64.ops.1.bn1.running_mean', 'module.down_tr64.ops.1.bn1.running_var', 'module.down_tr64.ops.1.bn1.num_batches_tracked', 'module.down_tr128.ops.0.conv1.weight', 'module.down_tr128.ops.0.conv1.bias', 'module.down_tr128.ops.0.bn1.weight', 'module.down_tr128.ops.0.bn1.bias', 'module.down_tr128.ops.0.bn1.running_mean', 'module.down_tr128.ops.0.bn1.running_var', 'module.down_tr128.ops.0.bn1.num_batches_tracked', 'module.down_tr128.ops.1.conv1.weight', 'module.down_tr128.ops.1.conv1.bias', 'module.down_tr128.ops.1.bn1.weight', 'module.down_tr128.ops.1.bn1.bias', 'module.down_tr128.ops.1.bn1.running_mean', 'module.down_tr128.ops.1.bn1.running_var', 'module.down_tr128.ops.1.bn1.num_batches_tracked', 'module.down_tr256.ops.0.conv1.weight', 'module.down_tr256.ops.0.conv1.bias', 'module.down_tr256.ops.0.bn1.weight', 'module.down_tr256.ops.0.bn1.bias', 'module.down_tr256.ops.0.bn1.running_mean', 'module.down_tr256.ops.0.bn1.running_var', 'module.down_tr256.ops.0.bn1.num_batches_tracked', 'module.down_tr256.ops.1.conv1.weight', 'module.down_tr256.ops.1.conv1.bias', 'module.down_tr256.ops.1.bn1.weight', 'module.down_tr256.ops.1.bn1.bias', 'module.down_tr256.ops.1.bn1.running_mean', 'module.down_tr256.ops.1.bn1.running_var', 'module.down_tr256.ops.1.bn1.num_batches_tracked', 'module.down_tr512.ops.0.conv1.weight', 'module.down_tr512.ops.0.conv1.bias', 'module.down_tr512.ops.0.bn1.weight', 'module.down_tr512.ops.0.bn1.bias', 'module.down_tr512.ops.0.bn1.running_mean', 'module.down_tr512.ops.0.bn1.running_var', 'module.down_tr512.ops.0.bn1.num_batches_tracked', 'module.down_tr512.ops.1.conv1.weight', 'module.down_tr512.ops.1.conv1.bias', 'module.down_tr512.ops.1.bn1.weight', 'module.down_tr512.ops.1.bn1.bias', 'module.down_tr512.ops.1.bn1.running_mean', 'module.down_tr512.ops.1.bn1.running_var', 'module.down_tr512.ops.1.bn1.num_batches_tracked', 'module.up_tr256.up_conv.weight', 'module.up_tr256.up_conv.bias', 'module.up_tr256.ops.0.conv1.weight', 'module.up_tr256.ops.0.conv1.bias', 'module.up_tr256.ops.0.bn1.weight', 'module.up_tr256.ops.0.bn1.bias', 'module.up_tr256.ops.0.bn1.running_mean', 'module.up_tr256.ops.0.bn1.running_var', 'module.up_tr256.ops.0.bn1.num_batches_tracked', 'module.up_tr256.ops.1.conv1.weight', 'module.up_tr256.ops.1.conv1.bias', 'module.up_tr256.ops.1.bn1.weight', 'module.up_tr256.ops.1.bn1.bias', 'module.up_tr256.ops.1.bn1.running_mean', 'module.up_tr256.ops.1.bn1.running_var', 'module.up_tr256.ops.1.bn1.num_batches_tracked', 'module.up_tr128.up_conv.weight', 'module.up_tr128.up_conv.bias', 'module.up_tr128.ops.0.conv1.weight', 'module.up_tr128.ops.0.conv1.bias', 'module.up_tr128.ops.0.bn1.weight', 'module.up_tr128.ops.0.bn1.bias', 'module.up_tr128.ops.0.bn1.running_mean', 'module.up_tr128.ops.0.bn1.running_var', 'module.up_tr128.ops.0.bn1.num_batches_tracked', 'module.up_tr128.ops.1.conv1.weight', 'module.up_tr128.ops.1.conv1.bias', 'module.up_tr128.ops.1.bn1.weight', 'module.up_tr128.ops.1.bn1.bias', 'module.up_tr128.ops.1.bn1.running_mean', 'module.up_tr128.ops.1.bn1.running_var', 'module.up_tr128.ops.1.bn1.num_batches_tracked', 'module.up_tr64.up_conv.weight', 'module.up_tr64.up_conv.bias', 'module.up_tr64.ops.0.conv1.weight', 'module.up_tr64.ops.0.conv1.bias', 'module.up_tr64.ops.0.bn1.weight', 'module.up_tr64.ops.0.bn1.bias', 'module.up_tr64.ops.0.bn1.running_mean', 'module.up_tr64.ops.0.bn1.running_var', 'module.up_tr64.ops.0.bn1.num_batches_tracked', 'module.up_tr64.ops.1.conv1.weight', 'module.up_tr64.ops.1.conv1.bias', 'module.up_tr64.ops.1.bn1.weight', 'module.up_tr64.ops.1.bn1.bias', 'module.up_tr64.ops.1.bn1.running_mean', 'module.up_tr64.ops.1.bn1.running_var', 'module.up_tr64.ops.1.bn1.num_batches_tracked', 'module.out_tr.final_conv.weight', 'module.out_tr.final_conv.bias'])"
      ]
     },
     "execution_count": 6,
     "metadata": {},
     "output_type": "execute_result"
    }
   ],
   "source": [
    "ret['state_dict'].keys()"
   ]
  }
 ],
 "metadata": {
  "kernelspec": {
   "display_name": "autoPET",
   "language": "python",
   "name": "python3"
  },
  "language_info": {
   "codemirror_mode": {
    "name": "ipython",
    "version": 3
   },
   "file_extension": ".py",
   "mimetype": "text/x-python",
   "name": "python",
   "nbconvert_exporter": "python",
   "pygments_lexer": "ipython3",
   "version": "3.10.11"
  },
  "orig_nbformat": 4
 },
 "nbformat": 4,
 "nbformat_minor": 2
}
