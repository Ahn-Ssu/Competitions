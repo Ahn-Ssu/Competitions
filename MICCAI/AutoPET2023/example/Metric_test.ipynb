{
 "cells": [
  {
   "cell_type": "code",
   "execution_count": 4,
   "metadata": {},
   "outputs": [],
   "source": [
    "from monai.metrics import DiceMetric, ConfusionMatrixMetric\n",
    "import torch"
   ]
  },
  {
   "cell_type": "code",
   "execution_count": 53,
   "metadata": {},
   "outputs": [],
   "source": [
    "confusion_M = ConfusionMatrixMetric(metric_name=['fpr','fnr'], compute_sample=False)"
   ]
  },
  {
   "cell_type": "code",
   "execution_count": 54,
   "metadata": {},
   "outputs": [
    {
     "name": "stdout",
     "output_type": "stream",
     "text": [
      "tensor([[[0., 0., 1., 0.]],\n",
      "\n",
      "        [[0., 0., 1., 0.]],\n",
      "\n",
      "        [[0., 0., 0., 1.]],\n",
      "\n",
      "        [[1., 0., 0., 0.]],\n",
      "\n",
      "        [[0., 1., 0., 0.]],\n",
      "\n",
      "        [[0., 0., 0., 1.]],\n",
      "\n",
      "        [[0., 0., 1., 0.]],\n",
      "\n",
      "        [[1., 0., 0., 0.]],\n",
      "\n",
      "        [[1., 0., 0., 0.]],\n",
      "\n",
      "        [[0., 0., 1., 0.]],\n",
      "\n",
      "        [[1., 0., 0., 0.]]])\n",
      "[tensor([0.2000]), tensor([0.3333])]\n"
     ]
    }
   ],
   "source": [
    "sample1 = torch.tensor([0., 0., 0., 1., 1.,]).view(-1,1)\n",
    "label1 = torch.tensor([0., 0., 1., 1., 0.,]).view(-1,1)\n",
    "\n",
    "y_pred = torch.tensor([0, 0, 1, 1, 0, 1]).view(-1,1)\n",
    "y_true = torch.tensor([1, 0, 1, 1, 0, 1]).view(-1,1)\n",
    "\n",
    "both1 = torch.tensor([0., 0., 0., 1., 1.,0, 0, 1, 1, 0, 1]).view(-1,1)\n",
    "both1p = torch.tensor([0., 0., 1., 1., 0.,1, 0, 1, 1, 0, 1]).view(-1,1)\n",
    "\n",
    "print(confusion_M(sample1, label1)) # tp fp tn fn \n",
    "print(confusion_M(y_pred, y_true))\n",
    "# print(confusion_M(both1, both1p)) # [tensor([0.6667]), tensor([0.2000]), tensor([0.8000]), tensor([0.3333])]\n",
    "print(confusion_M.aggregate()) # 'tpr', 'fpr', 'tnr', 'fnr'\n",
    "confusion_M.reset()\n",
    "# sample 1 with label 1 \n",
    "# tp = 1 -- idx 3\n",
    "# fp = 1 -- idx 4\n",
    "# tn = 2 -- idx 0,1\n",
    "# fn = 1 -- idx 2 \n",
    "# tpr = tp / tp + fn = 1 / 1+1 = 0.5\n",
    "# fpr = fp / fp + tn = 1 / 1+2 = 0.33333\n",
    "# tnr = tn / tn + fp = 2 / 2+1 = 0.66666\n",
    "# fnr = fn / fn + tp = 1 / 1+1 = 0.5 \n",
    "# tensor([[[0., 0., 1., 0.]],\n",
    "\n",
    "#         [[0., 0., 1., 0.]],\n",
    "\n",
    "#         [[0., 0., 0., 1.]],\n",
    "\n",
    "#         [[1., 0., 0., 0.]],\n",
    "\n",
    "#         [[0., 1., 0., 0.]]])\n",
    "# [tensor([0.5000]), tensor([0.3333]), tensor([0.6667]), tensor([0.5000])]\n",
    "\n",
    "# y_pred with y_true\n",
    "# tp = 3 -- idx 2,3,5\n",
    "# fp = 0 -- None\n",
    "# tn = 2 -- idx 1,4\n",
    "# fn = 1 -- idx 0 \n",
    "# tpr = tp / tp + fn = 3 / 3+1 = 0.75\n",
    "# fpr = fp / fp + tn = 0 / 0+2 = 0\n",
    "# tnr = tn / tn + fp = 2 / 2+0 = 1\n",
    "# fnr = fn / fn + tp = 1 / 1+3 = 0.25"
   ]
  },
  {
   "cell_type": "code",
   "execution_count": 66,
   "metadata": {},
   "outputs": [
    {
     "name": "stdout",
     "output_type": "stream",
     "text": [
      "tensor([[0, 2, 1]])\n",
      "tensor([[0, 4, 3]])\n",
      "tensor([[   nan, 1.0000, 0.6667]])\n",
      "tensor([0.8333])\n"
     ]
    }
   ],
   "source": [
    "y_pred = torch.tensor([[0,0,0],\n",
    "                       [0,1,1],\n",
    "                       [0,1,0]]).view(1, 3, 3)\n",
    "y = torch.tensor([[0,0,0],\n",
    "                       [0,1,1],\n",
    "                       [0,1,1]]).view(1, 3, 3)\n",
    "\n",
    "n_len = len(y_pred.shape)\n",
    "reduce_axis = list(range(2, n_len))\n",
    "intersection = torch.sum(y * y_pred, dim=reduce_axis)\n",
    "\n",
    "y_o = torch.sum(y, reduce_axis)\n",
    "y_pred_o = torch.sum(y_pred, dim=reduce_axis)\n",
    "denominator = y_o + y_pred_o\n",
    "\n",
    "dice_m = DiceMetric(include_background=True)\n",
    "print(intersection)\n",
    "print(denominator)\n",
    "print(dice_m(y_pred, y)) # dice per axis\n",
    "# print(dice_m(y_pred, y_true))\n",
    "# print(dice_m(both1, both1p)) # [tensor([0.6667]), tensor([0.2000]), tensor([0.8000]), tensor([0.3333])]\n",
    "print(dice_m.aggregate()) # sum--\n",
    "dice_m.reset()"
   ]
  },
  {
   "cell_type": "code",
   "execution_count": 26,
   "metadata": {},
   "outputs": [
    {
     "data": {
      "text/plain": [
       "(1.0, 0.0, 0.25, 0.75)"
      ]
     },
     "execution_count": 26,
     "metadata": {},
     "output_type": "execute_result"
    }
   ],
   "source": [
    "from sklearn.metrics import confusion_matrix\n",
    "\n",
    "tn, fp, fn, tp = confusion_matrix(label1, sample1, normalize='true').ravel()\n",
    "tn, fp, fn, tp = confusion_matrix(y_true, y_pred, normalize='true').ravel()\n",
    "tn, fp, fn, tp"
   ]
  }
 ],
 "metadata": {
  "kernelspec": {
   "display_name": "autoPET",
   "language": "python",
   "name": "python3"
  },
  "language_info": {
   "codemirror_mode": {
    "name": "ipython",
    "version": 3
   },
   "file_extension": ".py",
   "mimetype": "text/x-python",
   "name": "python",
   "nbconvert_exporter": "python",
   "pygments_lexer": "ipython3",
   "version": "3.10.11"
  },
  "orig_nbformat": 4
 },
 "nbformat": 4,
 "nbformat_minor": 2
}
