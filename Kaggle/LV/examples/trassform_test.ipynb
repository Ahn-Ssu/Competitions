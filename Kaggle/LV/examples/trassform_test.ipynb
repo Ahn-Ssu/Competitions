{
 "cells": [
  {
   "cell_type": "code",
   "execution_count": 23,
   "metadata": {},
   "outputs": [],
   "source": [
    "from monai.transforms import (\n",
    "                            Compose,\n",
    "                            OneOf,\n",
    "                            \n",
    "                            AsDiscreted,\n",
    "\n",
    "                            LoadImaged,\n",
    "                            EnsureTyped,\n",
    "                            ScaleIntensityRanged,\n",
    "                            \n",
    "                            Orientationd,\n",
    "                            CropForegroundd, \n",
    "                            RandCropByPosNegLabeld,\n",
    "                            RandSpatialCropd,\n",
    "\n",
    "                            ## nnUNet v1 impl Aug\n",
    "                            RandFlipd,\n",
    "                            RandRotated,\n",
    "                            Rand3DElasticd,\n",
    "                            RandScaleIntensityd,\n",
    "                            RandAdjustContrastd, # gamma correction\n",
    "                            \n",
    "                            Resized,\n",
    "                            Spacingd,\n",
    "                            RandGaussianNoised,\n",
    "                            RandGaussianSmoothd,\n",
    "                            RandShiftIntensityd,\n",
    "\n",
    "                            # RandAdjustContrastd,\n",
    "                            # RandGaussianSharpend,\n",
    "\n",
    "                            # RandCoarseDropoutd,\n",
    "                            # RandCoarseShuffled\n",
    "                        )\n",
    "\n",
    "import torch"
   ]
  },
  {
   "cell_type": "code",
   "execution_count": 24,
   "metadata": {},
   "outputs": [],
   "source": [
    "img = '/root/snsb/data/mri/DUIH_0123/T1.nii.gz'\n",
    "seg = '/root/snsb/data/mri/DUIH_0123/aseg.nii.gz'"
   ]
  },
  {
   "cell_type": "code",
   "execution_count": 25,
   "metadata": {},
   "outputs": [],
   "source": [
    "all_key = ['img','seg']\n",
    "\n",
    "full_transform = Compose([LoadImaged(keys=all_key, image_only=True, ensure_channel_first=True),\n",
    "         EnsureTyped(keys=all_key, device=None, track_meta=False),\n",
    "        #  Orientationd(keys=all_key, axcodes=\"RAS\"),\n",
    "         CropForegroundd(keys=all_key, source_key='seg', allow_smaller=False, select_fn=lambda x: x>0),\n",
    "         AsDiscreted(keys='seg', to_onehot=3),\n",
    "        #  Resized(keys=all_key, spatial_size=(256,256,256)),\n",
    "        #  ScaleIntensityRanged(keys='img',\n",
    "        #                         a_max=255, a_min=0,\n",
    "        #                         b_max=1, b_min=0, clip=True),\n",
    "                ])"
   ]
  },
  {
   "cell_type": "code",
   "execution_count": 26,
   "metadata": {},
   "outputs": [],
   "source": [
    "d = {'img':img, 'seg':seg}"
   ]
  },
  {
   "cell_type": "code",
   "execution_count": 27,
   "metadata": {},
   "outputs": [
    {
     "data": {
      "text/plain": [
       "(torch.Size([1, 256, 256, 256]), torch.Size([1, 256, 256, 256]))"
      ]
     },
     "execution_count": 27,
     "metadata": {},
     "output_type": "execute_result"
    }
   ],
   "source": [
    "loader = LoadImaged(keys=all_key, image_only=True, ensure_channel_first=True)\n",
    "\n",
    "loaded = loader(d)\n",
    "\n",
    "loaded['img'].shape, loaded['seg'].shape"
   ]
  },
  {
   "cell_type": "code",
   "execution_count": 28,
   "metadata": {},
   "outputs": [
    {
     "data": {
      "text/plain": [
       "(torch.Size([1, 256, 256, 256]),\n",
       " tensor([  0.,   1.,   2.,   3.,   4.,   5.,   6.,   7.,   8.,   9.,  10.,  11.,\n",
       "          12.,  13.,  14.,  15.,  16.,  17.,  18.,  19.,  20.,  21.,  22.,  23.,\n",
       "          24.,  25.,  26.,  27.,  28.,  29.,  30.,  31.,  32.,  33.,  34.,  35.,\n",
       "          36.,  37.,  38.,  39.,  40.,  41.,  42.,  43.,  44.,  45.,  46.,  47.,\n",
       "          48.,  49.,  50.,  51.,  52.,  53.,  54.,  55.,  56.,  57.,  58.,  59.,\n",
       "          60.,  61.,  62.,  63.,  64.,  65.,  66.,  67.,  68.,  69.,  70.,  71.,\n",
       "          72.,  73.,  74.,  75.,  76.,  77.,  78.,  79.,  80.,  81.,  82.,  83.,\n",
       "          84.,  85.,  86.,  87.,  88.,  89.,  90.,  91.,  92.,  93.,  94.,  95.,\n",
       "          96.,  97.,  98.,  99., 100., 101., 102., 103., 104., 105., 106., 107.,\n",
       "         108., 109., 110., 111., 112., 113., 114., 115., 116., 117., 118., 119.,\n",
       "         120., 121., 122., 123., 124., 125., 126., 127., 128., 129., 130., 131.,\n",
       "         132., 133., 134., 135., 136., 137., 138., 139., 140., 141., 142., 143.,\n",
       "         144., 145., 146., 147., 148., 149., 150., 151., 152., 153., 154., 155.,\n",
       "         156., 157., 158., 159., 160., 161., 162., 163., 164., 165., 166., 167.,\n",
       "         168., 169., 170., 171., 172., 173., 174., 175., 176., 177., 178., 179.,\n",
       "         180., 181., 182., 183., 184., 185., 186., 187., 188., 189., 190., 191.,\n",
       "         192., 193., 194., 195., 196., 197., 198., 199., 200., 201., 202., 203.,\n",
       "         204., 205., 206., 207., 208., 209., 210., 211., 212., 213., 214., 215.,\n",
       "         216., 217., 218., 219., 220., 221., 222., 223., 224., 225., 226., 227.,\n",
       "         228., 229., 230., 231., 232., 233., 234., 235., 236., 237., 238., 239.,\n",
       "         240., 241., 242., 243., 244., 245., 246., 247., 248., 249., 250., 251.,\n",
       "         252., 253., 254., 255.]),\n",
       " torch.Size([1, 256, 256, 256]),\n",
       " tensor([0., 1., 2.]))"
      ]
     },
     "execution_count": 28,
     "metadata": {},
     "output_type": "execute_result"
    }
   ],
   "source": [
    "ensure = EnsureTyped(keys=all_key, device=None, track_meta=False)\n",
    "\n",
    "ensured = ensure(loaded)\n",
    "\n",
    "ensured['img'].shape, torch.unique(ensured['img']), ensured['seg'].shape, torch.unique(ensured['seg'])"
   ]
  },
  {
   "cell_type": "code",
   "execution_count": 29,
   "metadata": {},
   "outputs": [],
   "source": [
    "# onehot = AsDiscreted(keys='seg', to_onehot=3)\n",
    "\n",
    "# onehoted = onehot(ensured)\n",
    "\n",
    "# onehoted['img'].shape, onehoted['seg'].shape"
   ]
  },
  {
   "cell_type": "code",
   "execution_count": 30,
   "metadata": {},
   "outputs": [],
   "source": [
    "# ori = Orientationd(keys=all_key, axcodes=\"RAS\")\n",
    "\n",
    "# orited = ori(ensured)\n",
    "\n",
    "# orited['img'].shape, orited['seg'].shape, orited['img']"
   ]
  },
  {
   "cell_type": "code",
   "execution_count": 31,
   "metadata": {},
   "outputs": [
    {
     "data": {
      "text/plain": [
       "(torch.Size([1, 132, 118, 169]), torch.Size([1, 132, 118, 169]))"
      ]
     },
     "execution_count": 31,
     "metadata": {},
     "output_type": "execute_result"
    }
   ],
   "source": [
    "cropper = CropForegroundd(keys=all_key, source_key='seg', allow_smaller=False, select_fn=lambda x: x>0)\n",
    "\n",
    "cropped = cropper(ensured)\n",
    "\n",
    "cropped['img'].shape, cropped['seg'].shape\n",
    "# 128 128 192"
   ]
  },
  {
   "cell_type": "code",
   "execution_count": 35,
   "metadata": {},
   "outputs": [
    {
     "data": {
      "text/plain": [
       "(torch.Size([1, 132, 118, 169]), torch.Size([3, 132, 118, 169]))"
      ]
     },
     "execution_count": 35,
     "metadata": {},
     "output_type": "execute_result"
    }
   ],
   "source": [
    "onehot = AsDiscreted(keys='seg', to_onehot=3)\n",
    "\n",
    "onehoted = onehot(cropped)\n",
    "\n",
    "onehoted['img'].shape, onehoted['seg'].shape"
   ]
  },
  {
   "cell_type": "code",
   "execution_count": 36,
   "metadata": {},
   "outputs": [
    {
     "data": {
      "image/jpeg": "[encoded data removed]",
      "image/png": "[encoded data removed]",
      "text/plain": [
       "<PIL.Image.Image image mode=L size=118x132>"
      ]
     },
     "metadata": {},
     "output_type": "display_data"
    }
   ],
   "source": [
    "import matplotlib.pyplot as plt\n",
    "import torchvision.transforms as T\n",
    "import PIL\n",
    "\n",
    "tensor2PTL = T.ToPILImage()\n",
    "img = tensor2PTL(onehoted['img'][..., 128])\n",
    "seg = tensor2PTL(onehoted['seg'][..., 128])\n",
    "\n",
    "img.show()"
   ]
  },
  {
   "cell_type": "code",
   "execution_count": 37,
   "metadata": {},
   "outputs": [
    {
     "data": {
      "image/jpeg": "[encoded data removed]",
      "image/png": "[encoded data removed]",
      "text/plain": [
       "<PIL.Image.Image image mode=RGB size=118x132>"
      ]
     },
     "metadata": {},
     "output_type": "display_data"
    }
   ],
   "source": [
    "seg.show()"
   ]
  },
  {
   "cell_type": "code",
   "execution_count": 23,
   "metadata": {},
   "outputs": [
    {
     "data": {
      "text/plain": [
       "(torch.Size([1, 128, 128, 160]), torch.Size([3, 128, 128, 160]))"
      ]
     },
     "execution_count": 23,
     "metadata": {},
     "output_type": "execute_result"
    }
   ],
   "source": [
    "resizer = Resized(keys=all_key, spatial_size=(128,128,160))\n",
    "\n",
    "resized = resizer(onehoted)\n",
    "\n",
    "resized['img'].shape, resized['seg'].shape"
   ]
  },
  {
   "cell_type": "code",
   "execution_count": 24,
   "metadata": {},
   "outputs": [
    {
     "name": "stdout",
     "output_type": "stream",
     "text": [
      "metatensor([  0.0000,   0.5000,   0.6250,  ..., 236.5000, 236.7500, 240.5000])\n"
     ]
    },
    {
     "data": {
      "text/plain": [
       "(torch.Size([1, 135, 108, 147]), torch.Size([3, 135, 108, 147]))"
      ]
     },
     "execution_count": 24,
     "metadata": {},
     "output_type": "execute_result"
    }
   ],
   "source": [
    "norm = ScaleIntensityRanged(keys='img',\n",
    "                                a_max=255, a_min=0,\n",
    "                                b_max=1, b_min=0, clip=True)\n",
    "\n",
    "print(torch.unique(resized['img']))\n",
    "\n",
    "normed = norm(onehoted)\n",
    "\n",
    "normed['img'].shape, normed['seg'].shape\n",
    "\n",
    "# print(torch.unique(normed['img']))"
   ]
  },
  {
   "cell_type": "code",
   "execution_count": 39,
   "metadata": {},
   "outputs": [
    {
     "name": "stdout",
     "output_type": "stream",
     "text": [
      "/root/snsb/data/mri/DUIH_0051 torch.Size([1, 135, 113, 157]) torch.Size([3, 135, 113, 157])\n",
      "/root/snsb/data/mri/DUIH_0063 torch.Size([1, 127, 106, 152]) torch.Size([3, 127, 106, 152])\n",
      "/root/snsb/data/mri/DUIH_0040 torch.Size([1, 147, 121, 166]) torch.Size([3, 147, 121, 166])\n",
      "/root/snsb/data/mri/DUIH_0087 torch.Size([1, 130, 110, 164]) torch.Size([3, 130, 110, 164])\n",
      "/root/snsb/data/mri/DUIH_0115 torch.Size([1, 133, 105, 151]) torch.Size([3, 133, 105, 151])\n",
      "/root/snsb/data/mri/DUIH_0035 torch.Size([1, 126, 109, 150]) torch.Size([3, 126, 109, 150])\n",
      "/root/snsb/data/mri/DUIH_0092 torch.Size([1, 133, 109, 154]) torch.Size([3, 133, 109, 154])\n",
      "/root/snsb/data/mri/DUIH_0083 torch.Size([1, 128, 112, 149]) torch.Size([3, 128, 112, 149])\n",
      "/root/snsb/data/mri/DUIH_0052 torch.Size([1, 128, 108, 160]) torch.Size([3, 128, 108, 160])\n",
      "/root/snsb/data/mri/DUIH_0073 torch.Size([1, 131, 108, 151]) torch.Size([3, 131, 108, 151])\n",
      "/root/snsb/data/mri/DUIH_0026 torch.Size([1, 134, 106, 147]) torch.Size([3, 134, 106, 147])\n",
      "/root/snsb/data/mri/DUIH_0020 torch.Size([1, 142, 118, 159]) torch.Size([3, 142, 118, 159])\n",
      "/root/snsb/data/mri/DUIH_0113 torch.Size([1, 131, 114, 161]) torch.Size([3, 131, 114, 161])\n",
      "/root/snsb/data/mri/DUIH_0106 torch.Size([1, 132, 114, 154]) torch.Size([3, 132, 114, 154])\n",
      "/root/snsb/data/mri/DUIH_0038 torch.Size([1, 135, 106, 150]) torch.Size([3, 135, 106, 150])\n",
      "/root/snsb/data/mri/DUIH_0119 torch.Size([1, 136, 109, 158]) torch.Size([3, 136, 109, 158])\n",
      "/root/snsb/data/mri/DUIH_0132 torch.Size([1, 134, 107, 155]) torch.Size([3, 134, 107, 155])\n",
      "/root/snsb/data/mri/DUIH_0033 torch.Size([1, 133, 115, 157]) torch.Size([3, 133, 115, 157])\n",
      "/root/snsb/data/mri/DUIH_0124 torch.Size([1, 142, 118, 158]) torch.Size([3, 142, 118, 158])\n",
      "/root/snsb/data/mri/DUIH_0029 torch.Size([1, 135, 108, 163]) torch.Size([3, 135, 108, 163])\n",
      "/root/snsb/data/mri/DUIH_0070 torch.Size([1, 134, 110, 158]) torch.Size([3, 134, 110, 158])\n",
      "/root/snsb/data/mri/DUIH_0030 torch.Size([1, 131, 109, 150]) torch.Size([3, 131, 109, 150])\n",
      "/root/snsb/data/mri/DUIH_0077 torch.Size([1, 139, 117, 152]) torch.Size([3, 139, 117, 152])\n",
      "/root/snsb/data/mri/DUIH_0016 torch.Size([1, 141, 118, 162]) torch.Size([3, 141, 118, 162])\n",
      "/root/snsb/data/mri/DUIH_0014 torch.Size([1, 142, 118, 159]) torch.Size([3, 142, 118, 159])\n",
      "/root/snsb/data/mri/DUIH_0146 torch.Size([1, 133, 104, 154]) torch.Size([3, 133, 104, 154])\n",
      "/root/snsb/data/mri/DUIH_0114 torch.Size([1, 139, 112, 154]) torch.Size([3, 139, 112, 154])\n",
      "/root/snsb/data/mri/DUIH_0053 torch.Size([1, 139, 113, 146]) torch.Size([3, 139, 113, 146])\n",
      "/root/snsb/data/mri/DUIH_0098 torch.Size([1, 136, 111, 155]) torch.Size([3, 136, 111, 155])\n",
      "/root/snsb/data/mri/DUIH_0009 torch.Size([1, 134, 116, 167]) torch.Size([3, 134, 116, 167])\n",
      "/root/snsb/data/mri/DUIH_0093 torch.Size([1, 130, 108, 160]) torch.Size([3, 130, 108, 160])\n",
      "/root/snsb/data/mri/DUIH_0024 torch.Size([1, 120, 109, 157]) torch.Size([3, 120, 109, 157])\n",
      "/root/snsb/data/mri/DUIH_0166 torch.Size([1, 130, 111, 142]) torch.Size([3, 130, 111, 142])\n",
      "/root/snsb/data/mri/DUIH_0123 torch.Size([1, 132, 118, 169]) torch.Size([3, 132, 118, 169])\n",
      "/root/snsb/data/mri/DUIH_0047 torch.Size([1, 135, 114, 174]) torch.Size([3, 135, 114, 174])\n",
      "/root/snsb/data/mri/DUIH_0049 torch.Size([1, 127, 102, 152]) torch.Size([3, 127, 102, 152])\n",
      "/root/snsb/data/mri/DUIH_0050 torch.Size([1, 151, 120, 156]) torch.Size([3, 151, 120, 156])\n",
      "{'img': '/root/snsb/data/mri/mri-label.7z/T1.nii.gz', 'seg': '/root/snsb/data/mri/mri-label.7z/aseg.nii.gz'}\n",
      "/root/snsb/data/mri/mri-label.7z torch.Size([1, 151, 120, 156]) torch.Size([3, 151, 120, 156])\n",
      "/root/snsb/data/mri/DUIH_0025 torch.Size([1, 134, 113, 163]) torch.Size([3, 134, 113, 163])\n",
      "/root/snsb/data/mri/DUIH_0080 torch.Size([1, 136, 112, 153]) torch.Size([3, 136, 112, 153])\n",
      "/root/snsb/data/mri/DUIH_0134 torch.Size([1, 137, 110, 165]) torch.Size([3, 137, 110, 165])\n",
      "/root/snsb/data/mri/DUIH_0095 torch.Size([1, 133, 114, 160]) torch.Size([3, 133, 114, 160])\n",
      "/root/snsb/data/mri/DUIH_0081 torch.Size([1, 130, 105, 157]) torch.Size([3, 130, 105, 157])\n",
      "/root/snsb/data/mri/DUIH_0125 torch.Size([1, 135, 108, 147]) torch.Size([3, 135, 108, 147])\n",
      "/root/snsb/data/mri/DUIH_0128 torch.Size([1, 131, 110, 160]) torch.Size([3, 131, 110, 160])\n",
      "/root/snsb/data/mri/DUIH_0034 torch.Size([1, 139, 118, 166]) torch.Size([3, 139, 118, 166])\n",
      "/root/snsb/data/mri/DUIH_0140 torch.Size([1, 136, 102, 158]) torch.Size([3, 136, 102, 158])\n",
      "/root/snsb/data/mri/DUIH_0031 torch.Size([1, 133, 105, 147]) torch.Size([3, 133, 105, 147])\n",
      "/root/snsb/data/mri/DUIH_0037 torch.Size([1, 127, 105, 154]) torch.Size([3, 127, 105, 154])\n",
      "/root/snsb/data/mri/DUIH_0069 torch.Size([1, 130, 106, 154]) torch.Size([3, 130, 106, 154])\n",
      "/root/snsb/data/mri/DUIH_0164 torch.Size([1, 129, 105, 164]) torch.Size([3, 129, 105, 164])\n",
      "/root/snsb/data/mri/DUIH_0096 torch.Size([1, 144, 112, 157]) torch.Size([3, 144, 112, 157])\n",
      "/root/snsb/data/mri/DUIH_0003 torch.Size([1, 140, 113, 173]) torch.Size([3, 140, 113, 173])\n",
      "/root/snsb/data/mri/DUIH_0135 torch.Size([1, 132, 104, 155]) torch.Size([3, 132, 104, 155])\n",
      "/root/snsb/data/mri/DUIH_0059 torch.Size([1, 127, 104, 153]) torch.Size([3, 127, 104, 153])\n",
      "/root/snsb/data/mri/DUIH_0011 torch.Size([1, 127, 105, 155]) torch.Size([3, 127, 105, 155])\n",
      "/root/snsb/data/mri/DUIH_0109 torch.Size([1, 130, 108, 153]) torch.Size([3, 130, 108, 153])\n",
      "/root/snsb/data/mri/DUIH_0023 torch.Size([1, 133, 110, 157]) torch.Size([3, 133, 110, 157])\n",
      "/root/snsb/data/mri/DUIH_0005 torch.Size([1, 129, 102, 162]) torch.Size([3, 129, 102, 162])\n",
      "/root/snsb/data/mri/DUIH_0155 torch.Size([1, 136, 111, 158]) torch.Size([3, 136, 111, 158])\n",
      "/root/snsb/data/mri/DUIH_0159 torch.Size([1, 137, 104, 163]) torch.Size([3, 137, 104, 163])\n",
      "/root/snsb/data/mri/DUIH_0163 torch.Size([1, 139, 114, 164]) torch.Size([3, 139, 114, 164])\n",
      "/root/snsb/data/mri/DUIH_0110 torch.Size([1, 140, 122, 168]) torch.Size([3, 140, 122, 168])\n",
      "/root/snsb/data/mri/DUIH_0161 torch.Size([1, 133, 111, 157]) torch.Size([3, 133, 111, 157])\n",
      "/root/snsb/data/mri/DUIH_0071 torch.Size([1, 135, 111, 156]) torch.Size([3, 135, 111, 156])\n",
      "/root/snsb/data/mri/DUIH_0154 torch.Size([1, 140, 105, 154]) torch.Size([3, 140, 105, 154])\n",
      "/root/snsb/data/mri/DUIH_0121 torch.Size([1, 127, 105, 154]) torch.Size([3, 127, 105, 154])\n",
      "/root/snsb/data/mri/DUIH_0149 torch.Size([1, 129, 110, 159]) torch.Size([3, 129, 110, 159])\n",
      "/root/snsb/data/mri/DUIH_0147 torch.Size([1, 134, 110, 154]) torch.Size([3, 134, 110, 154])\n",
      "/root/snsb/data/mri/DUIH_0089 torch.Size([1, 144, 111, 141]) torch.Size([3, 144, 111, 141])\n",
      "/root/snsb/data/mri/DUIH_0165 torch.Size([1, 122, 105, 163]) torch.Size([3, 122, 105, 163])\n",
      "/root/snsb/data/mri/DUIH_0085 torch.Size([1, 137, 118, 164]) torch.Size([3, 137, 118, 164])\n",
      "/root/snsb/data/mri/DUIH_0039 torch.Size([1, 138, 116, 152]) torch.Size([3, 138, 116, 152])\n",
      "/root/snsb/data/mri/DUIH_0088 torch.Size([1, 124, 108, 163]) torch.Size([3, 124, 108, 163])\n",
      "/root/snsb/data/mri/DUIH_0068 torch.Size([1, 132, 103, 156]) torch.Size([3, 132, 103, 156])\n",
      "/root/snsb/data/mri/DUIH_0157 torch.Size([1, 130, 112, 154]) torch.Size([3, 130, 112, 154])\n",
      "/root/snsb/data/mri/DUIH_0091 torch.Size([1, 128, 110, 157]) torch.Size([3, 128, 110, 157])\n",
      "/root/snsb/data/mri/DUIH_0061 torch.Size([1, 136, 107, 156]) torch.Size([3, 136, 107, 156])\n",
      "/root/snsb/data/mri/DUIH_0148 torch.Size([1, 129, 114, 154]) torch.Size([3, 129, 114, 154])\n",
      "/root/snsb/data/mri/DUIH_0099 torch.Size([1, 130, 105, 160]) torch.Size([3, 130, 105, 160])\n",
      "/root/snsb/data/mri/DUIH_0064 torch.Size([1, 138, 108, 148]) torch.Size([3, 138, 108, 148])\n",
      "/root/snsb/data/mri/DUIH_0153 torch.Size([1, 134, 110, 156]) torch.Size([3, 134, 110, 156])\n",
      "/root/snsb/data/mri/DUIH_0044 torch.Size([1, 130, 111, 161]) torch.Size([3, 130, 111, 161])\n",
      "/root/snsb/data/mri/DUIH_0112 torch.Size([1, 141, 116, 169]) torch.Size([3, 141, 116, 169])\n",
      "/root/snsb/data/mri/DUIH_0097 torch.Size([1, 138, 112, 161]) torch.Size([3, 138, 112, 161])\n",
      "/root/snsb/data/mri/DUIH_0017 torch.Size([1, 129, 114, 161]) torch.Size([3, 129, 114, 161])\n",
      "/root/snsb/data/mri/DUIH_0131 torch.Size([1, 151, 113, 155]) torch.Size([3, 151, 113, 155])\n",
      "/root/snsb/data/mri/DUIH_0072 torch.Size([1, 137, 113, 164]) torch.Size([3, 137, 113, 164])\n",
      "/root/snsb/data/mri/DUIH_0137 torch.Size([1, 148, 116, 153]) torch.Size([3, 148, 116, 153])\n",
      "/root/snsb/data/mri/DUIH_0074 torch.Size([1, 132, 106, 153]) torch.Size([3, 132, 106, 153])\n",
      "/root/snsb/data/mri/DUIH_0101 torch.Size([1, 127, 104, 151]) torch.Size([3, 127, 104, 151])\n",
      "/root/snsb/data/mri/DUIH_0150 torch.Size([1, 134, 107, 148]) torch.Size([3, 134, 107, 148])\n",
      "/root/snsb/data/mri/DUIH_0057 torch.Size([1, 139, 115, 157]) torch.Size([3, 139, 115, 157])\n",
      "/root/snsb/data/mri/DUIH_0022 torch.Size([1, 136, 112, 151]) torch.Size([3, 136, 112, 151])\n",
      "/root/snsb/data/mri/DUIH_0167 torch.Size([1, 137, 109, 156]) torch.Size([3, 137, 109, 156])\n",
      "/root/snsb/data/mri/DUIH_0054 torch.Size([1, 129, 109, 157]) torch.Size([3, 129, 109, 157])\n",
      "/root/snsb/data/mri/DUIH_0100 torch.Size([1, 142, 106, 162]) torch.Size([3, 142, 106, 162])\n",
      "/root/snsb/data/mri/DUIH_0145 torch.Size([1, 134, 111, 160]) torch.Size([3, 134, 111, 160])\n",
      "/root/snsb/data/mri/DUIH_0076 torch.Size([1, 131, 108, 164]) torch.Size([3, 131, 108, 164])\n",
      "/root/snsb/data/mri/DUIH_0043 torch.Size([1, 129, 107, 145]) torch.Size([3, 129, 107, 145])\n",
      "/root/snsb/data/mri/DUIH_0056 torch.Size([1, 136, 114, 167]) torch.Size([3, 136, 114, 167])\n",
      "/root/snsb/data/mri/DUIH_0122 torch.Size([1, 136, 116, 157]) torch.Size([3, 136, 116, 157])\n",
      "/root/snsb/data/mri/DUIH_0139 torch.Size([1, 137, 105, 169]) torch.Size([3, 137, 105, 169])\n",
      "/root/snsb/data/mri/DUIH_0108 torch.Size([1, 140, 110, 156]) torch.Size([3, 140, 110, 156])\n",
      "/root/snsb/data/mri/DUIH_0010 torch.Size([1, 142, 117, 177]) torch.Size([3, 142, 117, 177])\n",
      "/root/snsb/data/mri/DUIH_0041 torch.Size([1, 126, 101, 147]) torch.Size([3, 126, 101, 147])\n",
      "/root/snsb/data/mri/DUIH_0062 torch.Size([1, 139, 106, 159]) torch.Size([3, 139, 106, 159])\n",
      "/root/snsb/data/mri/DUIH_0045 torch.Size([1, 144, 121, 159]) torch.Size([3, 144, 121, 159])\n",
      "/root/snsb/data/mri/DUIH_0116 torch.Size([1, 128, 103, 155]) torch.Size([3, 128, 103, 155])\n",
      "/root/snsb/data/mri/DUIH_0012 torch.Size([1, 121, 107, 150]) torch.Size([3, 121, 107, 150])\n",
      "/root/snsb/data/mri/DUIH_0105 torch.Size([1, 129, 117, 150]) torch.Size([3, 129, 117, 150])\n",
      "/root/snsb/data/mri/DUIH_0130 torch.Size([1, 133, 108, 164]) torch.Size([3, 133, 108, 164])\n",
      "/root/snsb/data/mri/DUIH_0104 torch.Size([1, 136, 114, 164]) torch.Size([3, 136, 114, 164])\n",
      "/root/snsb/data/mri/DUIH_0007 torch.Size([1, 132, 107, 164]) torch.Size([3, 132, 107, 164])\n",
      "/root/snsb/data/mri/DUIH_0151 torch.Size([1, 133, 108, 158]) torch.Size([3, 133, 108, 158])\n",
      "/root/snsb/data/mri/DUIH_0156 torch.Size([1, 134, 110, 151]) torch.Size([3, 134, 110, 151])\n",
      "/root/snsb/data/mri/DUIH_0126 torch.Size([1, 129, 105, 151]) torch.Size([3, 129, 105, 151])\n",
      "/root/snsb/data/mri/DUIH_0013 torch.Size([1, 136, 110, 150]) torch.Size([3, 136, 110, 150])\n",
      "/root/snsb/data/mri/DUIH_0107 torch.Size([1, 138, 101, 155]) torch.Size([3, 138, 101, 155])\n",
      "/root/snsb/data/mri/DUIH_0120 torch.Size([1, 134, 107, 139]) torch.Size([3, 134, 107, 139])\n",
      "/root/snsb/data/mri/DUIH_0028 torch.Size([1, 125, 112, 165]) torch.Size([3, 125, 112, 165])\n",
      "/root/snsb/data/mri/DUIH_0094 torch.Size([1, 122, 111, 159]) torch.Size([3, 122, 111, 159])\n",
      "/root/snsb/data/mri/DUIH_0129 torch.Size([1, 148, 111, 157]) torch.Size([3, 148, 111, 157])\n",
      "/root/snsb/data/mri/DUIH_0158 torch.Size([1, 129, 104, 151]) torch.Size([3, 129, 104, 151])\n",
      "/root/snsb/data/mri/DUIH_0144 torch.Size([1, 135, 118, 151]) torch.Size([3, 135, 118, 151])\n",
      "/root/snsb/data/mri/DUIH_0015 torch.Size([1, 133, 116, 165]) torch.Size([3, 133, 116, 165])\n",
      "/root/snsb/data/mri/DUIH_0103 torch.Size([1, 138, 113, 169]) torch.Size([3, 138, 113, 169])\n",
      "/root/snsb/data/mri/DUIH_0058 torch.Size([1, 128, 107, 164]) torch.Size([3, 128, 107, 164])\n",
      "/root/snsb/data/mri/DUIH_0136 torch.Size([1, 131, 104, 145]) torch.Size([3, 131, 104, 145])\n",
      "/root/snsb/data/mri/DUIH_0001 torch.Size([1, 128, 111, 166]) torch.Size([3, 128, 111, 166])\n",
      "/root/snsb/data/mri/fsaverage torch.Size([1, 140, 127, 175]) torch.Size([3, 140, 127, 175])\n",
      "/root/snsb/data/mri/DUIH_0117 torch.Size([1, 126, 106, 156]) torch.Size([3, 126, 106, 156])\n",
      "/root/snsb/data/mri/DUIH_0065 torch.Size([1, 127, 105, 156]) torch.Size([3, 127, 105, 156])\n",
      "/root/snsb/data/mri/DUIH_0118 torch.Size([1, 129, 105, 151]) torch.Size([3, 129, 105, 151])\n",
      "/root/snsb/data/mri/DUIH_0127 torch.Size([1, 134, 112, 156]) torch.Size([3, 134, 112, 156])\n",
      "/root/snsb/data/mri/DUIH_0021 torch.Size([1, 142, 125, 161]) torch.Size([3, 142, 125, 161])\n",
      "/root/snsb/data/mri/DUIH_0143 torch.Size([1, 142, 105, 152]) torch.Size([3, 142, 105, 152])\n",
      "/root/snsb/data/mri/DUIH_0066 torch.Size([1, 137, 108, 155]) torch.Size([3, 137, 108, 155])\n",
      "/root/snsb/data/mri/DUIH_0060 torch.Size([1, 138, 111, 164]) torch.Size([3, 138, 111, 164])\n",
      "/root/snsb/data/mri/DUIH_0090 torch.Size([1, 134, 115, 155]) torch.Size([3, 134, 115, 155])\n",
      "/root/snsb/data/mri/DUIH_0055 torch.Size([1, 133, 108, 152]) torch.Size([3, 133, 108, 152])\n",
      "/root/snsb/data/mri/DUIH_0138 torch.Size([1, 139, 105, 157]) torch.Size([3, 139, 105, 157])\n",
      "/root/snsb/data/mri/DUIH_0162 torch.Size([1, 126, 99, 159]) torch.Size([3, 126, 99, 159])\n",
      "/root/snsb/data/mri/DUIH_0078 torch.Size([1, 126, 111, 164]) torch.Size([3, 126, 111, 164])\n",
      "/root/snsb/data/mri/DUIH_0142 torch.Size([1, 141, 109, 160]) torch.Size([3, 141, 109, 160])\n",
      "/root/snsb/data/mri/DUIH_0027 torch.Size([1, 137, 110, 154]) torch.Size([3, 137, 110, 154])\n",
      "/root/snsb/data/mri/DUIH_0002 torch.Size([1, 143, 109, 162]) torch.Size([3, 143, 109, 162])\n",
      "/root/snsb/data/mri/DUIH_0082 torch.Size([1, 137, 108, 162]) torch.Size([3, 137, 108, 162])\n",
      "/root/snsb/data/mri/DUIH_0075 torch.Size([1, 140, 114, 156]) torch.Size([3, 140, 114, 156])\n",
      "/root/snsb/data/mri/DUIH_0042 torch.Size([1, 135, 104, 145]) torch.Size([3, 135, 104, 145])\n",
      "/root/snsb/data/mri/DUIH_0079 torch.Size([1, 143, 116, 159]) torch.Size([3, 143, 116, 159])\n",
      "/root/snsb/data/mri/DUIH_0102 torch.Size([1, 135, 108, 154]) torch.Size([3, 135, 108, 154])\n",
      "/root/snsb/data/mri/DUIH_0048 torch.Size([1, 140, 117, 165]) torch.Size([3, 140, 117, 165])\n",
      "/root/snsb/data/mri/DUIH_0008 torch.Size([1, 130, 108, 161]) torch.Size([3, 130, 108, 161])\n",
      "/root/snsb/data/mri/DUIH_0160 torch.Size([1, 138, 118, 154]) torch.Size([3, 138, 118, 154])\n",
      "/root/snsb/data/mri/DUIH_0006 torch.Size([1, 136, 112, 156]) torch.Size([3, 136, 112, 156])\n",
      "/root/snsb/data/mri/DUIH_0067 torch.Size([1, 142, 112, 157]) torch.Size([3, 142, 112, 157])\n",
      "/root/snsb/data/mri/DUIH_0046 torch.Size([1, 136, 110, 159]) torch.Size([3, 136, 110, 159])\n",
      "/root/snsb/data/mri/DUIH_0036 torch.Size([1, 134, 99, 153]) torch.Size([3, 134, 99, 153])\n",
      "/root/snsb/data/mri/DUIH_0111 torch.Size([1, 144, 113, 162]) torch.Size([3, 144, 113, 162])\n",
      "/root/snsb/data/mri/DUIH_0084 torch.Size([1, 153, 120, 155]) torch.Size([3, 153, 120, 155])\n",
      "/root/snsb/data/mri/DUIH_0133 torch.Size([1, 136, 109, 163]) torch.Size([3, 136, 109, 163])\n",
      "/root/snsb/data/mri/DUIH_0152 torch.Size([1, 136, 109, 164]) torch.Size([3, 136, 109, 164])\n",
      "/root/snsb/data/mri/DUIH_0086 torch.Size([1, 132, 102, 150]) torch.Size([3, 132, 102, 150])\n",
      "/root/snsb/data/mri/DUIH_0141 torch.Size([1, 130, 102, 152]) torch.Size([3, 130, 102, 152])\n",
      "134.5151515151515 110.18787878787879 134.5151515151515 157.21818181818182\n"
     ]
    }
   ],
   "source": [
    "import glob\n",
    "\n",
    "\n",
    "li = glob.glob('/root/snsb/data/mri/*')\n",
    "li\n",
    "\n",
    "avg_H = 0.\n",
    "avg_W = 0.\n",
    "avg_D = 0.\n",
    "for path in li:\n",
    "    path_d = {\n",
    "            'img': f'{path}/T1.nii.gz',\n",
    "            'seg': f'{path}/aseg.nii.gz'\n",
    "        }\n",
    "    \n",
    "    try:\n",
    "        d = full_transform(path_d)\n",
    "    except Exception as ex:\n",
    "        print(path_d)\n",
    "        \n",
    "    \n",
    "    print(path, d['img'].shape, d['seg'].shape)\n",
    "    C, H, W, D = d['seg'].shape\n",
    "    \n",
    "    avg_H += H\n",
    "    avg_W += W\n",
    "    avg_D += D\n",
    "    \n",
    "\n",
    "deno = len(li)\n",
    "\n",
    "avg_H /= deno\n",
    "avg_W /= deno\n",
    "avg_D /= deno\n",
    "\n",
    "print(avg_H, avg_W, avg_H, avg_D)\n",
    "    \n",
    "# full_transform\n",
    "\n"
   ]
  },
  {
   "cell_type": "code",
   "execution_count": 40,
   "metadata": {},
   "outputs": [
    {
     "data": {
      "text/plain": [
       "112"
      ]
     },
     "execution_count": 40,
     "metadata": {},
     "output_type": "execute_result"
    }
   ],
   "source": []
  }
 ],
 "metadata": {
  "kernelspec": {
   "display_name": "SNSB",
   "language": "python",
   "name": "python3"
  },
  "language_info": {
   "codemirror_mode": {
    "name": "ipython",
    "version": 3
   },
   "file_extension": ".py",
   "mimetype": "text/x-python",
   "name": "python",
   "nbconvert_exporter": "python",
   "pygments_lexer": "ipython3",
   "version": "3.11.5"
  }
 },
 "nbformat": 4,
 "nbformat_minor": 2
}
