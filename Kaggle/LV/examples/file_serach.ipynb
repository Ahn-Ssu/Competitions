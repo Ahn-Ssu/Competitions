{
 "cells": [
  {
   "cell_type": "code",
   "execution_count": 27,
   "metadata": {},
   "outputs": [],
   "source": [
    "import glob"
   ]
  },
  {
   "cell_type": "code",
   "execution_count": 28,
   "metadata": {},
   "outputs": [
    {
     "data": {
      "text/plain": [
       "164"
      ]
     },
     "execution_count": 28,
     "metadata": {},
     "output_type": "execute_result"
    }
   ],
   "source": [
    "aseg_list = glob.glob(r'D:\\DUIH-AWS\\DUIH-AWS\\FSres\\*\\mri\\aseg.mgz')\n",
    "len(aseg_list)#, aseg_list# 4, 32 없음 18 19"
   ]
  },
  {
   "cell_type": "code",
   "execution_count": 29,
   "metadata": {},
   "outputs": [],
   "source": [
    "t1_list = glob.glob(r'D:\\DUIH-AWS\\DUIH-AWS\\FSres\\*\\mri\\T1.mgz')\n",
    "# len(t1_list), t1_list"
   ]
  },
  {
   "cell_type": "code",
   "execution_count": 25,
   "metadata": {},
   "outputs": [
    {
     "data": {
      "text/plain": [
       "(168,\n",
       " ['D:\\\\DUIH-AWS\\\\DUIH-AWS\\\\FSres\\\\DUIH_0001\\\\mri\\\\aseg.mgz',\n",
       "  'D:\\\\DUIH-AWS\\\\DUIH-AWS\\\\FSres\\\\DUIH_0002\\\\mri\\\\aseg.mgz',\n",
       "  'D:\\\\DUIH-AWS\\\\DUIH-AWS\\\\FSres\\\\DUIH_0003\\\\mri\\\\aseg.mgz',\n",
       "  'D:\\\\DUIH-AWS\\\\DUIH-AWS\\\\FSres\\\\DUIH_0005\\\\mri\\\\aseg.mgz',\n",
       "  None,\n",
       "  None,\n",
       "  'D:\\\\DUIH-AWS\\\\DUIH-AWS\\\\FSres\\\\DUIH_0006\\\\mri\\\\aseg.mgz',\n",
       "  'D:\\\\DUIH-AWS\\\\DUIH-AWS\\\\FSres\\\\DUIH_0007\\\\mri\\\\aseg.mgz',\n",
       "  'D:\\\\DUIH-AWS\\\\DUIH-AWS\\\\FSres\\\\DUIH_0008\\\\mri\\\\aseg.mgz',\n",
       "  'D:\\\\DUIH-AWS\\\\DUIH-AWS\\\\FSres\\\\DUIH_0009\\\\mri\\\\aseg.mgz',\n",
       "  'D:\\\\DUIH-AWS\\\\DUIH-AWS\\\\FSres\\\\DUIH_0010\\\\mri\\\\aseg.mgz',\n",
       "  'D:\\\\DUIH-AWS\\\\DUIH-AWS\\\\FSres\\\\DUIH_0011\\\\mri\\\\aseg.mgz',\n",
       "  'D:\\\\DUIH-AWS\\\\DUIH-AWS\\\\FSres\\\\DUIH_0012\\\\mri\\\\aseg.mgz',\n",
       "  'D:\\\\DUIH-AWS\\\\DUIH-AWS\\\\FSres\\\\DUIH_0013\\\\mri\\\\aseg.mgz',\n",
       "  'D:\\\\DUIH-AWS\\\\DUIH-AWS\\\\FSres\\\\DUIH_0014\\\\mri\\\\aseg.mgz',\n",
       "  'D:\\\\DUIH-AWS\\\\DUIH-AWS\\\\FSres\\\\DUIH_0015\\\\mri\\\\aseg.mgz',\n",
       "  'D:\\\\DUIH-AWS\\\\DUIH-AWS\\\\FSres\\\\DUIH_0016\\\\mri\\\\aseg.mgz',\n",
       "  None,\n",
       "  None,\n",
       "  'D:\\\\DUIH-AWS\\\\DUIH-AWS\\\\FSres\\\\DUIH_0017\\\\mri\\\\aseg.mgz',\n",
       "  None,\n",
       "  None,\n",
       "  'D:\\\\DUIH-AWS\\\\DUIH-AWS\\\\FSres\\\\DUIH_0020\\\\mri\\\\aseg.mgz',\n",
       "  'D:\\\\DUIH-AWS\\\\DUIH-AWS\\\\FSres\\\\DUIH_0021\\\\mri\\\\aseg.mgz',\n",
       "  'D:\\\\DUIH-AWS\\\\DUIH-AWS\\\\FSres\\\\DUIH_0022\\\\mri\\\\aseg.mgz',\n",
       "  'D:\\\\DUIH-AWS\\\\DUIH-AWS\\\\FSres\\\\DUIH_0023\\\\mri\\\\aseg.mgz',\n",
       "  'D:\\\\DUIH-AWS\\\\DUIH-AWS\\\\FSres\\\\DUIH_0024\\\\mri\\\\aseg.mgz',\n",
       "  'D:\\\\DUIH-AWS\\\\DUIH-AWS\\\\FSres\\\\DUIH_0025\\\\mri\\\\aseg.mgz',\n",
       "  'D:\\\\DUIH-AWS\\\\DUIH-AWS\\\\FSres\\\\DUIH_0026\\\\mri\\\\aseg.mgz',\n",
       "  'D:\\\\DUIH-AWS\\\\DUIH-AWS\\\\FSres\\\\DUIH_0027\\\\mri\\\\aseg.mgz',\n",
       "  'D:\\\\DUIH-AWS\\\\DUIH-AWS\\\\FSres\\\\DUIH_0028\\\\mri\\\\aseg.mgz',\n",
       "  'D:\\\\DUIH-AWS\\\\DUIH-AWS\\\\FSres\\\\DUIH_0029\\\\mri\\\\aseg.mgz',\n",
       "  'D:\\\\DUIH-AWS\\\\DUIH-AWS\\\\FSres\\\\DUIH_0030\\\\mri\\\\aseg.mgz',\n",
       "  'D:\\\\DUIH-AWS\\\\DUIH-AWS\\\\FSres\\\\DUIH_0031\\\\mri\\\\aseg.mgz',\n",
       "  'D:\\\\DUIH-AWS\\\\DUIH-AWS\\\\FSres\\\\DUIH_0033\\\\mri\\\\aseg.mgz',\n",
       "  'D:\\\\DUIH-AWS\\\\DUIH-AWS\\\\FSres\\\\DUIH_0034\\\\mri\\\\aseg.mgz',\n",
       "  'D:\\\\DUIH-AWS\\\\DUIH-AWS\\\\FSres\\\\DUIH_0035\\\\mri\\\\aseg.mgz',\n",
       "  'D:\\\\DUIH-AWS\\\\DUIH-AWS\\\\FSres\\\\DUIH_0036\\\\mri\\\\aseg.mgz',\n",
       "  'D:\\\\DUIH-AWS\\\\DUIH-AWS\\\\FSres\\\\DUIH_0037\\\\mri\\\\aseg.mgz',\n",
       "  'D:\\\\DUIH-AWS\\\\DUIH-AWS\\\\FSres\\\\DUIH_0038\\\\mri\\\\aseg.mgz',\n",
       "  'D:\\\\DUIH-AWS\\\\DUIH-AWS\\\\FSres\\\\DUIH_0039\\\\mri\\\\aseg.mgz',\n",
       "  'D:\\\\DUIH-AWS\\\\DUIH-AWS\\\\FSres\\\\DUIH_0040\\\\mri\\\\aseg.mgz',\n",
       "  'D:\\\\DUIH-AWS\\\\DUIH-AWS\\\\FSres\\\\DUIH_0041\\\\mri\\\\aseg.mgz',\n",
       "  'D:\\\\DUIH-AWS\\\\DUIH-AWS\\\\FSres\\\\DUIH_0042\\\\mri\\\\aseg.mgz',\n",
       "  'D:\\\\DUIH-AWS\\\\DUIH-AWS\\\\FSres\\\\DUIH_0043\\\\mri\\\\aseg.mgz',\n",
       "  'D:\\\\DUIH-AWS\\\\DUIH-AWS\\\\FSres\\\\DUIH_0044\\\\mri\\\\aseg.mgz',\n",
       "  'D:\\\\DUIH-AWS\\\\DUIH-AWS\\\\FSres\\\\DUIH_0045\\\\mri\\\\aseg.mgz',\n",
       "  'D:\\\\DUIH-AWS\\\\DUIH-AWS\\\\FSres\\\\DUIH_0046\\\\mri\\\\aseg.mgz',\n",
       "  'D:\\\\DUIH-AWS\\\\DUIH-AWS\\\\FSres\\\\DUIH_0047\\\\mri\\\\aseg.mgz',\n",
       "  'D:\\\\DUIH-AWS\\\\DUIH-AWS\\\\FSres\\\\DUIH_0048\\\\mri\\\\aseg.mgz',\n",
       "  'D:\\\\DUIH-AWS\\\\DUIH-AWS\\\\FSres\\\\DUIH_0049\\\\mri\\\\aseg.mgz',\n",
       "  'D:\\\\DUIH-AWS\\\\DUIH-AWS\\\\FSres\\\\DUIH_0050\\\\mri\\\\aseg.mgz',\n",
       "  'D:\\\\DUIH-AWS\\\\DUIH-AWS\\\\FSres\\\\DUIH_0051\\\\mri\\\\aseg.mgz',\n",
       "  'D:\\\\DUIH-AWS\\\\DUIH-AWS\\\\FSres\\\\DUIH_0052\\\\mri\\\\aseg.mgz',\n",
       "  'D:\\\\DUIH-AWS\\\\DUIH-AWS\\\\FSres\\\\DUIH_0053\\\\mri\\\\aseg.mgz',\n",
       "  'D:\\\\DUIH-AWS\\\\DUIH-AWS\\\\FSres\\\\DUIH_0054\\\\mri\\\\aseg.mgz',\n",
       "  'D:\\\\DUIH-AWS\\\\DUIH-AWS\\\\FSres\\\\DUIH_0055\\\\mri\\\\aseg.mgz',\n",
       "  'D:\\\\DUIH-AWS\\\\DUIH-AWS\\\\FSres\\\\DUIH_0056\\\\mri\\\\aseg.mgz',\n",
       "  'D:\\\\DUIH-AWS\\\\DUIH-AWS\\\\FSres\\\\DUIH_0057\\\\mri\\\\aseg.mgz',\n",
       "  'D:\\\\DUIH-AWS\\\\DUIH-AWS\\\\FSres\\\\DUIH_0058\\\\mri\\\\aseg.mgz',\n",
       "  'D:\\\\DUIH-AWS\\\\DUIH-AWS\\\\FSres\\\\DUIH_0059\\\\mri\\\\aseg.mgz',\n",
       "  'D:\\\\DUIH-AWS\\\\DUIH-AWS\\\\FSres\\\\DUIH_0060\\\\mri\\\\aseg.mgz',\n",
       "  'D:\\\\DUIH-AWS\\\\DUIH-AWS\\\\FSres\\\\DUIH_0061\\\\mri\\\\aseg.mgz',\n",
       "  'D:\\\\DUIH-AWS\\\\DUIH-AWS\\\\FSres\\\\DUIH_0062\\\\mri\\\\aseg.mgz',\n",
       "  'D:\\\\DUIH-AWS\\\\DUIH-AWS\\\\FSres\\\\DUIH_0063\\\\mri\\\\aseg.mgz',\n",
       "  'D:\\\\DUIH-AWS\\\\DUIH-AWS\\\\FSres\\\\DUIH_0064\\\\mri\\\\aseg.mgz',\n",
       "  'D:\\\\DUIH-AWS\\\\DUIH-AWS\\\\FSres\\\\DUIH_0065\\\\mri\\\\aseg.mgz',\n",
       "  'D:\\\\DUIH-AWS\\\\DUIH-AWS\\\\FSres\\\\DUIH_0066\\\\mri\\\\aseg.mgz',\n",
       "  'D:\\\\DUIH-AWS\\\\DUIH-AWS\\\\FSres\\\\DUIH_0067\\\\mri\\\\aseg.mgz',\n",
       "  'D:\\\\DUIH-AWS\\\\DUIH-AWS\\\\FSres\\\\DUIH_0068\\\\mri\\\\aseg.mgz',\n",
       "  'D:\\\\DUIH-AWS\\\\DUIH-AWS\\\\FSres\\\\DUIH_0069\\\\mri\\\\aseg.mgz',\n",
       "  'D:\\\\DUIH-AWS\\\\DUIH-AWS\\\\FSres\\\\DUIH_0070\\\\mri\\\\aseg.mgz',\n",
       "  'D:\\\\DUIH-AWS\\\\DUIH-AWS\\\\FSres\\\\DUIH_0071\\\\mri\\\\aseg.mgz',\n",
       "  'D:\\\\DUIH-AWS\\\\DUIH-AWS\\\\FSres\\\\DUIH_0072\\\\mri\\\\aseg.mgz',\n",
       "  'D:\\\\DUIH-AWS\\\\DUIH-AWS\\\\FSres\\\\DUIH_0073\\\\mri\\\\aseg.mgz',\n",
       "  'D:\\\\DUIH-AWS\\\\DUIH-AWS\\\\FSres\\\\DUIH_0074\\\\mri\\\\aseg.mgz',\n",
       "  'D:\\\\DUIH-AWS\\\\DUIH-AWS\\\\FSres\\\\DUIH_0075\\\\mri\\\\aseg.mgz',\n",
       "  'D:\\\\DUIH-AWS\\\\DUIH-AWS\\\\FSres\\\\DUIH_0076\\\\mri\\\\aseg.mgz',\n",
       "  'D:\\\\DUIH-AWS\\\\DUIH-AWS\\\\FSres\\\\DUIH_0077\\\\mri\\\\aseg.mgz',\n",
       "  'D:\\\\DUIH-AWS\\\\DUIH-AWS\\\\FSres\\\\DUIH_0078\\\\mri\\\\aseg.mgz',\n",
       "  'D:\\\\DUIH-AWS\\\\DUIH-AWS\\\\FSres\\\\DUIH_0079\\\\mri\\\\aseg.mgz',\n",
       "  'D:\\\\DUIH-AWS\\\\DUIH-AWS\\\\FSres\\\\DUIH_0080\\\\mri\\\\aseg.mgz',\n",
       "  'D:\\\\DUIH-AWS\\\\DUIH-AWS\\\\FSres\\\\DUIH_0081\\\\mri\\\\aseg.mgz',\n",
       "  'D:\\\\DUIH-AWS\\\\DUIH-AWS\\\\FSres\\\\DUIH_0082\\\\mri\\\\aseg.mgz',\n",
       "  'D:\\\\DUIH-AWS\\\\DUIH-AWS\\\\FSres\\\\DUIH_0083\\\\mri\\\\aseg.mgz',\n",
       "  'D:\\\\DUIH-AWS\\\\DUIH-AWS\\\\FSres\\\\DUIH_0084\\\\mri\\\\aseg.mgz',\n",
       "  'D:\\\\DUIH-AWS\\\\DUIH-AWS\\\\FSres\\\\DUIH_0085\\\\mri\\\\aseg.mgz',\n",
       "  'D:\\\\DUIH-AWS\\\\DUIH-AWS\\\\FSres\\\\DUIH_0086\\\\mri\\\\aseg.mgz',\n",
       "  'D:\\\\DUIH-AWS\\\\DUIH-AWS\\\\FSres\\\\DUIH_0087\\\\mri\\\\aseg.mgz',\n",
       "  'D:\\\\DUIH-AWS\\\\DUIH-AWS\\\\FSres\\\\DUIH_0088\\\\mri\\\\aseg.mgz',\n",
       "  'D:\\\\DUIH-AWS\\\\DUIH-AWS\\\\FSres\\\\DUIH_0089\\\\mri\\\\aseg.mgz',\n",
       "  'D:\\\\DUIH-AWS\\\\DUIH-AWS\\\\FSres\\\\DUIH_0090\\\\mri\\\\aseg.mgz',\n",
       "  'D:\\\\DUIH-AWS\\\\DUIH-AWS\\\\FSres\\\\DUIH_0091\\\\mri\\\\aseg.mgz',\n",
       "  'D:\\\\DUIH-AWS\\\\DUIH-AWS\\\\FSres\\\\DUIH_0092\\\\mri\\\\aseg.mgz',\n",
       "  'D:\\\\DUIH-AWS\\\\DUIH-AWS\\\\FSres\\\\DUIH_0093\\\\mri\\\\aseg.mgz',\n",
       "  'D:\\\\DUIH-AWS\\\\DUIH-AWS\\\\FSres\\\\DUIH_0094\\\\mri\\\\aseg.mgz',\n",
       "  'D:\\\\DUIH-AWS\\\\DUIH-AWS\\\\FSres\\\\DUIH_0095\\\\mri\\\\aseg.mgz',\n",
       "  'D:\\\\DUIH-AWS\\\\DUIH-AWS\\\\FSres\\\\DUIH_0096\\\\mri\\\\aseg.mgz',\n",
       "  'D:\\\\DUIH-AWS\\\\DUIH-AWS\\\\FSres\\\\DUIH_0097\\\\mri\\\\aseg.mgz',\n",
       "  'D:\\\\DUIH-AWS\\\\DUIH-AWS\\\\FSres\\\\DUIH_0098\\\\mri\\\\aseg.mgz',\n",
       "  'D:\\\\DUIH-AWS\\\\DUIH-AWS\\\\FSres\\\\DUIH_0099\\\\mri\\\\aseg.mgz',\n",
       "  'D:\\\\DUIH-AWS\\\\DUIH-AWS\\\\FSres\\\\DUIH_0100\\\\mri\\\\aseg.mgz',\n",
       "  'D:\\\\DUIH-AWS\\\\DUIH-AWS\\\\FSres\\\\DUIH_0101\\\\mri\\\\aseg.mgz',\n",
       "  'D:\\\\DUIH-AWS\\\\DUIH-AWS\\\\FSres\\\\DUIH_0102\\\\mri\\\\aseg.mgz',\n",
       "  'D:\\\\DUIH-AWS\\\\DUIH-AWS\\\\FSres\\\\DUIH_0103\\\\mri\\\\aseg.mgz',\n",
       "  'D:\\\\DUIH-AWS\\\\DUIH-AWS\\\\FSres\\\\DUIH_0104\\\\mri\\\\aseg.mgz',\n",
       "  'D:\\\\DUIH-AWS\\\\DUIH-AWS\\\\FSres\\\\DUIH_0105\\\\mri\\\\aseg.mgz',\n",
       "  'D:\\\\DUIH-AWS\\\\DUIH-AWS\\\\FSres\\\\DUIH_0106\\\\mri\\\\aseg.mgz',\n",
       "  'D:\\\\DUIH-AWS\\\\DUIH-AWS\\\\FSres\\\\DUIH_0107\\\\mri\\\\aseg.mgz',\n",
       "  'D:\\\\DUIH-AWS\\\\DUIH-AWS\\\\FSres\\\\DUIH_0108\\\\mri\\\\aseg.mgz',\n",
       "  'D:\\\\DUIH-AWS\\\\DUIH-AWS\\\\FSres\\\\DUIH_0109\\\\mri\\\\aseg.mgz',\n",
       "  'D:\\\\DUIH-AWS\\\\DUIH-AWS\\\\FSres\\\\DUIH_0110\\\\mri\\\\aseg.mgz',\n",
       "  'D:\\\\DUIH-AWS\\\\DUIH-AWS\\\\FSres\\\\DUIH_0111\\\\mri\\\\aseg.mgz',\n",
       "  'D:\\\\DUIH-AWS\\\\DUIH-AWS\\\\FSres\\\\DUIH_0112\\\\mri\\\\aseg.mgz',\n",
       "  'D:\\\\DUIH-AWS\\\\DUIH-AWS\\\\FSres\\\\DUIH_0113\\\\mri\\\\aseg.mgz',\n",
       "  'D:\\\\DUIH-AWS\\\\DUIH-AWS\\\\FSres\\\\DUIH_0114\\\\mri\\\\aseg.mgz',\n",
       "  'D:\\\\DUIH-AWS\\\\DUIH-AWS\\\\FSres\\\\DUIH_0115\\\\mri\\\\aseg.mgz',\n",
       "  'D:\\\\DUIH-AWS\\\\DUIH-AWS\\\\FSres\\\\DUIH_0116\\\\mri\\\\aseg.mgz',\n",
       "  'D:\\\\DUIH-AWS\\\\DUIH-AWS\\\\FSres\\\\DUIH_0117\\\\mri\\\\aseg.mgz',\n",
       "  'D:\\\\DUIH-AWS\\\\DUIH-AWS\\\\FSres\\\\DUIH_0118\\\\mri\\\\aseg.mgz',\n",
       "  'D:\\\\DUIH-AWS\\\\DUIH-AWS\\\\FSres\\\\DUIH_0119\\\\mri\\\\aseg.mgz',\n",
       "  'D:\\\\DUIH-AWS\\\\DUIH-AWS\\\\FSres\\\\DUIH_0120\\\\mri\\\\aseg.mgz',\n",
       "  'D:\\\\DUIH-AWS\\\\DUIH-AWS\\\\FSres\\\\DUIH_0121\\\\mri\\\\aseg.mgz',\n",
       "  'D:\\\\DUIH-AWS\\\\DUIH-AWS\\\\FSres\\\\DUIH_0122\\\\mri\\\\aseg.mgz',\n",
       "  'D:\\\\DUIH-AWS\\\\DUIH-AWS\\\\FSres\\\\DUIH_0123\\\\mri\\\\aseg.mgz',\n",
       "  'D:\\\\DUIH-AWS\\\\DUIH-AWS\\\\FSres\\\\DUIH_0124\\\\mri\\\\aseg.mgz',\n",
       "  'D:\\\\DUIH-AWS\\\\DUIH-AWS\\\\FSres\\\\DUIH_0125\\\\mri\\\\aseg.mgz',\n",
       "  'D:\\\\DUIH-AWS\\\\DUIH-AWS\\\\FSres\\\\DUIH_0126\\\\mri\\\\aseg.mgz',\n",
       "  'D:\\\\DUIH-AWS\\\\DUIH-AWS\\\\FSres\\\\DUIH_0127\\\\mri\\\\aseg.mgz',\n",
       "  'D:\\\\DUIH-AWS\\\\DUIH-AWS\\\\FSres\\\\DUIH_0128\\\\mri\\\\aseg.mgz',\n",
       "  'D:\\\\DUIH-AWS\\\\DUIH-AWS\\\\FSres\\\\DUIH_0129\\\\mri\\\\aseg.mgz',\n",
       "  'D:\\\\DUIH-AWS\\\\DUIH-AWS\\\\FSres\\\\DUIH_0130\\\\mri\\\\aseg.mgz',\n",
       "  'D:\\\\DUIH-AWS\\\\DUIH-AWS\\\\FSres\\\\DUIH_0131\\\\mri\\\\aseg.mgz',\n",
       "  'D:\\\\DUIH-AWS\\\\DUIH-AWS\\\\FSres\\\\DUIH_0132\\\\mri\\\\aseg.mgz',\n",
       "  'D:\\\\DUIH-AWS\\\\DUIH-AWS\\\\FSres\\\\DUIH_0133\\\\mri\\\\aseg.mgz',\n",
       "  'D:\\\\DUIH-AWS\\\\DUIH-AWS\\\\FSres\\\\DUIH_0134\\\\mri\\\\aseg.mgz',\n",
       "  'D:\\\\DUIH-AWS\\\\DUIH-AWS\\\\FSres\\\\DUIH_0135\\\\mri\\\\aseg.mgz',\n",
       "  'D:\\\\DUIH-AWS\\\\DUIH-AWS\\\\FSres\\\\DUIH_0136\\\\mri\\\\aseg.mgz',\n",
       "  'D:\\\\DUIH-AWS\\\\DUIH-AWS\\\\FSres\\\\DUIH_0137\\\\mri\\\\aseg.mgz',\n",
       "  'D:\\\\DUIH-AWS\\\\DUIH-AWS\\\\FSres\\\\DUIH_0138\\\\mri\\\\aseg.mgz',\n",
       "  'D:\\\\DUIH-AWS\\\\DUIH-AWS\\\\FSres\\\\DUIH_0139\\\\mri\\\\aseg.mgz',\n",
       "  'D:\\\\DUIH-AWS\\\\DUIH-AWS\\\\FSres\\\\DUIH_0140\\\\mri\\\\aseg.mgz',\n",
       "  'D:\\\\DUIH-AWS\\\\DUIH-AWS\\\\FSres\\\\DUIH_0141\\\\mri\\\\aseg.mgz',\n",
       "  'D:\\\\DUIH-AWS\\\\DUIH-AWS\\\\FSres\\\\DUIH_0142\\\\mri\\\\aseg.mgz',\n",
       "  'D:\\\\DUIH-AWS\\\\DUIH-AWS\\\\FSres\\\\DUIH_0143\\\\mri\\\\aseg.mgz',\n",
       "  'D:\\\\DUIH-AWS\\\\DUIH-AWS\\\\FSres\\\\DUIH_0144\\\\mri\\\\aseg.mgz',\n",
       "  'D:\\\\DUIH-AWS\\\\DUIH-AWS\\\\FSres\\\\DUIH_0145\\\\mri\\\\aseg.mgz',\n",
       "  'D:\\\\DUIH-AWS\\\\DUIH-AWS\\\\FSres\\\\DUIH_0146\\\\mri\\\\aseg.mgz',\n",
       "  'D:\\\\DUIH-AWS\\\\DUIH-AWS\\\\FSres\\\\DUIH_0147\\\\mri\\\\aseg.mgz',\n",
       "  'D:\\\\DUIH-AWS\\\\DUIH-AWS\\\\FSres\\\\DUIH_0148\\\\mri\\\\aseg.mgz',\n",
       "  'D:\\\\DUIH-AWS\\\\DUIH-AWS\\\\FSres\\\\DUIH_0149\\\\mri\\\\aseg.mgz',\n",
       "  'D:\\\\DUIH-AWS\\\\DUIH-AWS\\\\FSres\\\\DUIH_0150\\\\mri\\\\aseg.mgz',\n",
       "  'D:\\\\DUIH-AWS\\\\DUIH-AWS\\\\FSres\\\\DUIH_0151\\\\mri\\\\aseg.mgz',\n",
       "  'D:\\\\DUIH-AWS\\\\DUIH-AWS\\\\FSres\\\\DUIH_0152\\\\mri\\\\aseg.mgz',\n",
       "  'D:\\\\DUIH-AWS\\\\DUIH-AWS\\\\FSres\\\\DUIH_0153\\\\mri\\\\aseg.mgz',\n",
       "  'D:\\\\DUIH-AWS\\\\DUIH-AWS\\\\FSres\\\\DUIH_0154\\\\mri\\\\aseg.mgz',\n",
       "  'D:\\\\DUIH-AWS\\\\DUIH-AWS\\\\FSres\\\\DUIH_0155\\\\mri\\\\aseg.mgz',\n",
       "  'D:\\\\DUIH-AWS\\\\DUIH-AWS\\\\FSres\\\\DUIH_0156\\\\mri\\\\aseg.mgz',\n",
       "  'D:\\\\DUIH-AWS\\\\DUIH-AWS\\\\FSres\\\\DUIH_0157\\\\mri\\\\aseg.mgz',\n",
       "  'D:\\\\DUIH-AWS\\\\DUIH-AWS\\\\FSres\\\\DUIH_0158\\\\mri\\\\aseg.mgz',\n",
       "  'D:\\\\DUIH-AWS\\\\DUIH-AWS\\\\FSres\\\\DUIH_0159\\\\mri\\\\aseg.mgz',\n",
       "  'D:\\\\DUIH-AWS\\\\DUIH-AWS\\\\FSres\\\\DUIH_0160\\\\mri\\\\aseg.mgz',\n",
       "  'D:\\\\DUIH-AWS\\\\DUIH-AWS\\\\FSres\\\\DUIH_0161\\\\mri\\\\aseg.mgz',\n",
       "  'D:\\\\DUIH-AWS\\\\DUIH-AWS\\\\FSres\\\\DUIH_0162\\\\mri\\\\aseg.mgz',\n",
       "  'D:\\\\DUIH-AWS\\\\DUIH-AWS\\\\FSres\\\\DUIH_0163\\\\mri\\\\aseg.mgz',\n",
       "  'D:\\\\DUIH-AWS\\\\DUIH-AWS\\\\FSres\\\\DUIH_0164\\\\mri\\\\aseg.mgz',\n",
       "  'D:\\\\DUIH-AWS\\\\DUIH-AWS\\\\FSres\\\\DUIH_0165\\\\mri\\\\aseg.mgz',\n",
       "  'D:\\\\DUIH-AWS\\\\DUIH-AWS\\\\FSres\\\\DUIH_0166\\\\mri\\\\aseg.mgz'])"
      ]
     },
     "execution_count": 25,
     "metadata": {},
     "output_type": "execute_result"
    }
   ],
   "source": [
    "import shutil\n",
    "import os\n",
    "\n",
    "# aseg_list.insert(4, None)\n",
    "# aseg_list.insert(17, None)\n",
    "# aseg_list.insert(18, None)\n",
    "# t1_list.insert(19, None)\n",
    "# aseg_list.pop(-1)\n",
    "# len(aseg_list)"
   ]
  },
  {
   "cell_type": "code",
   "execution_count": 24,
   "metadata": {},
   "outputs": [
    {
     "ename": "IndexError",
     "evalue": "list index out of range",
     "output_type": "error",
     "traceback": [
      "\u001b[1;31m---------------------------------------------------------------------------\u001b[0m",
      "\u001b[1;31mIndexError\u001b[0m                                Traceback (most recent call last)",
      "\u001b[1;32md:\\DUIH-AWS\\file_serach.ipynb Cell 5\u001b[0m line \u001b[0;36m1\n\u001b[0;32m      <a href='vscode-notebook-cell:/d%3A/DUIH-AWS/file_serach.ipynb#W4sZmlsZQ%3D%3D?line=3'>4</a>\u001b[0m \u001b[39m# aseg_list.insert(31, None)\u001b[39;00m\n\u001b[0;32m      <a href='vscode-notebook-cell:/d%3A/DUIH-AWS/file_serach.ipynb#W4sZmlsZQ%3D%3D?line=5'>6</a>\u001b[0m \u001b[39mfor\u001b[39;00m idx \u001b[39min\u001b[39;00m \u001b[39mrange\u001b[39m(\u001b[39mlen\u001b[39m(t1_list)):\n\u001b[1;32m---> <a href='vscode-notebook-cell:/d%3A/DUIH-AWS/file_serach.ipynb#W4sZmlsZQ%3D%3D?line=9'>10</a>\u001b[0m     aseg_path \u001b[39m=\u001b[39m aseg_list[idx]\n\u001b[0;32m     <a href='vscode-notebook-cell:/d%3A/DUIH-AWS/file_serach.ipynb#W4sZmlsZQ%3D%3D?line=10'>11</a>\u001b[0m     t1_path \u001b[39m=\u001b[39m t1_list[idx]\n\u001b[0;32m     <a href='vscode-notebook-cell:/d%3A/DUIH-AWS/file_serach.ipynb#W4sZmlsZQ%3D%3D?line=12'>13</a>\u001b[0m     \u001b[39mif\u001b[39;00m aseg_path \u001b[39m==\u001b[39m \u001b[39mNone\u001b[39;00m \u001b[39mor\u001b[39;00m t1_path \u001b[39m==\u001b[39m \u001b[39mNone\u001b[39;00m:\n",
      "\u001b[1;31mIndexError\u001b[0m: list index out of range"
     ]
    }
   ],
   "source": [
    "target_dir = r'D:\\DUIH-AWS\\mri-label'\n",
    "\n",
    "\n",
    "# aseg_list.insert(31, None)\n",
    "\n",
    "for idx in range(len(t1_list)):\n",
    "    \n",
    "    \n",
    "    \n",
    "    aseg_path = aseg_list[idx]\n",
    "    t1_path = t1_list[idx]\n",
    "    \n",
    "    if aseg_path == None or t1_path == None:\n",
    "        continue\n",
    "    \n",
    "    # print(aseg_path, t1_path)\n",
    "    \n",
    "    \n",
    "    dir_idx = f'{target_dir}/DUIH_{idx:04d}'\n",
    "    \n",
    "    if not os.path.isdir(dir_idx):\n",
    "        os.mkdir(dir_idx)\n",
    "    shutil.copy(aseg_path, f'{dir_idx}/aseg.mgz')\n",
    "    shutil.copy(t1_path, f'{dir_idx}/T1.mgz')\n"
   ]
  },
  {
   "cell_type": "code",
   "execution_count": 37,
   "metadata": {},
   "outputs": [
    {
     "name": "stderr",
     "output_type": "stream",
     "text": [
      " 28%|██▊       | 47/167 [00:00<00:00, 466.89it/s]"
     ]
    },
    {
     "name": "stdout",
     "output_type": "stream",
     "text": [
      "aseg.mgz 없음 in D:\\DUIH-AWS\\DUIH-AWS\\FSres\\DUIH_0004\n",
      "둘중에 하나 없음\n",
      "aseg.mgz 없음 in D:\\DUIH-AWS\\DUIH-AWS\\FSres\\DUIH_0018\n",
      "T1.mgz 없음 in D:\\DUIH-AWS\\DUIH-AWS\\FSres\\DUIH_0018\n",
      "둘중에 하나 없음\n",
      "aseg.mgz 없음 in D:\\DUIH-AWS\\DUIH-AWS\\FSres\\DUIH_0019\n",
      "둘중에 하나 없음\n"
     ]
    },
    {
     "name": "stderr",
     "output_type": "stream",
     "text": [
      "100%|██████████| 167/167 [00:00<00:00, 260.45it/s]\n"
     ]
    }
   ],
   "source": [
    "from tqdm import tqdm\n",
    "\n",
    "scans = glob.glob(r'D:\\DUIH-AWS\\DUIH-AWS\\FSres\\*')\n",
    "\n",
    "target_dir = r'D:\\DUIH-AWS\\mri-label'\n",
    "\n",
    "\n",
    "for dir_path in tqdm(scans):\n",
    "    idx = dir_path.split('\\\\')[-1]\n",
    "    aseg = f'{dir_path}\\\\mri\\\\aseg.mgz'\n",
    "    t1 = f'{dir_path}\\\\mri\\\\T1.mgz'\n",
    "    \n",
    "    if not os.path.exists(aseg):\n",
    "        print(f'aseg.mgz 없음 in {dir_path}')\n",
    "        \n",
    "    if not os.path.exists(t1):\n",
    "        print(f'T1.mgz 없음 in {dir_path}')\n",
    "        \n",
    "    if not os.path.exists(t1) or not os.path.exists(aseg):\n",
    "        print('둘중에 하나 없음')\n",
    "        continue\n",
    "\n",
    "    dir_idx = f'{target_dir}/{idx}'\n",
    "    \n",
    "    if not os.path.isdir(dir_idx):\n",
    "        os.mkdir(dir_idx)\n",
    "    shutil.copy(aseg, f'{dir_idx}/aseg.mgz')\n",
    "    shutil.copy(t1, f'{dir_idx}/T1.mgz')\n"
   ]
  },
  {
   "cell_type": "code",
   "execution_count": null,
   "metadata": {},
   "outputs": [],
   "source": []
  }
 ],
 "metadata": {
  "kernelspec": {
   "display_name": "medical",
   "language": "python",
   "name": "python3"
  },
  "language_info": {
   "codemirror_mode": {
    "name": "ipython",
    "version": 3
   },
   "file_extension": ".py",
   "mimetype": "text/x-python",
   "name": "python",
   "nbconvert_exporter": "python",
   "pygments_lexer": "ipython3",
   "version": "3.11.4"
  }
 },
 "nbformat": 4,
 "nbformat_minor": 2
}
