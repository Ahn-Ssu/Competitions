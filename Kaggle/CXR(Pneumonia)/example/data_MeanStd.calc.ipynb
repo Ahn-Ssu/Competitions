{
 "cells": [
  {
   "cell_type": "code",
   "execution_count": 56,
   "metadata": {},
   "outputs": [],
   "source": [
    "import glob \n",
    "from monai.transforms import (Compose, LoadImage, EnsureType, ScaleIntensityRange, Resize)\n",
    "import torch\n",
    "import numpy as np"
   ]
  },
  {
   "cell_type": "code",
   "execution_count": 59,
   "metadata": {},
   "outputs": [
    {
     "data": {
      "text/plain": [
       "(tensor(142.3909), tensor(255.), tensor(0.))"
      ]
     },
     "execution_count": 59,
     "metadata": {},
     "output_type": "execute_result"
    }
   ],
   "source": [
    "loader = Compose([\n",
    "    LoadImage(ensure_channel_first=True),\n",
    "    EnsureType(device=None, track_meta=False),\n",
    "]\n",
    ")\n",
    "\n",
    "\n",
    "data_path = glob.glob('/root/Competitions/Kaggle/CXR(Pneumonia)/data/chest_xray/train/*/*')\n",
    "\n",
    "arr = loader(data_path[0])[0]\n",
    "\n",
    "\n",
    "torch.mean(arr), torch.max(arr), torch.min(arr)\n",
    "\n"
   ]
  },
  {
   "cell_type": "code",
   "execution_count": 43,
   "metadata": {},
   "outputs": [
    {
     "name": "stderr",
     "output_type": "stream",
     "text": [
      "100%|██████████| 5216/5216 [00:57<00:00, 91.21it/s] \n"
     ]
    }
   ],
   "source": [
    "from tqdm import tqdm\n",
    "scaler = ScaleIntensityRange(a_min=0., a_max=255., b_min=0., b_max=1., clip=True)\n",
    "\n",
    "cnt = 0 \n",
    "x = 0\n",
    "y = 0 \n",
    "mean = 0 \n",
    "var = 0\n",
    "\n",
    "for path in tqdm(data_path):\n",
    "    \n",
    "    data = loader(path)[0]\n",
    "    # print( data.size())\n",
    "    c, w, h = data.size()\n",
    "    \n",
    "    x += w\n",
    "    y += h\n",
    "    data = scaler(data)\n",
    "    data = data.flatten()\n",
    "    img_mean = np.mean(data)\n",
    "    img_var  = np.var(data)\n",
    "    \n",
    "    L = len(data)\n",
    "    cnt += L\n",
    "    mean += L * img_mean\n",
    "    var += (img_var + img_mean**2) * L    "
   ]
  },
  {
   "cell_type": "code",
   "execution_count": 45,
   "metadata": {},
   "outputs": [
    {
     "name": "stdout",
     "output_type": "stream",
     "text": [
      "0.48833443344643174 0.2442495558063171\n",
      "0.0019150369939075753 0.0009578413953188907\n",
      "\n"
     ]
    }
   ],
   "source": [
    "\n",
    "overall_mean = mean / cnt\n",
    "overall_var = var / cnt - overall_mean**2\n",
    "overall_var = np.sqrt(overall_var)\n",
    "\n",
    "print(overall_mean, overall_var)\n",
    "print(overall_mean/255, overall_var/255)\n",
    "'''\n",
    "normalization not first applied:\n",
    "    mean, std         = 124.52527598781411 62.28363538584806\n",
    "    mean/255, std/255 = 0.48833441563848673 0.24424955053273747\n",
    "    \n",
    "normalization first applied:\n",
    "    mean, std         = 0.48833443344643174 0.2442495558063171\n",
    "    mean/255, std/255 = 0.00191503699390757 0.0009578413953188\n",
    "'''\n",
    "\n",
    "print()"
   ]
  },
  {
   "cell_type": "code",
   "execution_count": 61,
   "metadata": {},
   "outputs": [
    {
     "name": "stderr",
     "output_type": "stream",
     "text": [
      "100%|██████████| 5216/5216 [01:50<00:00, 47.13it/s]"
     ]
    },
    {
     "name": "stdout",
     "output_type": "stream",
     "text": [
      "-1.0127896285845308e-07 1.0000000131623565\n",
      "-3.971724033664827e-10 0.003921568679068065\n"
     ]
    },
    {
     "name": "stderr",
     "output_type": "stream",
     "text": [
      "\n"
     ]
    }
   ],
   "source": [
    "# validity_check #\n",
    "from monai.transforms import NormalizeIntensity\n",
    "scaler = Compose([\n",
    "    ScaleIntensityRange(a_min=0., a_max=255., b_min=0., b_max=1., clip=True),\n",
    "    NormalizeIntensity(subtrahend=0.48833443344643174, divisor=0.2442495558063171)\n",
    "])\n",
    "\n",
    "cnt = 0 \n",
    "x = 0\n",
    "y = 0 \n",
    "mean = 0 \n",
    "var = 0\n",
    "\n",
    "for path in tqdm(data_path):\n",
    "    \n",
    "    data = loader(path)[0]\n",
    "    c, w, h = data.size()\n",
    "    \n",
    "    x += w\n",
    "    y += h\n",
    "    data = scaler(data)\n",
    "    data = data.flatten()\n",
    "    img_mean = np.mean(data)\n",
    "    img_var  = np.var(data)\n",
    "    \n",
    "    L = len(data)\n",
    "    cnt += L\n",
    "    mean += L * img_mean\n",
    "    var += (img_var + img_mean**2) * L\n",
    "    \n",
    "\n",
    "overall_mean = mean / cnt\n",
    "overall_var = var / cnt - overall_mean**2\n",
    "overall_var = np.sqrt(overall_var)\n",
    "\n",
    "print(overall_mean, overall_var)\n",
    "print(overall_mean/255, overall_var/255)"
   ]
  },
  {
   "cell_type": "code",
   "execution_count": null,
   "metadata": {},
   "outputs": [],
   "source": []
  }
 ],
 "metadata": {
  "kernelspec": {
   "display_name": "spine",
   "language": "python",
   "name": "python3"
  },
  "language_info": {
   "codemirror_mode": {
    "name": "ipython",
    "version": 3
   },
   "file_extension": ".py",
   "mimetype": "text/x-python",
   "name": "python",
   "nbconvert_exporter": "python",
   "pygments_lexer": "ipython3",
   "version": "3.10.13"
  },
  "orig_nbformat": 4
 },
 "nbformat": 4,
 "nbformat_minor": 2
}
