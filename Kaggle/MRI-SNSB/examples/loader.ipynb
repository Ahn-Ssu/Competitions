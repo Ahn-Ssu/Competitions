{
 "cells": [
  {
   "cell_type": "code",
   "execution_count": 1,
   "metadata": {},
   "outputs": [],
   "source": [
    "import pandas as pd\n",
    "from sklearn.model_selection import StratifiedKFold"
   ]
  },
  {
   "cell_type": "code",
   "execution_count": 2,
   "metadata": {},
   "outputs": [],
   "source": [
    "df = pd.read_csv('/root/Competitions/Kaggle/MRI-SNSB/data/pre-processed_no-smoking&alcohol.csv')"
   ]
  },
  {
   "cell_type": "code",
   "execution_count": 4,
   "metadata": {},
   "outputs": [
    {
     "data": {
      "text/plain": [
       "Index(['DID', 'Age', 'Sex(M=1, F=2)', 'Education', 'CDR', 'GDS', 'MMSE_Reg',\n",
       "       'MMSE_Time', 'MMSE_Place', 'MMSE_Recall', 'MMSE_Attention/Calc',\n",
       "       'MMSE_Lanugage', 'MMSE_Drawing', 'MMSE_Total', 'Hypertension',\n",
       "       'Diabete', 'Hyperlipidemia', 'SNSB_Attention', 'SNSB_Language',\n",
       "       'SNSB_Visuospatial', 'SNSB_Memory', 'SNSB_Frontal'],\n",
       "      dtype='object')"
      ]
     },
     "execution_count": 4,
     "metadata": {},
     "output_type": "execute_result"
    }
   ],
   "source": [
    "df.columns"
   ]
  },
  {
   "cell_type": "code",
   "execution_count": null,
   "metadata": {},
   "outputs": [],
   "source": [
    "categorical = ['Sex(M=1, F=2)', 'Hypertension', 'Diabete', 'Hyperlipidemia']\n",
    "numerical = ['Age', 'Education', 'CDR', 'GDS', 'MMSE_Reg',\n",
    "       'MMSE_Time', 'MMSE_Place', 'MMSE_Recall', 'MMSE_Attention/Calc',\n",
    "       'MMSE_Lanugage', 'MMSE_Drawing', 'MMSE_Total',\n",
    "       'SNSB_Attention', 'SNSB_Language', 'SNSB_Visuospatial', 'SNSB_Memory', 'SNSB_Frontal']"
   ]
  },
  {
   "cell_type": "code",
   "execution_count": 7,
   "metadata": {},
   "outputs": [],
   "source": [
    "df = pd.read_csv('/root/Competitions/Kaggle/MRI-SNSB/data/pre-processed_no-smoking&alcohol.csv')\n",
    "            \n",
    "# in AI device data, we need the following codes\n",
    "kf = StratifiedKFold(n_splits=10,\n",
    "            shuffle=True,\n",
    "            random_state=411)\n",
    "\n",
    "all_splits = [k for k in kf.split(df, df['Sex(M=1, F=2)'])]\n",
    "train_idx, val_idx = all_splits[0]\n",
    "train_idx, val_idx = train_idx.tolist(), val_idx.tolist()\n",
    "\n",
    "train = df.iloc[train_idx]\n",
    "val = df.iloc[val_idx]"
   ]
  },
  {
   "cell_type": "code",
   "execution_count": 15,
   "metadata": {},
   "outputs": [
    {
     "data": {
      "text/plain": [
       "array([-2.962565  ,  1.        ,  0.47893669, -0.7164603 , -1.76246952,\n",
       "        0.09325048,  0.71367183,  0.56451866,  3.5505258 ,  1.27161026,\n",
       "        1.1492281 ,  0.69798244,  1.70947683,  0.        ,  0.        ,\n",
       "        0.        ,  0.71475642,  1.48328971,  1.2402177 ,  3.54747995,\n",
       "        2.0715103 ])"
      ]
     },
     "execution_count": 15,
     "metadata": {},
     "output_type": "execute_result"
    }
   ],
   "source": [
    "ret = list(train.columns)\n",
    "ret.remove('DID')\n",
    "train = train[ret]\n",
    "\n",
    "train.values[0]"
   ]
  },
  {
   "cell_type": "code",
   "execution_count": 16,
   "metadata": {},
   "outputs": [],
   "source": [
    "import torch"
   ]
  },
  {
   "cell_type": "code",
   "execution_count": 18,
   "metadata": {},
   "outputs": [
    {
     "data": {
      "text/plain": [
       "tensor([-2.9626,  1.0000,  0.4789, -0.7165, -1.7625,  0.0933,  0.7137,  0.5645,\n",
       "         3.5505,  1.2716,  1.1492,  0.6980,  1.7095,  0.0000,  0.0000,  0.0000,\n",
       "         0.7148,  1.4833,  1.2402,  3.5475,  2.0715], dtype=torch.float64)"
      ]
     },
     "execution_count": 18,
     "metadata": {},
     "output_type": "execute_result"
    }
   ],
   "source": [
    "torch.tensor(train.values[0])"
   ]
  },
  {
   "cell_type": "code",
   "execution_count": null,
   "metadata": {},
   "outputs": [],
   "source": []
  }
 ],
 "metadata": {
  "kernelspec": {
   "display_name": "autoPET",
   "language": "python",
   "name": "python3"
  },
  "language_info": {
   "codemirror_mode": {
    "name": "ipython",
    "version": 3
   },
   "file_extension": ".py",
   "mimetype": "text/x-python",
   "name": "python",
   "nbconvert_exporter": "python",
   "pygments_lexer": "ipython3",
   "version": "3.10.11"
  }
 },
 "nbformat": 4,
 "nbformat_minor": 2
}
