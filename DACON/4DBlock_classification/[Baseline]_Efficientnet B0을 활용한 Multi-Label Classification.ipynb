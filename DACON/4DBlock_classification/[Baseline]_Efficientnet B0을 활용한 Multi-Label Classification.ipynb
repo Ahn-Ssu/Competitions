{
 "cells": [
  {
   "cell_type": "markdown",
   "id": "a2bcba5f-002e-4f49-9622-ada6117faf0a",
   "metadata": {},
   "source": [
    "## Import"
   ]
  },
  {
   "cell_type": "code",
   "execution_count": 1,
   "id": "2b0d9b68-7102-4eca-9543-3b9b8acafc6e",
   "metadata": {},
   "outputs": [
    {
     "name": "stderr",
     "output_type": "stream",
     "text": [
      "/opt/conda/envs/Vision/lib/python3.10/site-packages/tqdm/auto.py:22: TqdmWarning: IProgress not found. Please update jupyter and ipywidgets. See https://ipywidgets.readthedocs.io/en/stable/user_install.html\n",
      "  from .autonotebook import tqdm as notebook_tqdm\n"
     ]
    }
   ],
   "source": [
    "import random\n",
    "import pandas as pd\n",
    "import numpy as np\n",
    "import os\n",
    "import cv2\n",
    "\n",
    "\n",
    "import torch\n",
    "import torch.nn as nn\n",
    "import torch.optim as optim\n",
    "import torch.nn.functional as F\n",
    "from torch.utils.data import Dataset, DataLoader\n",
    "\n",
    "import albumentations as A\n",
    "from albumentations.pytorch.transforms import ToTensorV2\n",
    "import torchvision.models as models\n",
    "\n",
    "from tqdm import tqdm\n",
    "from sklearn.metrics import accuracy_score\n",
    "\n",
    "import warnings\n",
    "warnings.filterwarnings(action='ignore') "
   ]
  },
  {
   "cell_type": "code",
   "execution_count": 2,
   "id": "d13862e3-bb27-47af-9b58-a9fbf804df71",
   "metadata": {},
   "outputs": [],
   "source": [
    "device = torch.device('cuda:1') if torch.cuda.is_available() else torch.device('cpu')"
   ]
  },
  {
   "cell_type": "markdown",
   "id": "fc7df3f2-62d0-4499-a46e-47d01699def0",
   "metadata": {},
   "source": [
    "## Hyperparameter Setting"
   ]
  },
  {
   "cell_type": "code",
   "execution_count": 4,
   "id": "c3367399-9798-4e38-967b-fd2320b9a2b2",
   "metadata": {},
   "outputs": [],
   "source": [
    "CFG = {\n",
    "    'IMG_SIZE':400,\n",
    "    'EPOCHS':200,\n",
    "    'LEARNING_RATE':3e-4,\n",
    "    'BATCH_SIZE':32,\n",
    "    'SEED':41\n",
    "}"
   ]
  },
  {
   "cell_type": "markdown",
   "id": "4254e860-ff82-43ba-bfa3-fcee4eb3ddbd",
   "metadata": {},
   "source": [
    "## Fixed RandomSeed"
   ]
  },
  {
   "cell_type": "code",
   "execution_count": 5,
   "id": "101a714b-71b6-4475-a4ce-fa5f98bc2731",
   "metadata": {},
   "outputs": [],
   "source": [
    "def seed_everything(seed):\n",
    "    random.seed(seed)\n",
    "    os.environ['PYTHONHASHSEED'] = str(seed)\n",
    "    np.random.seed(seed)\n",
    "    torch.manual_seed(seed)\n",
    "    torch.cuda.manual_seed(seed)\n",
    "    torch.backends.cudnn.deterministic = True\n",
    "    torch.backends.cudnn.benchmark = True\n",
    "\n",
    "seed_everything(CFG['SEED']) # Seed 고정\n",
    "\n",
    "def get_currentTime():\n",
    "    from datetime import date, datetime, timezone, timedelta\n",
    "\n",
    "    exp_day = str(date.today())\n",
    "\n",
    "    KST = timezone(timedelta(hours=9))\n",
    "    time_record = datetime.now(KST)\n",
    "    _day = str(time_record)[:10]\n",
    "    _time = str(time_record.time())[:8]\n",
    "\n",
    "    return _day"
   ]
  },
  {
   "cell_type": "markdown",
   "id": "05a4172e-5791-446f-9616-35c09d8bf25a",
   "metadata": {},
   "source": [
    "## Data Load"
   ]
  },
  {
   "cell_type": "code",
   "execution_count": 6,
   "id": "a62c78cd-4f40-4e98-b8a6-1b6f1d906b4d",
   "metadata": {},
   "outputs": [],
   "source": [
    "from operator import add\n",
    "df = pd.read_csv('./train.csv')\n",
    "bg_path = './COCOval17/'\n",
    "bg_img_list = [bg_path+one for one in os.listdir(bg_path)]\n"
   ]
  },
  {
   "cell_type": "markdown",
   "id": "0380b40a-f540-4225-8ffc-50059fd28a2c",
   "metadata": {},
   "source": [
    "## Train / Validation Split"
   ]
  },
  {
   "cell_type": "code",
   "execution_count": 7,
   "id": "e6264d0c-597c-42ac-9f3a-7189a5883028",
   "metadata": {},
   "outputs": [],
   "source": [
    "df = df.sample(frac=1)\n",
    "train_len = int(len(df) * 0.90)"
   ]
  },
  {
   "cell_type": "code",
   "execution_count": 8,
   "id": "2f59d10c-b6b1-44b1-808c-4135e0cfe016",
   "metadata": {},
   "outputs": [],
   "source": [
    "train = df[:train_len]\n",
    "val = df[train_len:]"
   ]
  },
  {
   "cell_type": "markdown",
   "id": "ad2d1e99-e723-4eb8-973c-b7eb2f8a771a",
   "metadata": {},
   "source": [
    "## Data Preprocessing"
   ]
  },
  {
   "cell_type": "code",
   "execution_count": 9,
   "id": "3ca4c3bb-d300-4c2a-9147-94d90e6faab6",
   "metadata": {},
   "outputs": [],
   "source": [
    "def get_labels(df):\n",
    "    return df.iloc[:,2:].values"
   ]
  },
  {
   "cell_type": "code",
   "execution_count": 10,
   "id": "0cd90813-1721-4d99-9a1c-d642758abc8d",
   "metadata": {},
   "outputs": [],
   "source": [
    "train_labels = get_labels(train)\n",
    "val_labels = get_labels(val)"
   ]
  },
  {
   "cell_type": "markdown",
   "id": "ac27ed36-8031-47a7-bd0d-a913513f2e8e",
   "metadata": {},
   "source": [
    "## CustomDataset"
   ]
  },
  {
   "cell_type": "code",
   "execution_count": 11,
   "id": "16fd60a5-24e2-4539-bfd0-1c374a641699",
   "metadata": {},
   "outputs": [],
   "source": [
    "class CustomDataset(Dataset):\n",
    "    def __init__(self, img_path_list, label_list, bg_path_list, transforms=None):\n",
    "        self.img_path_list = img_path_list\n",
    "        self.label_list = label_list\n",
    "        self.bg_path_list = bg_path_list\n",
    "        self.transforms = transforms\n",
    "        \n",
    "    def __getitem__(self, index):\n",
    "        img_path = self.img_path_list[index]\n",
    "        \n",
    "        image = cv2.imread(img_path)\n",
    "        \n",
    "        if self.bg_path_list is not None:\n",
    "            bg_img = cv2.imread(random.choice(self.bg_path_list))\n",
    "            bg_img = cv2.resize(bg_img,\n",
    "                                (CFG['IMG_SIZE'],CFG['IMG_SIZE']),\n",
    "                                interpolation=cv2.INTER_CUBIC)\n",
    "\n",
    "\n",
    "            fg_mask, bg_mask = self.get_mask(image)\n",
    "            image = self.synthesis_imgs(image, bg_img, fg_mask, bg_mask)\n",
    "        \n",
    "        if self.transforms is not None:\n",
    "            if self.bg_path_list is not None:\n",
    "                transformed = self.transforms(image=image, mask=fg_mask)\n",
    "                image = transformed['image']\n",
    "                mask  = transformed['mask']\n",
    "            else:\n",
    "                image = self.transforms(image=image)['image']\n",
    "        \n",
    "        if self.label_list is not None:\n",
    "            label = torch.FloatTensor(self.label_list[index])\n",
    "            return image, label \n",
    "        else:\n",
    "            return image\n",
    "        \n",
    "    def __len__(self):\n",
    "        return len(self.img_path_list)\n",
    "\n",
    "    def get_mask(self, src_img):\n",
    "\n",
    "        gray_img = cv2.cvtColor(src_img, cv2.COLOR_RGB2GRAY)\n",
    "        kernel = cv2.getStructuringElement(cv2.MORPH_RECT, (3,3))\n",
    "        closing = cv2.morphologyEx(gray_img, cv2.MORPH_CLOSE, kernel)\n",
    "\n",
    "        _, fg_mask = cv2.threshold(closing, 200, 1, cv2.THRESH_BINARY_INV)\n",
    "        _, bg_mask = cv2.threshold(closing, 200, 1, cv2.THRESH_BINARY)\n",
    "\n",
    "        return fg_mask, bg_mask\n",
    "\n",
    "    def synthesis_imgs(self, fg_img, bg_img, fg_mask, bg_mask):\n",
    "        \n",
    "        masked_fg = fg_img * fg_mask[:, :, np.newaxis]\n",
    "        masked_bg = bg_img * bg_mask[:, :, np.newaxis]\n",
    "\n",
    "        return masked_fg + masked_bg\n",
    "\n"
   ]
  },
  {
   "cell_type": "code",
   "execution_count": 12,
   "id": "c01b4067-0669-44a9-bbbc-3065d8cb00c2",
   "metadata": {},
   "outputs": [],
   "source": [
    "train_transform = A.Compose([\n",
    "                            A.Resize(CFG['IMG_SIZE'],CFG['IMG_SIZE']),\n",
    "                            # A.RandomCrop(width=CFG['IMG_SIZE'], height=CFG['IMG_SIZE']),\n",
    "                            A.Normalize(mean=(0.485, 0.456, 0.406), std=(0.229, 0.224, 0.225), max_pixel_value=255.0, always_apply=False, p=1.0),\n",
    "                            # A.ShiftScaleRotate(shift_limit=0.05, scale_limit=0.05, rotate_limit=15, p=0.5),\n",
    "                            # A.RGBShift(r_shift_limit=15, g_shift_limit=15, b_shift_limit=15, p=0.5),\n",
    "                            # A.GaussNoise(var_limit=(0, 20)),\n",
    "                            A.Rotate(limit=10, interpolation=1, border_mode=4, value=None, mask_value=None, rotate_method='largest_box', crop_border=False, always_apply=False, p=0.5),\n",
    "                            A.RandomBrightnessContrast(p=0.2),\n",
    "                            A.HorizontalFlip(),\n",
    "                            ToTensorV2()\n",
    "                            ])\n",
    "\n",
    "test_transform = A.Compose([\n",
    "                            A.Resize(CFG['IMG_SIZE'],CFG['IMG_SIZE']),\n",
    "                            # A.RandomCrop(width=CFG['IMG_SIZE'], height=CFG['IMG_SIZE']),\n",
    "                            A.Normalize(mean=(0.485, 0.456, 0.406), std=(0.229, 0.224, 0.225), max_pixel_value=255.0, always_apply=False, p=1.0),\n",
    "                            ToTensorV2()\n",
    "                            ])"
   ]
  },
  {
   "cell_type": "code",
   "execution_count": 13,
   "id": "9d880481-1965-499d-9caa-fdfa8526f789",
   "metadata": {},
   "outputs": [],
   "source": [
    "train_dataset = CustomDataset(train['img_path'].values, train_labels, bg_img_list, train_transform)\n",
    "train_loader = DataLoader(train_dataset, batch_size = CFG['BATCH_SIZE'], shuffle=True, num_workers=0)\n",
    "\n",
    "val_dataset = CustomDataset(val['img_path'].values, val_labels, bg_img_list, test_transform)\n",
    "val_loader = DataLoader(val_dataset, batch_size = CFG['BATCH_SIZE'], shuffle=False, num_workers=0)"
   ]
  },
  {
   "cell_type": "markdown",
   "id": "39962463-032f-490a-a76d-c03991795f38",
   "metadata": {},
   "source": [
    "## Model Define"
   ]
  },
  {
   "cell_type": "code",
   "execution_count": 14,
   "id": "3664c4d0-f1f2-4971-9090-4d6ee66309ae",
   "metadata": {},
   "outputs": [],
   "source": [
    "class BaseModel(nn.Module):\n",
    "    def __init__(self, num_classes=10):\n",
    "        super(BaseModel, self).__init__()\n",
    "        self.backbone = models.efficientnet_v2_s(pretrained=True)\n",
    "\n",
    "        self.drop    = nn.Dropout(p=0.2)\n",
    "        self.clf     = nn.Linear(1000, num_classes)\n",
    "\n",
    "\n",
    "        \n",
    "    def forward(self, x):\n",
    "        x = self.backbone(x)\n",
    "        x = self.drop(x)\n",
    "        x = F.sigmoid(self.clf(x))\n",
    "        return x"
   ]
  },
  {
   "cell_type": "markdown",
   "id": "122af0aa-a1fd-4595-9488-35761e3cb596",
   "metadata": {},
   "source": [
    "## Train"
   ]
  },
  {
   "cell_type": "code",
   "execution_count": 15,
   "id": "a17df6b3-16c9-44dd-b0fd-ffb501fee749",
   "metadata": {},
   "outputs": [],
   "source": [
    "def validation(model, criterion, val_loader, device):\n",
    "    model.eval()\n",
    "    val_loss = []\n",
    "    val_acc = []\n",
    "    with torch.no_grad():\n",
    "        for imgs, labels in tqdm(iter(val_loader)):\n",
    "            imgs = imgs.float().to(device)\n",
    "            labels = labels.to(device)\n",
    "            \n",
    "            probs = model(imgs)\n",
    "            \n",
    "            loss = criterion(probs, labels)\n",
    "            \n",
    "            probs  = probs.cpu().detach().numpy()\n",
    "            labels = labels.cpu().detach().numpy()\n",
    "            preds = probs > 0.5\n",
    "            batch_acc = (labels == preds).mean()\n",
    "            \n",
    "            val_acc.append(batch_acc)\n",
    "            val_loss.append(loss.item())\n",
    "        \n",
    "        _val_loss = np.mean(val_loss)\n",
    "        _val_acc = np.mean(val_acc)\n",
    "    \n",
    "    return _val_loss, _val_acc\n",
    "    \n",
    "def train(model, optimizer, train_loader, val_loader, scheduler, device):\n",
    "    model.to(device)\n",
    "    criterion = nn.BCELoss().to(device)\n",
    "    \n",
    "    best_val_acc = 0\n",
    "    best_model = None\n",
    "    \n",
    "    for epoch in range(1, CFG['EPOCHS']+1):\n",
    "        model.train()\n",
    "        train_loss = []\n",
    "        for imgs, labels in tqdm(iter(train_loader)):\n",
    "            imgs = imgs.float().to(device)\n",
    "            labels = labels.to(device)\n",
    "            \n",
    "            optimizer.zero_grad()\n",
    "            \n",
    "            output = model(imgs)\n",
    "            loss = criterion(output, labels)\n",
    "            \n",
    "            loss.backward()\n",
    "            optimizer.step()\n",
    "            \n",
    "            train_loss.append(loss.item())\n",
    "                    \n",
    "        _val_loss, _val_acc = validation(model, criterion, val_loader, device)\n",
    "        _train_loss = np.mean(train_loss)\n",
    "        print(f'Epoch [{epoch}], Train Loss : [{_train_loss:.5f}], val Loss : [{_val_loss: 0.5f}], val_acc : [{_val_acc: 0.5f}]')\n",
    "        \n",
    "        if scheduler is not None:\n",
    "            scheduler.step(_val_acc)\n",
    "            # scheduler.step(epoch-1)\n",
    "            \n",
    "        if best_val_acc < _val_acc:\n",
    "            best_val_acc = _val_acc\n",
    "            best_model = model\n",
    "\n",
    "            now_day = get_currentTime()\n",
    "            save_path = './archive/'\n",
    "            torch.save(best_model.state_dict(), f'{save_path}{now_day}__train_99_epoch{epoch}.pt')\n",
    "\n",
    "            \n",
    "    \n",
    "    return best_model, model"
   ]
  },
  {
   "cell_type": "markdown",
   "id": "51da39f9-904f-4abd-a7d2-cdf29c4a6c24",
   "metadata": {},
   "source": [
    "## Run!!"
   ]
  },
  {
   "cell_type": "code",
   "execution_count": 16,
   "id": "25e4fd01",
   "metadata": {},
   "outputs": [],
   "source": [
    "# model = BaseModel()\n",
    "# model.load_state_dict(torch.load('E:/git/DACON/archive/2023-01-16__cosineLRsceduler_epoch56.pt', map_location=device))"
   ]
  },
  {
   "cell_type": "code",
   "execution_count": 17,
   "id": "86142d9a-68b7-4d04-8423-49d28025411d",
   "metadata": {
    "tags": []
   },
   "outputs": [
    {
     "name": "stderr",
     "output_type": "stream",
     "text": [
      "100%|██████████| 928/928 [11:36<00:00,  1.33it/s]\n",
      "100%|██████████| 104/104 [00:47<00:00,  2.18it/s]\n"
     ]
    },
    {
     "name": "stdout",
     "output_type": "stream",
     "text": [
      "Epoch [1], Train Loss : [0.20800], val Loss : [ 0.07933], val_acc : [ 0.97109]\n"
     ]
    },
    {
     "name": "stderr",
     "output_type": "stream",
     "text": [
      "100%|██████████| 928/928 [11:48<00:00,  1.31it/s]\n",
      "100%|██████████| 104/104 [00:48<00:00,  2.16it/s]\n"
     ]
    },
    {
     "name": "stdout",
     "output_type": "stream",
     "text": [
      "Epoch [2], Train Loss : [0.09409], val Loss : [ 0.05832], val_acc : [ 0.97737]\n"
     ]
    },
    {
     "name": "stderr",
     "output_type": "stream",
     "text": [
      "100%|██████████| 928/928 [11:53<00:00,  1.30it/s]\n",
      "100%|██████████| 104/104 [00:48<00:00,  2.14it/s]\n"
     ]
    },
    {
     "name": "stdout",
     "output_type": "stream",
     "text": [
      "Epoch [3], Train Loss : [0.07272], val Loss : [ 0.04977], val_acc : [ 0.98059]\n"
     ]
    },
    {
     "name": "stderr",
     "output_type": "stream",
     "text": [
      "100%|██████████| 928/928 [11:54<00:00,  1.30it/s]\n",
      "100%|██████████| 104/104 [00:48<00:00,  2.13it/s]\n"
     ]
    },
    {
     "name": "stdout",
     "output_type": "stream",
     "text": [
      "Epoch [4], Train Loss : [0.06163], val Loss : [ 0.05201], val_acc : [ 0.97984]\n"
     ]
    },
    {
     "name": "stderr",
     "output_type": "stream",
     "text": [
      "100%|██████████| 928/928 [11:55<00:00,  1.30it/s]\n",
      "100%|██████████| 104/104 [00:48<00:00,  2.13it/s]\n"
     ]
    },
    {
     "name": "stdout",
     "output_type": "stream",
     "text": [
      "Epoch [5], Train Loss : [0.05443], val Loss : [ 0.03785], val_acc : [ 0.98516]\n"
     ]
    },
    {
     "name": "stderr",
     "output_type": "stream",
     "text": [
      "100%|██████████| 928/928 [11:52<00:00,  1.30it/s]\n",
      "100%|██████████| 104/104 [00:48<00:00,  2.13it/s]\n"
     ]
    },
    {
     "name": "stdout",
     "output_type": "stream",
     "text": [
      "Epoch [6], Train Loss : [0.04937], val Loss : [ 0.03612], val_acc : [ 0.98642]\n"
     ]
    },
    {
     "name": "stderr",
     "output_type": "stream",
     "text": [
      "100%|██████████| 928/928 [11:52<00:00,  1.30it/s]\n",
      "100%|██████████| 104/104 [00:48<00:00,  2.13it/s]\n"
     ]
    },
    {
     "name": "stdout",
     "output_type": "stream",
     "text": [
      "Epoch [7], Train Loss : [0.04384], val Loss : [ 0.03316], val_acc : [ 0.98750]\n"
     ]
    },
    {
     "name": "stderr",
     "output_type": "stream",
     "text": [
      "100%|██████████| 928/928 [11:53<00:00,  1.30it/s]\n",
      "100%|██████████| 104/104 [00:48<00:00,  2.14it/s]\n"
     ]
    },
    {
     "name": "stdout",
     "output_type": "stream",
     "text": [
      "Epoch [8], Train Loss : [0.03881], val Loss : [ 0.03230], val_acc : [ 0.98756]\n"
     ]
    },
    {
     "name": "stderr",
     "output_type": "stream",
     "text": [
      "100%|██████████| 928/928 [11:55<00:00,  1.30it/s]\n",
      "100%|██████████| 104/104 [00:48<00:00,  2.12it/s]\n"
     ]
    },
    {
     "name": "stdout",
     "output_type": "stream",
     "text": [
      "Epoch [9], Train Loss : [0.03803], val Loss : [ 0.02962], val_acc : [ 0.98843]\n"
     ]
    },
    {
     "name": "stderr",
     "output_type": "stream",
     "text": [
      "100%|██████████| 928/928 [11:55<00:00,  1.30it/s]\n",
      "100%|██████████| 104/104 [00:49<00:00,  2.11it/s]\n"
     ]
    },
    {
     "name": "stdout",
     "output_type": "stream",
     "text": [
      "Epoch [10], Train Loss : [0.03321], val Loss : [ 0.03344], val_acc : [ 0.98810]\n"
     ]
    },
    {
     "name": "stderr",
     "output_type": "stream",
     "text": [
      "100%|██████████| 928/928 [11:56<00:00,  1.30it/s]\n",
      "100%|██████████| 104/104 [00:48<00:00,  2.13it/s]\n"
     ]
    },
    {
     "name": "stdout",
     "output_type": "stream",
     "text": [
      "Epoch [11], Train Loss : [0.03387], val Loss : [ 0.02755], val_acc : [ 0.98954]\n"
     ]
    },
    {
     "name": "stderr",
     "output_type": "stream",
     "text": [
      "100%|██████████| 928/928 [11:54<00:00,  1.30it/s]\n",
      "100%|██████████| 104/104 [00:48<00:00,  2.14it/s]\n"
     ]
    },
    {
     "name": "stdout",
     "output_type": "stream",
     "text": [
      "Epoch [12], Train Loss : [0.02957], val Loss : [ 0.02719], val_acc : [ 0.99026]\n"
     ]
    },
    {
     "name": "stderr",
     "output_type": "stream",
     "text": [
      "100%|██████████| 928/928 [11:54<00:00,  1.30it/s]\n",
      "100%|██████████| 104/104 [00:48<00:00,  2.13it/s]\n"
     ]
    },
    {
     "name": "stdout",
     "output_type": "stream",
     "text": [
      "Epoch [13], Train Loss : [0.02966], val Loss : [ 0.02875], val_acc : [ 0.98891]\n"
     ]
    },
    {
     "name": "stderr",
     "output_type": "stream",
     "text": [
      "100%|██████████| 928/928 [11:55<00:00,  1.30it/s]\n",
      "100%|██████████| 104/104 [00:48<00:00,  2.13it/s]\n"
     ]
    },
    {
     "name": "stdout",
     "output_type": "stream",
     "text": [
      "Epoch [14], Train Loss : [0.02825], val Loss : [ 0.02416], val_acc : [ 0.99050]\n"
     ]
    },
    {
     "name": "stderr",
     "output_type": "stream",
     "text": [
      "100%|██████████| 928/928 [11:52<00:00,  1.30it/s]\n",
      "100%|██████████| 104/104 [00:48<00:00,  2.13it/s]\n"
     ]
    },
    {
     "name": "stdout",
     "output_type": "stream",
     "text": [
      "Epoch [15], Train Loss : [0.02517], val Loss : [ 0.03242], val_acc : [ 0.99029]\n"
     ]
    },
    {
     "name": "stderr",
     "output_type": "stream",
     "text": [
      "100%|██████████| 928/928 [11:51<00:00,  1.30it/s]\n",
      "100%|██████████| 104/104 [00:48<00:00,  2.14it/s]\n"
     ]
    },
    {
     "name": "stdout",
     "output_type": "stream",
     "text": [
      "Epoch [16], Train Loss : [0.02343], val Loss : [ 0.02510], val_acc : [ 0.99078]\n"
     ]
    },
    {
     "name": "stderr",
     "output_type": "stream",
     "text": [
      "100%|██████████| 928/928 [11:51<00:00,  1.30it/s]\n",
      "100%|██████████| 104/104 [00:48<00:00,  2.13it/s]\n"
     ]
    },
    {
     "name": "stdout",
     "output_type": "stream",
     "text": [
      "Epoch [17], Train Loss : [0.02356], val Loss : [ 0.02915], val_acc : [ 0.98975]\n"
     ]
    },
    {
     "name": "stderr",
     "output_type": "stream",
     "text": [
      "100%|██████████| 928/928 [11:58<00:00,  1.29it/s]\n",
      "100%|██████████| 104/104 [00:49<00:00,  2.12it/s]\n"
     ]
    },
    {
     "name": "stdout",
     "output_type": "stream",
     "text": [
      "Epoch [18], Train Loss : [0.02333], val Loss : [ 0.03142], val_acc : [ 0.99026]\n"
     ]
    },
    {
     "name": "stderr",
     "output_type": "stream",
     "text": [
      "100%|██████████| 928/928 [11:56<00:00,  1.29it/s]\n",
      "100%|██████████| 104/104 [00:48<00:00,  2.13it/s]\n"
     ]
    },
    {
     "name": "stdout",
     "output_type": "stream",
     "text": [
      "Epoch [19], Train Loss : [0.02386], val Loss : [ 0.02704], val_acc : [ 0.99053]\n",
      "Epoch 00019: reducing learning rate of group 0 to 1.5000e-04.\n"
     ]
    },
    {
     "name": "stderr",
     "output_type": "stream",
     "text": [
      "100%|██████████| 928/928 [11:54<00:00,  1.30it/s]\n",
      "100%|██████████| 104/104 [00:48<00:00,  2.13it/s]\n"
     ]
    },
    {
     "name": "stdout",
     "output_type": "stream",
     "text": [
      "Epoch [20], Train Loss : [0.01329], val Loss : [ 0.01921], val_acc : [ 0.99294]\n"
     ]
    },
    {
     "name": "stderr",
     "output_type": "stream",
     "text": [
      "100%|██████████| 928/928 [11:54<00:00,  1.30it/s]\n",
      "100%|██████████| 104/104 [00:49<00:00,  2.12it/s]\n"
     ]
    },
    {
     "name": "stdout",
     "output_type": "stream",
     "text": [
      "Epoch [21], Train Loss : [0.01063], val Loss : [ 0.02266], val_acc : [ 0.99252]\n"
     ]
    },
    {
     "name": "stderr",
     "output_type": "stream",
     "text": [
      "100%|██████████| 928/928 [11:55<00:00,  1.30it/s]\n",
      "100%|██████████| 104/104 [00:48<00:00,  2.13it/s]\n"
     ]
    },
    {
     "name": "stdout",
     "output_type": "stream",
     "text": [
      "Epoch [22], Train Loss : [0.00995], val Loss : [ 0.01754], val_acc : [ 0.99342]\n"
     ]
    },
    {
     "name": "stderr",
     "output_type": "stream",
     "text": [
      "100%|██████████| 928/928 [11:54<00:00,  1.30it/s]\n",
      "100%|██████████| 104/104 [00:48<00:00,  2.13it/s]\n"
     ]
    },
    {
     "name": "stdout",
     "output_type": "stream",
     "text": [
      "Epoch [23], Train Loss : [0.01010], val Loss : [ 0.02052], val_acc : [ 0.99276]\n"
     ]
    },
    {
     "name": "stderr",
     "output_type": "stream",
     "text": [
      "100%|██████████| 928/928 [11:56<00:00,  1.30it/s]\n",
      "100%|██████████| 104/104 [00:48<00:00,  2.12it/s]\n"
     ]
    },
    {
     "name": "stdout",
     "output_type": "stream",
     "text": [
      "Epoch [24], Train Loss : [0.00900], val Loss : [ 0.02193], val_acc : [ 0.99258]\n"
     ]
    },
    {
     "name": "stderr",
     "output_type": "stream",
     "text": [
      "100%|██████████| 928/928 [11:58<00:00,  1.29it/s]\n",
      "100%|██████████| 104/104 [00:49<00:00,  2.11it/s]\n"
     ]
    },
    {
     "name": "stdout",
     "output_type": "stream",
     "text": [
      "Epoch [25], Train Loss : [0.00917], val Loss : [ 0.02063], val_acc : [ 0.99291]\n",
      "Epoch 00025: reducing learning rate of group 0 to 7.5000e-05.\n"
     ]
    },
    {
     "name": "stderr",
     "output_type": "stream",
     "text": [
      "100%|██████████| 928/928 [11:55<00:00,  1.30it/s]\n",
      "100%|██████████| 104/104 [00:48<00:00,  2.13it/s]\n"
     ]
    },
    {
     "name": "stdout",
     "output_type": "stream",
     "text": [
      "Epoch [26], Train Loss : [0.00618], val Loss : [ 0.02028], val_acc : [ 0.99387]\n"
     ]
    },
    {
     "name": "stderr",
     "output_type": "stream",
     "text": [
      "100%|██████████| 928/928 [11:55<00:00,  1.30it/s]\n",
      "100%|██████████| 104/104 [00:48<00:00,  2.12it/s]\n"
     ]
    },
    {
     "name": "stdout",
     "output_type": "stream",
     "text": [
      "Epoch [27], Train Loss : [0.00532], val Loss : [ 0.01888], val_acc : [ 0.99414]\n"
     ]
    },
    {
     "name": "stderr",
     "output_type": "stream",
     "text": [
      "100%|██████████| 928/928 [11:59<00:00,  1.29it/s]\n",
      "100%|██████████| 104/104 [00:49<00:00,  2.11it/s]\n"
     ]
    },
    {
     "name": "stdout",
     "output_type": "stream",
     "text": [
      "Epoch [28], Train Loss : [0.00475], val Loss : [ 0.01846], val_acc : [ 0.99384]\n"
     ]
    },
    {
     "name": "stderr",
     "output_type": "stream",
     "text": [
      "100%|██████████| 928/928 [11:58<00:00,  1.29it/s]\n",
      "100%|██████████| 104/104 [00:49<00:00,  2.12it/s]\n"
     ]
    },
    {
     "name": "stdout",
     "output_type": "stream",
     "text": [
      "Epoch [29], Train Loss : [0.00504], val Loss : [ 0.01790], val_acc : [ 0.99429]\n"
     ]
    },
    {
     "name": "stderr",
     "output_type": "stream",
     "text": [
      "100%|██████████| 928/928 [11:57<00:00,  1.29it/s]\n",
      "100%|██████████| 104/104 [00:49<00:00,  2.11it/s]\n"
     ]
    },
    {
     "name": "stdout",
     "output_type": "stream",
     "text": [
      "Epoch [30], Train Loss : [0.00446], val Loss : [ 0.02033], val_acc : [ 0.99411]\n"
     ]
    },
    {
     "name": "stderr",
     "output_type": "stream",
     "text": [
      "100%|██████████| 928/928 [12:01<00:00,  1.29it/s]\n",
      "100%|██████████| 104/104 [00:49<00:00,  2.09it/s]\n"
     ]
    },
    {
     "name": "stdout",
     "output_type": "stream",
     "text": [
      "Epoch [31], Train Loss : [0.00403], val Loss : [ 0.01989], val_acc : [ 0.99459]\n"
     ]
    },
    {
     "name": "stderr",
     "output_type": "stream",
     "text": [
      "100%|██████████| 928/928 [12:01<00:00,  1.29it/s]\n",
      "100%|██████████| 104/104 [00:49<00:00,  2.10it/s]\n"
     ]
    },
    {
     "name": "stdout",
     "output_type": "stream",
     "text": [
      "Epoch [32], Train Loss : [0.00351], val Loss : [ 0.01991], val_acc : [ 0.99438]\n"
     ]
    },
    {
     "name": "stderr",
     "output_type": "stream",
     "text": [
      "100%|██████████| 928/928 [11:57<00:00,  1.29it/s]\n",
      "100%|██████████| 104/104 [00:49<00:00,  2.12it/s]\n"
     ]
    },
    {
     "name": "stdout",
     "output_type": "stream",
     "text": [
      "Epoch [33], Train Loss : [0.00406], val Loss : [ 0.01845], val_acc : [ 0.99477]\n"
     ]
    },
    {
     "name": "stderr",
     "output_type": "stream",
     "text": [
      "100%|██████████| 928/928 [12:00<00:00,  1.29it/s]\n",
      "100%|██████████| 104/104 [00:49<00:00,  2.11it/s]\n"
     ]
    },
    {
     "name": "stdout",
     "output_type": "stream",
     "text": [
      "Epoch [34], Train Loss : [0.00378], val Loss : [ 0.02027], val_acc : [ 0.99459]\n"
     ]
    },
    {
     "name": "stderr",
     "output_type": "stream",
     "text": [
      "100%|██████████| 928/928 [11:57<00:00,  1.29it/s]\n",
      "100%|██████████| 104/104 [00:48<00:00,  2.13it/s]\n"
     ]
    },
    {
     "name": "stdout",
     "output_type": "stream",
     "text": [
      "Epoch [35], Train Loss : [0.00353], val Loss : [ 0.02125], val_acc : [ 0.99438]\n"
     ]
    },
    {
     "name": "stderr",
     "output_type": "stream",
     "text": [
      "100%|██████████| 928/928 [11:58<00:00,  1.29it/s]\n",
      "100%|██████████| 104/104 [00:49<00:00,  2.10it/s]\n"
     ]
    },
    {
     "name": "stdout",
     "output_type": "stream",
     "text": [
      "Epoch [36], Train Loss : [0.00355], val Loss : [ 0.01856], val_acc : [ 0.99447]\n",
      "Epoch 00036: reducing learning rate of group 0 to 3.7500e-05.\n"
     ]
    },
    {
     "name": "stderr",
     "output_type": "stream",
     "text": [
      "100%|██████████| 928/928 [12:02<00:00,  1.28it/s]\n",
      "100%|██████████| 104/104 [00:49<00:00,  2.10it/s]\n"
     ]
    },
    {
     "name": "stdout",
     "output_type": "stream",
     "text": [
      "Epoch [37], Train Loss : [0.00268], val Loss : [ 0.01872], val_acc : [ 0.99510]\n"
     ]
    },
    {
     "name": "stderr",
     "output_type": "stream",
     "text": [
      "100%|██████████| 928/928 [11:58<00:00,  1.29it/s]\n",
      "100%|██████████| 104/104 [00:49<00:00,  2.11it/s]\n"
     ]
    },
    {
     "name": "stdout",
     "output_type": "stream",
     "text": [
      "Epoch [38], Train Loss : [0.00221], val Loss : [ 0.01969], val_acc : [ 0.99486]\n"
     ]
    },
    {
     "name": "stderr",
     "output_type": "stream",
     "text": [
      "100%|██████████| 928/928 [11:59<00:00,  1.29it/s]\n",
      "100%|██████████| 104/104 [00:49<00:00,  2.12it/s]\n"
     ]
    },
    {
     "name": "stdout",
     "output_type": "stream",
     "text": [
      "Epoch [39], Train Loss : [0.00200], val Loss : [ 0.02141], val_acc : [ 0.99447]\n"
     ]
    },
    {
     "name": "stderr",
     "output_type": "stream",
     "text": [
      "100%|██████████| 928/928 [11:56<00:00,  1.29it/s]\n",
      "100%|██████████| 104/104 [00:49<00:00,  2.12it/s]\n"
     ]
    },
    {
     "name": "stdout",
     "output_type": "stream",
     "text": [
      "Epoch [40], Train Loss : [0.00227], val Loss : [ 0.02079], val_acc : [ 0.99510]\n",
      "Epoch 00040: reducing learning rate of group 0 to 1.8750e-05.\n"
     ]
    },
    {
     "name": "stderr",
     "output_type": "stream",
     "text": [
      "100%|██████████| 928/928 [11:58<00:00,  1.29it/s]\n",
      "100%|██████████| 104/104 [00:49<00:00,  2.12it/s]\n"
     ]
    },
    {
     "name": "stdout",
     "output_type": "stream",
     "text": [
      "Epoch [41], Train Loss : [0.00214], val Loss : [ 0.02239], val_acc : [ 0.99459]\n"
     ]
    },
    {
     "name": "stderr",
     "output_type": "stream",
     "text": [
      "100%|██████████| 928/928 [11:57<00:00,  1.29it/s]\n",
      "100%|██████████| 104/104 [00:49<00:00,  2.11it/s]\n"
     ]
    },
    {
     "name": "stdout",
     "output_type": "stream",
     "text": [
      "Epoch [42], Train Loss : [0.00184], val Loss : [ 0.02098], val_acc : [ 0.99456]\n"
     ]
    },
    {
     "name": "stderr",
     "output_type": "stream",
     "text": [
      "100%|██████████| 928/928 [11:56<00:00,  1.30it/s]\n",
      "100%|██████████| 104/104 [00:48<00:00,  2.12it/s]\n"
     ]
    },
    {
     "name": "stdout",
     "output_type": "stream",
     "text": [
      "Epoch [43], Train Loss : [0.00167], val Loss : [ 0.02116], val_acc : [ 0.99498]\n",
      "Epoch 00043: reducing learning rate of group 0 to 9.3750e-06.\n"
     ]
    },
    {
     "name": "stderr",
     "output_type": "stream",
     "text": [
      "100%|██████████| 928/928 [11:56<00:00,  1.29it/s]\n",
      "100%|██████████| 104/104 [00:49<00:00,  2.12it/s]\n"
     ]
    },
    {
     "name": "stdout",
     "output_type": "stream",
     "text": [
      "Epoch [44], Train Loss : [0.00152], val Loss : [ 0.02039], val_acc : [ 0.99489]\n"
     ]
    },
    {
     "name": "stderr",
     "output_type": "stream",
     "text": [
      "100%|██████████| 928/928 [11:57<00:00,  1.29it/s]\n",
      "100%|██████████| 104/104 [00:48<00:00,  2.13it/s]\n"
     ]
    },
    {
     "name": "stdout",
     "output_type": "stream",
     "text": [
      "Epoch [45], Train Loss : [0.00137], val Loss : [ 0.02282], val_acc : [ 0.99489]\n"
     ]
    },
    {
     "name": "stderr",
     "output_type": "stream",
     "text": [
      "100%|██████████| 928/928 [11:58<00:00,  1.29it/s]\n",
      "100%|██████████| 104/104 [00:49<00:00,  2.12it/s]\n"
     ]
    },
    {
     "name": "stdout",
     "output_type": "stream",
     "text": [
      "Epoch [46], Train Loss : [0.00137], val Loss : [ 0.02259], val_acc : [ 0.99471]\n",
      "Epoch 00046: reducing learning rate of group 0 to 4.6875e-06.\n"
     ]
    },
    {
     "name": "stderr",
     "output_type": "stream",
     "text": [
      "100%|██████████| 928/928 [11:57<00:00,  1.29it/s]\n",
      "100%|██████████| 104/104 [00:49<00:00,  2.12it/s]\n"
     ]
    },
    {
     "name": "stdout",
     "output_type": "stream",
     "text": [
      "Epoch [47], Train Loss : [0.00141], val Loss : [ 0.02228], val_acc : [ 0.99501]\n"
     ]
    },
    {
     "name": "stderr",
     "output_type": "stream",
     "text": [
      "100%|██████████| 928/928 [11:56<00:00,  1.29it/s]\n",
      "100%|██████████| 104/104 [00:49<00:00,  2.11it/s]\n"
     ]
    },
    {
     "name": "stdout",
     "output_type": "stream",
     "text": [
      "Epoch [48], Train Loss : [0.00118], val Loss : [ 0.02309], val_acc : [ 0.99474]\n"
     ]
    },
    {
     "name": "stderr",
     "output_type": "stream",
     "text": [
      "100%|██████████| 928/928 [11:59<00:00,  1.29it/s]\n",
      "100%|██████████| 104/104 [00:49<00:00,  2.12it/s]\n"
     ]
    },
    {
     "name": "stdout",
     "output_type": "stream",
     "text": [
      "Epoch [49], Train Loss : [0.00131], val Loss : [ 0.02206], val_acc : [ 0.99495]\n",
      "Epoch 00049: reducing learning rate of group 0 to 2.3437e-06.\n"
     ]
    },
    {
     "name": "stderr",
     "output_type": "stream",
     "text": [
      "100%|██████████| 928/928 [11:58<00:00,  1.29it/s]\n",
      "100%|██████████| 104/104 [00:49<00:00,  2.11it/s]\n"
     ]
    },
    {
     "name": "stdout",
     "output_type": "stream",
     "text": [
      "Epoch [50], Train Loss : [0.00107], val Loss : [ 0.02109], val_acc : [ 0.99513]\n"
     ]
    },
    {
     "name": "stderr",
     "output_type": "stream",
     "text": [
      "100%|██████████| 928/928 [11:57<00:00,  1.29it/s]\n",
      "100%|██████████| 104/104 [00:49<00:00,  2.12it/s]\n"
     ]
    },
    {
     "name": "stdout",
     "output_type": "stream",
     "text": [
      "Epoch [51], Train Loss : [0.00110], val Loss : [ 0.02256], val_acc : [ 0.99492]\n"
     ]
    },
    {
     "name": "stderr",
     "output_type": "stream",
     "text": [
      "100%|██████████| 928/928 [11:57<00:00,  1.29it/s]\n",
      "100%|██████████| 104/104 [00:49<00:00,  2.12it/s]\n"
     ]
    },
    {
     "name": "stdout",
     "output_type": "stream",
     "text": [
      "Epoch [52], Train Loss : [0.00112], val Loss : [ 0.02252], val_acc : [ 0.99471]\n",
      "Epoch 00052: reducing learning rate of group 0 to 1.1719e-06.\n"
     ]
    },
    {
     "name": "stderr",
     "output_type": "stream",
     "text": [
      "100%|██████████| 928/928 [11:53<00:00,  1.30it/s]\n",
      "100%|██████████| 104/104 [00:48<00:00,  2.13it/s]\n"
     ]
    },
    {
     "name": "stdout",
     "output_type": "stream",
     "text": [
      "Epoch [53], Train Loss : [0.00099], val Loss : [ 0.02247], val_acc : [ 0.99459]\n"
     ]
    },
    {
     "name": "stderr",
     "output_type": "stream",
     "text": [
      "100%|██████████| 928/928 [11:53<00:00,  1.30it/s]\n",
      "100%|██████████| 104/104 [00:49<00:00,  2.12it/s]\n"
     ]
    },
    {
     "name": "stdout",
     "output_type": "stream",
     "text": [
      "Epoch [54], Train Loss : [0.00114], val Loss : [ 0.02189], val_acc : [ 0.99498]\n"
     ]
    },
    {
     "name": "stderr",
     "output_type": "stream",
     "text": [
      "100%|██████████| 928/928 [11:54<00:00,  1.30it/s]\n",
      "100%|██████████| 104/104 [00:48<00:00,  2.12it/s]\n"
     ]
    },
    {
     "name": "stdout",
     "output_type": "stream",
     "text": [
      "Epoch [55], Train Loss : [0.00118], val Loss : [ 0.02350], val_acc : [ 0.99474]\n",
      "Epoch 00055: reducing learning rate of group 0 to 5.8594e-07.\n"
     ]
    },
    {
     "name": "stderr",
     "output_type": "stream",
     "text": [
      "100%|██████████| 928/928 [11:55<00:00,  1.30it/s]\n",
      "100%|██████████| 104/104 [00:49<00:00,  2.12it/s]\n"
     ]
    },
    {
     "name": "stdout",
     "output_type": "stream",
     "text": [
      "Epoch [56], Train Loss : [0.00115], val Loss : [ 0.02281], val_acc : [ 0.99495]\n"
     ]
    },
    {
     "name": "stderr",
     "output_type": "stream",
     "text": [
      "100%|██████████| 928/928 [11:56<00:00,  1.30it/s]\n",
      "100%|██████████| 104/104 [00:49<00:00,  2.12it/s]\n"
     ]
    },
    {
     "name": "stdout",
     "output_type": "stream",
     "text": [
      "Epoch [57], Train Loss : [0.00137], val Loss : [ 0.02146], val_acc : [ 0.99501]\n"
     ]
    },
    {
     "name": "stderr",
     "output_type": "stream",
     "text": [
      "100%|██████████| 928/928 [11:59<00:00,  1.29it/s]\n",
      "100%|██████████| 104/104 [00:48<00:00,  2.13it/s]\n"
     ]
    },
    {
     "name": "stdout",
     "output_type": "stream",
     "text": [
      "Epoch [58], Train Loss : [0.00114], val Loss : [ 0.02225], val_acc : [ 0.99489]\n",
      "Epoch 00058: reducing learning rate of group 0 to 2.9297e-07.\n"
     ]
    },
    {
     "name": "stderr",
     "output_type": "stream",
     "text": [
      "100%|██████████| 928/928 [11:57<00:00,  1.29it/s]\n",
      "100%|██████████| 104/104 [00:49<00:00,  2.12it/s]\n"
     ]
    },
    {
     "name": "stdout",
     "output_type": "stream",
     "text": [
      "Epoch [59], Train Loss : [0.00096], val Loss : [ 0.02252], val_acc : [ 0.99522]\n"
     ]
    },
    {
     "name": "stderr",
     "output_type": "stream",
     "text": [
      "100%|██████████| 928/928 [11:56<00:00,  1.30it/s]\n",
      "100%|██████████| 104/104 [00:49<00:00,  2.12it/s]\n"
     ]
    },
    {
     "name": "stdout",
     "output_type": "stream",
     "text": [
      "Epoch [60], Train Loss : [0.00103], val Loss : [ 0.02226], val_acc : [ 0.99489]\n"
     ]
    },
    {
     "name": "stderr",
     "output_type": "stream",
     "text": [
      "100%|██████████| 928/928 [11:56<00:00,  1.29it/s]\n",
      "100%|██████████| 104/104 [00:48<00:00,  2.13it/s]\n"
     ]
    },
    {
     "name": "stdout",
     "output_type": "stream",
     "text": [
      "Epoch [61], Train Loss : [0.00099], val Loss : [ 0.02068], val_acc : [ 0.99528]\n"
     ]
    },
    {
     "name": "stderr",
     "output_type": "stream",
     "text": [
      "100%|██████████| 928/928 [11:51<00:00,  1.30it/s]\n",
      "100%|██████████| 104/104 [00:48<00:00,  2.12it/s]\n"
     ]
    },
    {
     "name": "stdout",
     "output_type": "stream",
     "text": [
      "Epoch [62], Train Loss : [0.00115], val Loss : [ 0.02160], val_acc : [ 0.99501]\n",
      "Epoch 00062: reducing learning rate of group 0 to 1.4648e-07.\n"
     ]
    },
    {
     "name": "stderr",
     "output_type": "stream",
     "text": [
      "100%|██████████| 928/928 [11:54<00:00,  1.30it/s]\n",
      "100%|██████████| 104/104 [00:48<00:00,  2.13it/s]\n"
     ]
    },
    {
     "name": "stdout",
     "output_type": "stream",
     "text": [
      "Epoch [63], Train Loss : [0.00097], val Loss : [ 0.02236], val_acc : [ 0.99495]\n"
     ]
    },
    {
     "name": "stderr",
     "output_type": "stream",
     "text": [
      "100%|██████████| 928/928 [11:54<00:00,  1.30it/s]\n",
      "100%|██████████| 104/104 [00:48<00:00,  2.14it/s]\n"
     ]
    },
    {
     "name": "stdout",
     "output_type": "stream",
     "text": [
      "Epoch [64], Train Loss : [0.00102], val Loss : [ 0.02296], val_acc : [ 0.99498]\n"
     ]
    },
    {
     "name": "stderr",
     "output_type": "stream",
     "text": [
      "100%|██████████| 928/928 [11:52<00:00,  1.30it/s]\n",
      "100%|██████████| 104/104 [00:48<00:00,  2.12it/s]\n"
     ]
    },
    {
     "name": "stdout",
     "output_type": "stream",
     "text": [
      "Epoch [65], Train Loss : [0.00108], val Loss : [ 0.02224], val_acc : [ 0.99486]\n",
      "Epoch 00065: reducing learning rate of group 0 to 7.3242e-08.\n"
     ]
    },
    {
     "name": "stderr",
     "output_type": "stream",
     "text": [
      "100%|██████████| 928/928 [11:56<00:00,  1.29it/s]\n",
      "100%|██████████| 104/104 [00:48<00:00,  2.13it/s]\n"
     ]
    },
    {
     "name": "stdout",
     "output_type": "stream",
     "text": [
      "Epoch [66], Train Loss : [0.00109], val Loss : [ 0.02115], val_acc : [ 0.99495]\n"
     ]
    },
    {
     "name": "stderr",
     "output_type": "stream",
     "text": [
      "100%|██████████| 928/928 [11:54<00:00,  1.30it/s]\n",
      "100%|██████████| 104/104 [00:48<00:00,  2.12it/s]\n"
     ]
    },
    {
     "name": "stdout",
     "output_type": "stream",
     "text": [
      "Epoch [67], Train Loss : [0.00109], val Loss : [ 0.02190], val_acc : [ 0.99495]\n"
     ]
    },
    {
     "name": "stderr",
     "output_type": "stream",
     "text": [
      "100%|██████████| 928/928 [11:58<00:00,  1.29it/s]\n",
      "100%|██████████| 104/104 [00:48<00:00,  2.12it/s]\n"
     ]
    },
    {
     "name": "stdout",
     "output_type": "stream",
     "text": [
      "Epoch [68], Train Loss : [0.00099], val Loss : [ 0.02367], val_acc : [ 0.99477]\n",
      "Epoch 00068: reducing learning rate of group 0 to 3.6621e-08.\n"
     ]
    },
    {
     "name": "stderr",
     "output_type": "stream",
     "text": [
      "100%|██████████| 928/928 [11:54<00:00,  1.30it/s]\n",
      "100%|██████████| 104/104 [00:49<00:00,  2.11it/s]\n"
     ]
    },
    {
     "name": "stdout",
     "output_type": "stream",
     "text": [
      "Epoch [69], Train Loss : [0.00112], val Loss : [ 0.02248], val_acc : [ 0.99480]\n"
     ]
    },
    {
     "name": "stderr",
     "output_type": "stream",
     "text": [
      "100%|██████████| 928/928 [11:54<00:00,  1.30it/s]\n",
      "100%|██████████| 104/104 [00:48<00:00,  2.14it/s]\n"
     ]
    },
    {
     "name": "stdout",
     "output_type": "stream",
     "text": [
      "Epoch [70], Train Loss : [0.00105], val Loss : [ 0.02227], val_acc : [ 0.99486]\n"
     ]
    },
    {
     "name": "stderr",
     "output_type": "stream",
     "text": [
      "100%|██████████| 928/928 [11:51<00:00,  1.30it/s]\n",
      "100%|██████████| 104/104 [00:48<00:00,  2.15it/s]\n"
     ]
    },
    {
     "name": "stdout",
     "output_type": "stream",
     "text": [
      "Epoch [71], Train Loss : [0.00097], val Loss : [ 0.02256], val_acc : [ 0.99501]\n",
      "Epoch 00071: reducing learning rate of group 0 to 1.8311e-08.\n"
     ]
    },
    {
     "name": "stderr",
     "output_type": "stream",
     "text": [
      "100%|██████████| 928/928 [11:54<00:00,  1.30it/s]\n",
      "100%|██████████| 104/104 [00:48<00:00,  2.13it/s]\n"
     ]
    },
    {
     "name": "stdout",
     "output_type": "stream",
     "text": [
      "Epoch [72], Train Loss : [0.00105], val Loss : [ 0.02345], val_acc : [ 0.99477]\n"
     ]
    },
    {
     "name": "stderr",
     "output_type": "stream",
     "text": [
      "100%|██████████| 928/928 [11:51<00:00,  1.30it/s]\n",
      "100%|██████████| 104/104 [00:48<00:00,  2.13it/s]\n"
     ]
    },
    {
     "name": "stdout",
     "output_type": "stream",
     "text": [
      "Epoch [73], Train Loss : [0.00099], val Loss : [ 0.02218], val_acc : [ 0.99483]\n"
     ]
    },
    {
     "name": "stderr",
     "output_type": "stream",
     "text": [
      "100%|██████████| 928/928 [11:55<00:00,  1.30it/s]\n",
      "100%|██████████| 104/104 [00:48<00:00,  2.13it/s]\n"
     ]
    },
    {
     "name": "stdout",
     "output_type": "stream",
     "text": [
      "Epoch [74], Train Loss : [0.00127], val Loss : [ 0.02169], val_acc : [ 0.99480]\n"
     ]
    },
    {
     "name": "stderr",
     "output_type": "stream",
     "text": [
      "100%|██████████| 928/928 [11:55<00:00,  1.30it/s]\n",
      "100%|██████████| 104/104 [00:49<00:00,  2.12it/s]\n"
     ]
    },
    {
     "name": "stdout",
     "output_type": "stream",
     "text": [
      "Epoch [75], Train Loss : [0.00104], val Loss : [ 0.02227], val_acc : [ 0.99468]\n"
     ]
    },
    {
     "name": "stderr",
     "output_type": "stream",
     "text": [
      "100%|██████████| 928/928 [11:59<00:00,  1.29it/s]\n",
      "100%|██████████| 104/104 [00:48<00:00,  2.12it/s]\n"
     ]
    },
    {
     "name": "stdout",
     "output_type": "stream",
     "text": [
      "Epoch [76], Train Loss : [0.00090], val Loss : [ 0.02331], val_acc : [ 0.99486]\n"
     ]
    },
    {
     "name": "stderr",
     "output_type": "stream",
     "text": [
      "100%|██████████| 928/928 [11:58<00:00,  1.29it/s]\n",
      "100%|██████████| 104/104 [00:49<00:00,  2.12it/s]\n"
     ]
    },
    {
     "name": "stdout",
     "output_type": "stream",
     "text": [
      "Epoch [77], Train Loss : [0.00097], val Loss : [ 0.02265], val_acc : [ 0.99480]\n"
     ]
    },
    {
     "name": "stderr",
     "output_type": "stream",
     "text": [
      "100%|██████████| 928/928 [11:56<00:00,  1.30it/s]\n",
      "100%|██████████| 104/104 [00:49<00:00,  2.11it/s]\n"
     ]
    },
    {
     "name": "stdout",
     "output_type": "stream",
     "text": [
      "Epoch [78], Train Loss : [0.00115], val Loss : [ 0.02280], val_acc : [ 0.99474]\n"
     ]
    },
    {
     "name": "stderr",
     "output_type": "stream",
     "text": [
      "100%|██████████| 928/928 [11:57<00:00,  1.29it/s]\n",
      "100%|██████████| 104/104 [00:49<00:00,  2.11it/s]\n"
     ]
    },
    {
     "name": "stdout",
     "output_type": "stream",
     "text": [
      "Epoch [79], Train Loss : [0.00115], val Loss : [ 0.02293], val_acc : [ 0.99474]\n"
     ]
    },
    {
     "name": "stderr",
     "output_type": "stream",
     "text": [
      "100%|██████████| 928/928 [11:55<00:00,  1.30it/s]\n",
      "100%|██████████| 104/104 [00:49<00:00,  2.12it/s]\n"
     ]
    },
    {
     "name": "stdout",
     "output_type": "stream",
     "text": [
      "Epoch [80], Train Loss : [0.00095], val Loss : [ 0.02211], val_acc : [ 0.99501]\n"
     ]
    },
    {
     "name": "stderr",
     "output_type": "stream",
     "text": [
      "100%|██████████| 928/928 [11:57<00:00,  1.29it/s]\n",
      "100%|██████████| 104/104 [00:49<00:00,  2.12it/s]\n"
     ]
    },
    {
     "name": "stdout",
     "output_type": "stream",
     "text": [
      "Epoch [81], Train Loss : [0.00108], val Loss : [ 0.02241], val_acc : [ 0.99480]\n"
     ]
    },
    {
     "name": "stderr",
     "output_type": "stream",
     "text": [
      "100%|██████████| 928/928 [11:53<00:00,  1.30it/s]\n",
      "100%|██████████| 104/104 [00:48<00:00,  2.13it/s]\n"
     ]
    },
    {
     "name": "stdout",
     "output_type": "stream",
     "text": [
      "Epoch [82], Train Loss : [0.00114], val Loss : [ 0.02152], val_acc : [ 0.99516]\n"
     ]
    },
    {
     "name": "stderr",
     "output_type": "stream",
     "text": [
      "100%|██████████| 928/928 [11:56<00:00,  1.30it/s]\n",
      "100%|██████████| 104/104 [00:48<00:00,  2.13it/s]\n"
     ]
    },
    {
     "name": "stdout",
     "output_type": "stream",
     "text": [
      "Epoch [83], Train Loss : [0.00112], val Loss : [ 0.02175], val_acc : [ 0.99465]\n"
     ]
    },
    {
     "name": "stderr",
     "output_type": "stream",
     "text": [
      "100%|██████████| 928/928 [11:54<00:00,  1.30it/s]\n",
      "100%|██████████| 104/104 [00:48<00:00,  2.13it/s]\n"
     ]
    },
    {
     "name": "stdout",
     "output_type": "stream",
     "text": [
      "Epoch [84], Train Loss : [0.00103], val Loss : [ 0.02292], val_acc : [ 0.99480]\n"
     ]
    },
    {
     "name": "stderr",
     "output_type": "stream",
     "text": [
      "100%|██████████| 928/928 [11:54<00:00,  1.30it/s]\n",
      "100%|██████████| 104/104 [00:48<00:00,  2.12it/s]\n"
     ]
    },
    {
     "name": "stdout",
     "output_type": "stream",
     "text": [
      "Epoch [85], Train Loss : [0.00103], val Loss : [ 0.02317], val_acc : [ 0.99474]\n"
     ]
    },
    {
     "name": "stderr",
     "output_type": "stream",
     "text": [
      "100%|██████████| 928/928 [11:55<00:00,  1.30it/s]\n",
      "100%|██████████| 104/104 [00:48<00:00,  2.14it/s]\n"
     ]
    },
    {
     "name": "stdout",
     "output_type": "stream",
     "text": [
      "Epoch [86], Train Loss : [0.00110], val Loss : [ 0.02295], val_acc : [ 0.99492]\n"
     ]
    },
    {
     "name": "stderr",
     "output_type": "stream",
     "text": [
      "100%|██████████| 928/928 [11:59<00:00,  1.29it/s]\n",
      "100%|██████████| 104/104 [00:49<00:00,  2.11it/s]\n"
     ]
    },
    {
     "name": "stdout",
     "output_type": "stream",
     "text": [
      "Epoch [87], Train Loss : [0.00119], val Loss : [ 0.02205], val_acc : [ 0.99507]\n"
     ]
    },
    {
     "name": "stderr",
     "output_type": "stream",
     "text": [
      "100%|██████████| 928/928 [11:55<00:00,  1.30it/s]\n",
      "100%|██████████| 104/104 [00:48<00:00,  2.12it/s]\n"
     ]
    },
    {
     "name": "stdout",
     "output_type": "stream",
     "text": [
      "Epoch [88], Train Loss : [0.00109], val Loss : [ 0.02171], val_acc : [ 0.99501]\n"
     ]
    },
    {
     "name": "stderr",
     "output_type": "stream",
     "text": [
      "100%|██████████| 928/928 [11:56<00:00,  1.29it/s]\n",
      "100%|██████████| 104/104 [00:49<00:00,  2.12it/s]\n"
     ]
    },
    {
     "name": "stdout",
     "output_type": "stream",
     "text": [
      "Epoch [89], Train Loss : [0.00110], val Loss : [ 0.02207], val_acc : [ 0.99489]\n"
     ]
    },
    {
     "name": "stderr",
     "output_type": "stream",
     "text": [
      "100%|██████████| 928/928 [11:55<00:00,  1.30it/s]\n",
      "100%|██████████| 104/104 [00:49<00:00,  2.11it/s]\n"
     ]
    },
    {
     "name": "stdout",
     "output_type": "stream",
     "text": [
      "Epoch [90], Train Loss : [0.00117], val Loss : [ 0.02203], val_acc : [ 0.99477]\n"
     ]
    },
    {
     "name": "stderr",
     "output_type": "stream",
     "text": [
      "100%|██████████| 928/928 [11:57<00:00,  1.29it/s]\n",
      "100%|██████████| 104/104 [00:48<00:00,  2.13it/s]\n"
     ]
    },
    {
     "name": "stdout",
     "output_type": "stream",
     "text": [
      "Epoch [91], Train Loss : [0.00109], val Loss : [ 0.02267], val_acc : [ 0.99471]\n"
     ]
    },
    {
     "name": "stderr",
     "output_type": "stream",
     "text": [
      "100%|██████████| 928/928 [11:55<00:00,  1.30it/s]\n",
      "100%|██████████| 104/104 [00:49<00:00,  2.12it/s]\n"
     ]
    },
    {
     "name": "stdout",
     "output_type": "stream",
     "text": [
      "Epoch [92], Train Loss : [0.00107], val Loss : [ 0.02278], val_acc : [ 0.99492]\n"
     ]
    },
    {
     "name": "stderr",
     "output_type": "stream",
     "text": [
      "100%|██████████| 928/928 [11:53<00:00,  1.30it/s]\n",
      "100%|██████████| 104/104 [00:48<00:00,  2.13it/s]\n"
     ]
    },
    {
     "name": "stdout",
     "output_type": "stream",
     "text": [
      "Epoch [93], Train Loss : [0.00114], val Loss : [ 0.02217], val_acc : [ 0.99486]\n"
     ]
    },
    {
     "name": "stderr",
     "output_type": "stream",
     "text": [
      "100%|██████████| 928/928 [11:58<00:00,  1.29it/s]\n",
      "100%|██████████| 104/104 [00:48<00:00,  2.12it/s]\n"
     ]
    },
    {
     "name": "stdout",
     "output_type": "stream",
     "text": [
      "Epoch [94], Train Loss : [0.00101], val Loss : [ 0.02239], val_acc : [ 0.99441]\n"
     ]
    },
    {
     "name": "stderr",
     "output_type": "stream",
     "text": [
      "100%|██████████| 928/928 [11:53<00:00,  1.30it/s]\n",
      "100%|██████████| 104/104 [00:49<00:00,  2.12it/s]\n"
     ]
    },
    {
     "name": "stdout",
     "output_type": "stream",
     "text": [
      "Epoch [95], Train Loss : [0.00113], val Loss : [ 0.02198], val_acc : [ 0.99498]\n"
     ]
    },
    {
     "name": "stderr",
     "output_type": "stream",
     "text": [
      "100%|██████████| 928/928 [11:55<00:00,  1.30it/s]\n",
      "100%|██████████| 104/104 [00:48<00:00,  2.13it/s]\n"
     ]
    },
    {
     "name": "stdout",
     "output_type": "stream",
     "text": [
      "Epoch [96], Train Loss : [0.00097], val Loss : [ 0.02255], val_acc : [ 0.99510]\n"
     ]
    },
    {
     "name": "stderr",
     "output_type": "stream",
     "text": [
      "100%|██████████| 928/928 [11:57<00:00,  1.29it/s]\n",
      "100%|██████████| 104/104 [00:49<00:00,  2.12it/s]\n"
     ]
    },
    {
     "name": "stdout",
     "output_type": "stream",
     "text": [
      "Epoch [97], Train Loss : [0.00103], val Loss : [ 0.02247], val_acc : [ 0.99477]\n"
     ]
    },
    {
     "name": "stderr",
     "output_type": "stream",
     "text": [
      "100%|██████████| 928/928 [11:54<00:00,  1.30it/s]\n",
      "100%|██████████| 104/104 [00:48<00:00,  2.13it/s]\n"
     ]
    },
    {
     "name": "stdout",
     "output_type": "stream",
     "text": [
      "Epoch [98], Train Loss : [0.00125], val Loss : [ 0.02217], val_acc : [ 0.99498]\n"
     ]
    },
    {
     "name": "stderr",
     "output_type": "stream",
     "text": [
      "100%|██████████| 928/928 [11:57<00:00,  1.29it/s]\n",
      "100%|██████████| 104/104 [00:49<00:00,  2.12it/s]\n"
     ]
    },
    {
     "name": "stdout",
     "output_type": "stream",
     "text": [
      "Epoch [99], Train Loss : [0.00094], val Loss : [ 0.02258], val_acc : [ 0.99501]\n"
     ]
    },
    {
     "name": "stderr",
     "output_type": "stream",
     "text": [
      "100%|██████████| 928/928 [11:55<00:00,  1.30it/s]\n",
      "100%|██████████| 104/104 [00:49<00:00,  2.12it/s]\n"
     ]
    },
    {
     "name": "stdout",
     "output_type": "stream",
     "text": [
      "Epoch [100], Train Loss : [0.00122], val Loss : [ 0.02294], val_acc : [ 0.99471]\n"
     ]
    },
    {
     "name": "stderr",
     "output_type": "stream",
     "text": [
      "100%|██████████| 928/928 [11:55<00:00,  1.30it/s]\n",
      "100%|██████████| 104/104 [00:48<00:00,  2.13it/s]\n"
     ]
    },
    {
     "name": "stdout",
     "output_type": "stream",
     "text": [
      "Epoch [101], Train Loss : [0.00085], val Loss : [ 0.02352], val_acc : [ 0.99489]\n"
     ]
    },
    {
     "name": "stderr",
     "output_type": "stream",
     "text": [
      "100%|██████████| 928/928 [11:55<00:00,  1.30it/s]\n",
      "100%|██████████| 104/104 [00:48<00:00,  2.13it/s]\n"
     ]
    },
    {
     "name": "stdout",
     "output_type": "stream",
     "text": [
      "Epoch [102], Train Loss : [0.00099], val Loss : [ 0.02274], val_acc : [ 0.99477]\n"
     ]
    },
    {
     "name": "stderr",
     "output_type": "stream",
     "text": [
      "100%|██████████| 928/928 [11:55<00:00,  1.30it/s]\n",
      "100%|██████████| 104/104 [00:48<00:00,  2.12it/s]\n"
     ]
    },
    {
     "name": "stdout",
     "output_type": "stream",
     "text": [
      "Epoch [103], Train Loss : [0.00086], val Loss : [ 0.02195], val_acc : [ 0.99477]\n"
     ]
    },
    {
     "name": "stderr",
     "output_type": "stream",
     "text": [
      "100%|██████████| 928/928 [11:55<00:00,  1.30it/s]\n",
      "100%|██████████| 104/104 [00:48<00:00,  2.13it/s]\n"
     ]
    },
    {
     "name": "stdout",
     "output_type": "stream",
     "text": [
      "Epoch [104], Train Loss : [0.00097], val Loss : [ 0.02327], val_acc : [ 0.99501]\n"
     ]
    },
    {
     "name": "stderr",
     "output_type": "stream",
     "text": [
      "100%|██████████| 928/928 [11:54<00:00,  1.30it/s]\n",
      "100%|██████████| 104/104 [00:48<00:00,  2.12it/s]\n"
     ]
    },
    {
     "name": "stdout",
     "output_type": "stream",
     "text": [
      "Epoch [105], Train Loss : [0.00104], val Loss : [ 0.02307], val_acc : [ 0.99486]\n"
     ]
    },
    {
     "name": "stderr",
     "output_type": "stream",
     "text": [
      "100%|██████████| 928/928 [11:54<00:00,  1.30it/s]\n",
      "100%|██████████| 104/104 [00:48<00:00,  2.13it/s]\n"
     ]
    },
    {
     "name": "stdout",
     "output_type": "stream",
     "text": [
      "Epoch [106], Train Loss : [0.00116], val Loss : [ 0.02298], val_acc : [ 0.99480]\n"
     ]
    },
    {
     "name": "stderr",
     "output_type": "stream",
     "text": [
      "100%|██████████| 928/928 [11:57<00:00,  1.29it/s]\n",
      "100%|██████████| 104/104 [00:48<00:00,  2.13it/s]\n"
     ]
    },
    {
     "name": "stdout",
     "output_type": "stream",
     "text": [
      "Epoch [107], Train Loss : [0.00094], val Loss : [ 0.02194], val_acc : [ 0.99483]\n"
     ]
    },
    {
     "name": "stderr",
     "output_type": "stream",
     "text": [
      "100%|██████████| 928/928 [11:55<00:00,  1.30it/s]\n",
      "100%|██████████| 104/104 [00:48<00:00,  2.13it/s]\n"
     ]
    },
    {
     "name": "stdout",
     "output_type": "stream",
     "text": [
      "Epoch [108], Train Loss : [0.00098], val Loss : [ 0.02161], val_acc : [ 0.99486]\n"
     ]
    },
    {
     "name": "stderr",
     "output_type": "stream",
     "text": [
      "100%|██████████| 928/928 [11:52<00:00,  1.30it/s]\n",
      "100%|██████████| 104/104 [00:48<00:00,  2.13it/s]\n"
     ]
    },
    {
     "name": "stdout",
     "output_type": "stream",
     "text": [
      "Epoch [109], Train Loss : [0.00124], val Loss : [ 0.02227], val_acc : [ 0.99468]\n"
     ]
    },
    {
     "name": "stderr",
     "output_type": "stream",
     "text": [
      "100%|██████████| 928/928 [11:54<00:00,  1.30it/s]\n",
      "100%|██████████| 104/104 [00:48<00:00,  2.14it/s]\n"
     ]
    },
    {
     "name": "stdout",
     "output_type": "stream",
     "text": [
      "Epoch [110], Train Loss : [0.00096], val Loss : [ 0.02296], val_acc : [ 0.99486]\n"
     ]
    },
    {
     "name": "stderr",
     "output_type": "stream",
     "text": [
      "100%|██████████| 928/928 [11:52<00:00,  1.30it/s]\n",
      "100%|██████████| 104/104 [00:48<00:00,  2.14it/s]\n"
     ]
    },
    {
     "name": "stdout",
     "output_type": "stream",
     "text": [
      "Epoch [111], Train Loss : [0.00124], val Loss : [ 0.02286], val_acc : [ 0.99513]\n"
     ]
    },
    {
     "name": "stderr",
     "output_type": "stream",
     "text": [
      "100%|██████████| 928/928 [11:55<00:00,  1.30it/s]\n",
      "100%|██████████| 104/104 [00:49<00:00,  2.12it/s]\n"
     ]
    },
    {
     "name": "stdout",
     "output_type": "stream",
     "text": [
      "Epoch [112], Train Loss : [0.00105], val Loss : [ 0.02400], val_acc : [ 0.99456]\n"
     ]
    },
    {
     "name": "stderr",
     "output_type": "stream",
     "text": [
      "100%|██████████| 928/928 [11:59<00:00,  1.29it/s]\n",
      "100%|██████████| 104/104 [00:49<00:00,  2.11it/s]\n"
     ]
    },
    {
     "name": "stdout",
     "output_type": "stream",
     "text": [
      "Epoch [113], Train Loss : [0.00118], val Loss : [ 0.02269], val_acc : [ 0.99489]\n"
     ]
    },
    {
     "name": "stderr",
     "output_type": "stream",
     "text": [
      "100%|██████████| 928/928 [11:52<00:00,  1.30it/s]\n",
      "100%|██████████| 104/104 [00:49<00:00,  2.12it/s]\n"
     ]
    },
    {
     "name": "stdout",
     "output_type": "stream",
     "text": [
      "Epoch [114], Train Loss : [0.00109], val Loss : [ 0.02166], val_acc : [ 0.99531]\n"
     ]
    },
    {
     "name": "stderr",
     "output_type": "stream",
     "text": [
      "100%|██████████| 928/928 [11:54<00:00,  1.30it/s]\n",
      "100%|██████████| 104/104 [00:48<00:00,  2.13it/s]\n"
     ]
    },
    {
     "name": "stdout",
     "output_type": "stream",
     "text": [
      "Epoch [115], Train Loss : [0.00119], val Loss : [ 0.02145], val_acc : [ 0.99492]\n"
     ]
    },
    {
     "name": "stderr",
     "output_type": "stream",
     "text": [
      "100%|██████████| 928/928 [11:55<00:00,  1.30it/s]\n",
      "100%|██████████| 104/104 [00:49<00:00,  2.12it/s]\n"
     ]
    },
    {
     "name": "stdout",
     "output_type": "stream",
     "text": [
      "Epoch [116], Train Loss : [0.00115], val Loss : [ 0.02235], val_acc : [ 0.99480]\n"
     ]
    },
    {
     "name": "stderr",
     "output_type": "stream",
     "text": [
      "100%|██████████| 928/928 [11:55<00:00,  1.30it/s]\n",
      "100%|██████████| 104/104 [00:49<00:00,  2.12it/s]\n"
     ]
    },
    {
     "name": "stdout",
     "output_type": "stream",
     "text": [
      "Epoch [117], Train Loss : [0.00111], val Loss : [ 0.02251], val_acc : [ 0.99486]\n"
     ]
    },
    {
     "name": "stderr",
     "output_type": "stream",
     "text": [
      "100%|██████████| 928/928 [11:56<00:00,  1.30it/s]\n",
      "100%|██████████| 104/104 [00:48<00:00,  2.13it/s]\n"
     ]
    },
    {
     "name": "stdout",
     "output_type": "stream",
     "text": [
      "Epoch [118], Train Loss : [0.00130], val Loss : [ 0.02277], val_acc : [ 0.99480]\n"
     ]
    },
    {
     "name": "stderr",
     "output_type": "stream",
     "text": [
      "100%|██████████| 928/928 [11:53<00:00,  1.30it/s]\n",
      "100%|██████████| 104/104 [00:49<00:00,  2.11it/s]\n"
     ]
    },
    {
     "name": "stdout",
     "output_type": "stream",
     "text": [
      "Epoch [119], Train Loss : [0.00090], val Loss : [ 0.02351], val_acc : [ 0.99477]\n"
     ]
    },
    {
     "name": "stderr",
     "output_type": "stream",
     "text": [
      "100%|██████████| 928/928 [11:59<00:00,  1.29it/s]\n",
      "100%|██████████| 104/104 [00:48<00:00,  2.13it/s]\n"
     ]
    },
    {
     "name": "stdout",
     "output_type": "stream",
     "text": [
      "Epoch [120], Train Loss : [0.00110], val Loss : [ 0.02217], val_acc : [ 0.99492]\n"
     ]
    },
    {
     "name": "stderr",
     "output_type": "stream",
     "text": [
      "100%|██████████| 928/928 [11:55<00:00,  1.30it/s]\n",
      "100%|██████████| 104/104 [00:48<00:00,  2.12it/s]\n"
     ]
    },
    {
     "name": "stdout",
     "output_type": "stream",
     "text": [
      "Epoch [121], Train Loss : [0.00109], val Loss : [ 0.02338], val_acc : [ 0.99477]\n"
     ]
    },
    {
     "name": "stderr",
     "output_type": "stream",
     "text": [
      "100%|██████████| 928/928 [11:56<00:00,  1.29it/s]\n",
      "100%|██████████| 104/104 [00:49<00:00,  2.11it/s]\n"
     ]
    },
    {
     "name": "stdout",
     "output_type": "stream",
     "text": [
      "Epoch [122], Train Loss : [0.00141], val Loss : [ 0.02253], val_acc : [ 0.99510]\n"
     ]
    },
    {
     "name": "stderr",
     "output_type": "stream",
     "text": [
      "100%|██████████| 928/928 [11:56<00:00,  1.29it/s]\n",
      "100%|██████████| 104/104 [00:49<00:00,  2.12it/s]\n"
     ]
    },
    {
     "name": "stdout",
     "output_type": "stream",
     "text": [
      "Epoch [123], Train Loss : [0.00102], val Loss : [ 0.02152], val_acc : [ 0.99516]\n"
     ]
    },
    {
     "name": "stderr",
     "output_type": "stream",
     "text": [
      "100%|██████████| 928/928 [11:56<00:00,  1.30it/s]\n",
      "100%|██████████| 104/104 [00:49<00:00,  2.12it/s]\n"
     ]
    },
    {
     "name": "stdout",
     "output_type": "stream",
     "text": [
      "Epoch [124], Train Loss : [0.00100], val Loss : [ 0.02225], val_acc : [ 0.99513]\n"
     ]
    },
    {
     "name": "stderr",
     "output_type": "stream",
     "text": [
      "100%|██████████| 928/928 [11:58<00:00,  1.29it/s]\n",
      "100%|██████████| 104/104 [00:49<00:00,  2.12it/s]\n"
     ]
    },
    {
     "name": "stdout",
     "output_type": "stream",
     "text": [
      "Epoch [125], Train Loss : [0.00101], val Loss : [ 0.02197], val_acc : [ 0.99504]\n"
     ]
    },
    {
     "name": "stderr",
     "output_type": "stream",
     "text": [
      "100%|██████████| 928/928 [11:56<00:00,  1.30it/s]\n",
      "100%|██████████| 104/104 [00:49<00:00,  2.10it/s]\n"
     ]
    },
    {
     "name": "stdout",
     "output_type": "stream",
     "text": [
      "Epoch [126], Train Loss : [0.00114], val Loss : [ 0.02240], val_acc : [ 0.99507]\n"
     ]
    },
    {
     "name": "stderr",
     "output_type": "stream",
     "text": [
      "100%|██████████| 928/928 [11:57<00:00,  1.29it/s]\n",
      "100%|██████████| 104/104 [00:49<00:00,  2.12it/s]\n"
     ]
    },
    {
     "name": "stdout",
     "output_type": "stream",
     "text": [
      "Epoch [127], Train Loss : [0.00102], val Loss : [ 0.02164], val_acc : [ 0.99498]\n"
     ]
    },
    {
     "name": "stderr",
     "output_type": "stream",
     "text": [
      "100%|██████████| 928/928 [11:58<00:00,  1.29it/s]\n",
      "100%|██████████| 104/104 [00:49<00:00,  2.11it/s]\n"
     ]
    },
    {
     "name": "stdout",
     "output_type": "stream",
     "text": [
      "Epoch [128], Train Loss : [0.00101], val Loss : [ 0.02236], val_acc : [ 0.99480]\n"
     ]
    },
    {
     "name": "stderr",
     "output_type": "stream",
     "text": [
      "100%|██████████| 928/928 [11:58<00:00,  1.29it/s]\n",
      "100%|██████████| 104/104 [00:48<00:00,  2.12it/s]\n"
     ]
    },
    {
     "name": "stdout",
     "output_type": "stream",
     "text": [
      "Epoch [129], Train Loss : [0.00094], val Loss : [ 0.02282], val_acc : [ 0.99492]\n"
     ]
    },
    {
     "name": "stderr",
     "output_type": "stream",
     "text": [
      "100%|██████████| 928/928 [11:56<00:00,  1.29it/s]\n",
      "100%|██████████| 104/104 [00:49<00:00,  2.12it/s]\n"
     ]
    },
    {
     "name": "stdout",
     "output_type": "stream",
     "text": [
      "Epoch [130], Train Loss : [0.00094], val Loss : [ 0.02117], val_acc : [ 0.99516]\n"
     ]
    },
    {
     "name": "stderr",
     "output_type": "stream",
     "text": [
      "100%|██████████| 928/928 [11:56<00:00,  1.29it/s]\n",
      "100%|██████████| 104/104 [00:49<00:00,  2.11it/s]\n"
     ]
    },
    {
     "name": "stdout",
     "output_type": "stream",
     "text": [
      "Epoch [131], Train Loss : [0.00107], val Loss : [ 0.02163], val_acc : [ 0.99489]\n"
     ]
    },
    {
     "name": "stderr",
     "output_type": "stream",
     "text": [
      "100%|██████████| 928/928 [11:58<00:00,  1.29it/s]\n",
      "100%|██████████| 104/104 [00:49<00:00,  2.12it/s]\n"
     ]
    },
    {
     "name": "stdout",
     "output_type": "stream",
     "text": [
      "Epoch [132], Train Loss : [0.00128], val Loss : [ 0.02154], val_acc : [ 0.99489]\n"
     ]
    },
    {
     "name": "stderr",
     "output_type": "stream",
     "text": [
      "100%|██████████| 928/928 [11:55<00:00,  1.30it/s]\n",
      "100%|██████████| 104/104 [00:49<00:00,  2.12it/s]\n"
     ]
    },
    {
     "name": "stdout",
     "output_type": "stream",
     "text": [
      "Epoch [133], Train Loss : [0.00100], val Loss : [ 0.02147], val_acc : [ 0.99477]\n"
     ]
    },
    {
     "name": "stderr",
     "output_type": "stream",
     "text": [
      "100%|██████████| 928/928 [11:52<00:00,  1.30it/s]\n",
      "100%|██████████| 104/104 [00:49<00:00,  2.12it/s]\n"
     ]
    },
    {
     "name": "stdout",
     "output_type": "stream",
     "text": [
      "Epoch [134], Train Loss : [0.00114], val Loss : [ 0.02289], val_acc : [ 0.99492]\n"
     ]
    },
    {
     "name": "stderr",
     "output_type": "stream",
     "text": [
      "100%|██████████| 928/928 [11:56<00:00,  1.30it/s]\n",
      "100%|██████████| 104/104 [00:49<00:00,  2.11it/s]\n"
     ]
    },
    {
     "name": "stdout",
     "output_type": "stream",
     "text": [
      "Epoch [135], Train Loss : [0.00117], val Loss : [ 0.02215], val_acc : [ 0.99471]\n"
     ]
    },
    {
     "name": "stderr",
     "output_type": "stream",
     "text": [
      "100%|██████████| 928/928 [11:56<00:00,  1.30it/s]\n",
      "100%|██████████| 104/104 [00:49<00:00,  2.11it/s]\n"
     ]
    },
    {
     "name": "stdout",
     "output_type": "stream",
     "text": [
      "Epoch [136], Train Loss : [0.00097], val Loss : [ 0.02246], val_acc : [ 0.99501]\n"
     ]
    },
    {
     "name": "stderr",
     "output_type": "stream",
     "text": [
      "100%|██████████| 928/928 [11:59<00:00,  1.29it/s]\n",
      "100%|██████████| 104/104 [00:49<00:00,  2.12it/s]\n"
     ]
    },
    {
     "name": "stdout",
     "output_type": "stream",
     "text": [
      "Epoch [137], Train Loss : [0.00099], val Loss : [ 0.02116], val_acc : [ 0.99486]\n"
     ]
    },
    {
     "name": "stderr",
     "output_type": "stream",
     "text": [
      "100%|██████████| 928/928 [11:57<00:00,  1.29it/s]\n",
      "100%|██████████| 104/104 [00:48<00:00,  2.12it/s]\n"
     ]
    },
    {
     "name": "stdout",
     "output_type": "stream",
     "text": [
      "Epoch [138], Train Loss : [0.00104], val Loss : [ 0.02334], val_acc : [ 0.99504]\n"
     ]
    },
    {
     "name": "stderr",
     "output_type": "stream",
     "text": [
      "100%|██████████| 928/928 [11:54<00:00,  1.30it/s]\n",
      "100%|██████████| 104/104 [00:49<00:00,  2.12it/s]\n"
     ]
    },
    {
     "name": "stdout",
     "output_type": "stream",
     "text": [
      "Epoch [139], Train Loss : [0.00114], val Loss : [ 0.02215], val_acc : [ 0.99495]\n"
     ]
    },
    {
     "name": "stderr",
     "output_type": "stream",
     "text": [
      "100%|██████████| 928/928 [11:55<00:00,  1.30it/s]\n",
      "100%|██████████| 104/104 [00:48<00:00,  2.12it/s]\n"
     ]
    },
    {
     "name": "stdout",
     "output_type": "stream",
     "text": [
      "Epoch [140], Train Loss : [0.00093], val Loss : [ 0.02099], val_acc : [ 0.99525]\n"
     ]
    },
    {
     "name": "stderr",
     "output_type": "stream",
     "text": [
      "100%|██████████| 928/928 [11:54<00:00,  1.30it/s]\n",
      "100%|██████████| 104/104 [00:49<00:00,  2.12it/s]\n"
     ]
    },
    {
     "name": "stdout",
     "output_type": "stream",
     "text": [
      "Epoch [141], Train Loss : [0.00094], val Loss : [ 0.02115], val_acc : [ 0.99498]\n"
     ]
    },
    {
     "name": "stderr",
     "output_type": "stream",
     "text": [
      "100%|██████████| 928/928 [11:55<00:00,  1.30it/s]\n",
      "100%|██████████| 104/104 [00:48<00:00,  2.14it/s]\n"
     ]
    },
    {
     "name": "stdout",
     "output_type": "stream",
     "text": [
      "Epoch [142], Train Loss : [0.00098], val Loss : [ 0.02130], val_acc : [ 0.99507]\n"
     ]
    },
    {
     "name": "stderr",
     "output_type": "stream",
     "text": [
      "100%|██████████| 928/928 [11:56<00:00,  1.29it/s]\n",
      "100%|██████████| 104/104 [00:49<00:00,  2.11it/s]\n"
     ]
    },
    {
     "name": "stdout",
     "output_type": "stream",
     "text": [
      "Epoch [143], Train Loss : [0.00093], val Loss : [ 0.02254], val_acc : [ 0.99483]\n"
     ]
    },
    {
     "name": "stderr",
     "output_type": "stream",
     "text": [
      "100%|██████████| 928/928 [11:54<00:00,  1.30it/s]\n",
      "100%|██████████| 104/104 [00:48<00:00,  2.13it/s]\n"
     ]
    },
    {
     "name": "stdout",
     "output_type": "stream",
     "text": [
      "Epoch [144], Train Loss : [0.00114], val Loss : [ 0.02332], val_acc : [ 0.99462]\n"
     ]
    },
    {
     "name": "stderr",
     "output_type": "stream",
     "text": [
      "100%|██████████| 928/928 [11:54<00:00,  1.30it/s]\n",
      "100%|██████████| 104/104 [00:49<00:00,  2.12it/s]\n"
     ]
    },
    {
     "name": "stdout",
     "output_type": "stream",
     "text": [
      "Epoch [145], Train Loss : [0.00114], val Loss : [ 0.02301], val_acc : [ 0.99498]\n"
     ]
    },
    {
     "name": "stderr",
     "output_type": "stream",
     "text": [
      "100%|██████████| 928/928 [11:57<00:00,  1.29it/s]\n",
      "100%|██████████| 104/104 [00:49<00:00,  2.12it/s]\n"
     ]
    },
    {
     "name": "stdout",
     "output_type": "stream",
     "text": [
      "Epoch [146], Train Loss : [0.00109], val Loss : [ 0.02239], val_acc : [ 0.99474]\n"
     ]
    },
    {
     "name": "stderr",
     "output_type": "stream",
     "text": [
      "100%|██████████| 928/928 [11:57<00:00,  1.29it/s]\n",
      "100%|██████████| 104/104 [00:49<00:00,  2.11it/s]\n"
     ]
    },
    {
     "name": "stdout",
     "output_type": "stream",
     "text": [
      "Epoch [147], Train Loss : [0.00104], val Loss : [ 0.02150], val_acc : [ 0.99519]\n"
     ]
    },
    {
     "name": "stderr",
     "output_type": "stream",
     "text": [
      "100%|██████████| 928/928 [11:58<00:00,  1.29it/s]\n",
      "100%|██████████| 104/104 [00:49<00:00,  2.12it/s]\n"
     ]
    },
    {
     "name": "stdout",
     "output_type": "stream",
     "text": [
      "Epoch [148], Train Loss : [0.00109], val Loss : [ 0.02204], val_acc : [ 0.99501]\n"
     ]
    },
    {
     "name": "stderr",
     "output_type": "stream",
     "text": [
      "100%|██████████| 928/928 [11:53<00:00,  1.30it/s]\n",
      "100%|██████████| 104/104 [00:48<00:00,  2.13it/s]\n"
     ]
    },
    {
     "name": "stdout",
     "output_type": "stream",
     "text": [
      "Epoch [149], Train Loss : [0.00104], val Loss : [ 0.02167], val_acc : [ 0.99501]\n"
     ]
    },
    {
     "name": "stderr",
     "output_type": "stream",
     "text": [
      "100%|██████████| 928/928 [11:55<00:00,  1.30it/s]\n",
      "100%|██████████| 104/104 [00:48<00:00,  2.13it/s]\n"
     ]
    },
    {
     "name": "stdout",
     "output_type": "stream",
     "text": [
      "Epoch [150], Train Loss : [0.00108], val Loss : [ 0.02220], val_acc : [ 0.99501]\n"
     ]
    },
    {
     "name": "stderr",
     "output_type": "stream",
     "text": [
      "100%|██████████| 928/928 [11:59<00:00,  1.29it/s]\n",
      "100%|██████████| 104/104 [00:49<00:00,  2.11it/s]\n"
     ]
    },
    {
     "name": "stdout",
     "output_type": "stream",
     "text": [
      "Epoch [151], Train Loss : [0.00111], val Loss : [ 0.02174], val_acc : [ 0.99522]\n"
     ]
    },
    {
     "name": "stderr",
     "output_type": "stream",
     "text": [
      "100%|██████████| 928/928 [11:59<00:00,  1.29it/s]\n",
      "100%|██████████| 104/104 [00:49<00:00,  2.09it/s]\n"
     ]
    },
    {
     "name": "stdout",
     "output_type": "stream",
     "text": [
      "Epoch [152], Train Loss : [0.00100], val Loss : [ 0.02187], val_acc : [ 0.99498]\n"
     ]
    },
    {
     "name": "stderr",
     "output_type": "stream",
     "text": [
      "100%|██████████| 928/928 [12:01<00:00,  1.29it/s]\n",
      "100%|██████████| 104/104 [00:49<00:00,  2.10it/s]\n"
     ]
    },
    {
     "name": "stdout",
     "output_type": "stream",
     "text": [
      "Epoch [153], Train Loss : [0.00113], val Loss : [ 0.02265], val_acc : [ 0.99501]\n"
     ]
    },
    {
     "name": "stderr",
     "output_type": "stream",
     "text": [
      "100%|██████████| 928/928 [11:58<00:00,  1.29it/s]\n",
      "100%|██████████| 104/104 [00:49<00:00,  2.11it/s]\n"
     ]
    },
    {
     "name": "stdout",
     "output_type": "stream",
     "text": [
      "Epoch [154], Train Loss : [0.00103], val Loss : [ 0.02204], val_acc : [ 0.99492]\n"
     ]
    },
    {
     "name": "stderr",
     "output_type": "stream",
     "text": [
      "100%|██████████| 928/928 [11:59<00:00,  1.29it/s]\n",
      "100%|██████████| 104/104 [00:49<00:00,  2.11it/s]\n"
     ]
    },
    {
     "name": "stdout",
     "output_type": "stream",
     "text": [
      "Epoch [155], Train Loss : [0.00114], val Loss : [ 0.02161], val_acc : [ 0.99501]\n"
     ]
    },
    {
     "name": "stderr",
     "output_type": "stream",
     "text": [
      "100%|██████████| 928/928 [11:59<00:00,  1.29it/s]\n",
      "100%|██████████| 104/104 [00:49<00:00,  2.11it/s]\n"
     ]
    },
    {
     "name": "stdout",
     "output_type": "stream",
     "text": [
      "Epoch [156], Train Loss : [0.00111], val Loss : [ 0.02239], val_acc : [ 0.99486]\n"
     ]
    },
    {
     "name": "stderr",
     "output_type": "stream",
     "text": [
      "100%|██████████| 928/928 [11:58<00:00,  1.29it/s]\n",
      "100%|██████████| 104/104 [00:49<00:00,  2.10it/s]\n"
     ]
    },
    {
     "name": "stdout",
     "output_type": "stream",
     "text": [
      "Epoch [157], Train Loss : [0.00120], val Loss : [ 0.02237], val_acc : [ 0.99501]\n"
     ]
    },
    {
     "name": "stderr",
     "output_type": "stream",
     "text": [
      "100%|██████████| 928/928 [11:59<00:00,  1.29it/s]\n",
      "100%|██████████| 104/104 [00:49<00:00,  2.11it/s]\n"
     ]
    },
    {
     "name": "stdout",
     "output_type": "stream",
     "text": [
      "Epoch [158], Train Loss : [0.00115], val Loss : [ 0.02263], val_acc : [ 0.99471]\n"
     ]
    },
    {
     "name": "stderr",
     "output_type": "stream",
     "text": [
      "100%|██████████| 928/928 [11:59<00:00,  1.29it/s]\n",
      "100%|██████████| 104/104 [00:49<00:00,  2.11it/s]\n"
     ]
    },
    {
     "name": "stdout",
     "output_type": "stream",
     "text": [
      "Epoch [159], Train Loss : [0.00093], val Loss : [ 0.02374], val_acc : [ 0.99483]\n"
     ]
    },
    {
     "name": "stderr",
     "output_type": "stream",
     "text": [
      "100%|██████████| 928/928 [11:58<00:00,  1.29it/s]\n",
      "100%|██████████| 104/104 [00:49<00:00,  2.11it/s]\n"
     ]
    },
    {
     "name": "stdout",
     "output_type": "stream",
     "text": [
      "Epoch [160], Train Loss : [0.00107], val Loss : [ 0.02288], val_acc : [ 0.99516]\n"
     ]
    },
    {
     "name": "stderr",
     "output_type": "stream",
     "text": [
      "100%|██████████| 928/928 [12:02<00:00,  1.29it/s]\n",
      "100%|██████████| 104/104 [00:49<00:00,  2.11it/s]\n"
     ]
    },
    {
     "name": "stdout",
     "output_type": "stream",
     "text": [
      "Epoch [161], Train Loss : [0.00106], val Loss : [ 0.02270], val_acc : [ 0.99498]\n"
     ]
    },
    {
     "name": "stderr",
     "output_type": "stream",
     "text": [
      "100%|██████████| 928/928 [11:59<00:00,  1.29it/s]\n",
      "100%|██████████| 104/104 [00:49<00:00,  2.11it/s]\n"
     ]
    },
    {
     "name": "stdout",
     "output_type": "stream",
     "text": [
      "Epoch [162], Train Loss : [0.00117], val Loss : [ 0.02334], val_acc : [ 0.99489]\n"
     ]
    },
    {
     "name": "stderr",
     "output_type": "stream",
     "text": [
      "100%|██████████| 928/928 [12:00<00:00,  1.29it/s]\n",
      "100%|██████████| 104/104 [00:49<00:00,  2.10it/s]\n"
     ]
    },
    {
     "name": "stdout",
     "output_type": "stream",
     "text": [
      "Epoch [163], Train Loss : [0.00116], val Loss : [ 0.02213], val_acc : [ 0.99507]\n"
     ]
    },
    {
     "name": "stderr",
     "output_type": "stream",
     "text": [
      "100%|██████████| 928/928 [11:58<00:00,  1.29it/s]\n",
      "100%|██████████| 104/104 [00:49<00:00,  2.11it/s]\n"
     ]
    },
    {
     "name": "stdout",
     "output_type": "stream",
     "text": [
      "Epoch [164], Train Loss : [0.00116], val Loss : [ 0.02264], val_acc : [ 0.99468]\n"
     ]
    },
    {
     "name": "stderr",
     "output_type": "stream",
     "text": [
      "100%|██████████| 928/928 [11:58<00:00,  1.29it/s]\n",
      "100%|██████████| 104/104 [00:49<00:00,  2.11it/s]\n"
     ]
    },
    {
     "name": "stdout",
     "output_type": "stream",
     "text": [
      "Epoch [165], Train Loss : [0.00114], val Loss : [ 0.02241], val_acc : [ 0.99510]\n"
     ]
    },
    {
     "name": "stderr",
     "output_type": "stream",
     "text": [
      "100%|██████████| 928/928 [11:57<00:00,  1.29it/s]\n",
      "100%|██████████| 104/104 [00:49<00:00,  2.10it/s]\n"
     ]
    },
    {
     "name": "stdout",
     "output_type": "stream",
     "text": [
      "Epoch [166], Train Loss : [0.00097], val Loss : [ 0.02138], val_acc : [ 0.99501]\n"
     ]
    },
    {
     "name": "stderr",
     "output_type": "stream",
     "text": [
      "100%|██████████| 928/928 [11:57<00:00,  1.29it/s]\n",
      "100%|██████████| 104/104 [00:49<00:00,  2.12it/s]\n"
     ]
    },
    {
     "name": "stdout",
     "output_type": "stream",
     "text": [
      "Epoch [167], Train Loss : [0.00123], val Loss : [ 0.02117], val_acc : [ 0.99504]\n"
     ]
    },
    {
     "name": "stderr",
     "output_type": "stream",
     "text": [
      "100%|██████████| 928/928 [11:57<00:00,  1.29it/s]\n",
      "100%|██████████| 104/104 [00:49<00:00,  2.11it/s]\n"
     ]
    },
    {
     "name": "stdout",
     "output_type": "stream",
     "text": [
      "Epoch [168], Train Loss : [0.00110], val Loss : [ 0.02280], val_acc : [ 0.99492]\n"
     ]
    },
    {
     "name": "stderr",
     "output_type": "stream",
     "text": [
      "100%|██████████| 928/928 [11:59<00:00,  1.29it/s]\n",
      "100%|██████████| 104/104 [00:49<00:00,  2.11it/s]\n"
     ]
    },
    {
     "name": "stdout",
     "output_type": "stream",
     "text": [
      "Epoch [169], Train Loss : [0.00119], val Loss : [ 0.02159], val_acc : [ 0.99507]\n"
     ]
    },
    {
     "name": "stderr",
     "output_type": "stream",
     "text": [
      "100%|██████████| 928/928 [11:58<00:00,  1.29it/s]\n",
      "100%|██████████| 104/104 [00:49<00:00,  2.12it/s]\n"
     ]
    },
    {
     "name": "stdout",
     "output_type": "stream",
     "text": [
      "Epoch [170], Train Loss : [0.00100], val Loss : [ 0.02170], val_acc : [ 0.99489]\n"
     ]
    },
    {
     "name": "stderr",
     "output_type": "stream",
     "text": [
      "100%|██████████| 928/928 [11:58<00:00,  1.29it/s]\n",
      "100%|██████████| 104/104 [00:48<00:00,  2.13it/s]\n"
     ]
    },
    {
     "name": "stdout",
     "output_type": "stream",
     "text": [
      "Epoch [171], Train Loss : [0.00102], val Loss : [ 0.02352], val_acc : [ 0.99468]\n"
     ]
    },
    {
     "name": "stderr",
     "output_type": "stream",
     "text": [
      "100%|██████████| 928/928 [11:57<00:00,  1.29it/s]\n",
      "100%|██████████| 104/104 [00:49<00:00,  2.11it/s]\n"
     ]
    },
    {
     "name": "stdout",
     "output_type": "stream",
     "text": [
      "Epoch [172], Train Loss : [0.00110], val Loss : [ 0.02264], val_acc : [ 0.99504]\n"
     ]
    },
    {
     "name": "stderr",
     "output_type": "stream",
     "text": [
      "100%|██████████| 928/928 [11:59<00:00,  1.29it/s]\n",
      "100%|██████████| 104/104 [00:49<00:00,  2.11it/s]\n"
     ]
    },
    {
     "name": "stdout",
     "output_type": "stream",
     "text": [
      "Epoch [173], Train Loss : [0.00104], val Loss : [ 0.02208], val_acc : [ 0.99480]\n"
     ]
    },
    {
     "name": "stderr",
     "output_type": "stream",
     "text": [
      "100%|██████████| 928/928 [11:58<00:00,  1.29it/s]\n",
      "100%|██████████| 104/104 [00:49<00:00,  2.12it/s]\n"
     ]
    },
    {
     "name": "stdout",
     "output_type": "stream",
     "text": [
      "Epoch [174], Train Loss : [0.00124], val Loss : [ 0.02333], val_acc : [ 0.99474]\n"
     ]
    },
    {
     "name": "stderr",
     "output_type": "stream",
     "text": [
      "100%|██████████| 928/928 [11:57<00:00,  1.29it/s]\n",
      "100%|██████████| 104/104 [00:48<00:00,  2.12it/s]\n"
     ]
    },
    {
     "name": "stdout",
     "output_type": "stream",
     "text": [
      "Epoch [175], Train Loss : [0.00098], val Loss : [ 0.02340], val_acc : [ 0.99477]\n"
     ]
    },
    {
     "name": "stderr",
     "output_type": "stream",
     "text": [
      "100%|██████████| 928/928 [11:56<00:00,  1.29it/s]\n",
      "100%|██████████| 104/104 [00:49<00:00,  2.10it/s]\n"
     ]
    },
    {
     "name": "stdout",
     "output_type": "stream",
     "text": [
      "Epoch [176], Train Loss : [0.00117], val Loss : [ 0.02155], val_acc : [ 0.99501]\n"
     ]
    },
    {
     "name": "stderr",
     "output_type": "stream",
     "text": [
      "100%|██████████| 928/928 [11:59<00:00,  1.29it/s]\n",
      "100%|██████████| 104/104 [00:49<00:00,  2.11it/s]\n"
     ]
    },
    {
     "name": "stdout",
     "output_type": "stream",
     "text": [
      "Epoch [177], Train Loss : [0.00098], val Loss : [ 0.02162], val_acc : [ 0.99504]\n"
     ]
    },
    {
     "name": "stderr",
     "output_type": "stream",
     "text": [
      "100%|██████████| 928/928 [11:57<00:00,  1.29it/s]\n",
      "100%|██████████| 104/104 [00:49<00:00,  2.11it/s]\n"
     ]
    },
    {
     "name": "stdout",
     "output_type": "stream",
     "text": [
      "Epoch [178], Train Loss : [0.00119], val Loss : [ 0.02179], val_acc : [ 0.99483]\n"
     ]
    },
    {
     "name": "stderr",
     "output_type": "stream",
     "text": [
      "100%|██████████| 928/928 [11:57<00:00,  1.29it/s]\n",
      "100%|██████████| 104/104 [00:49<00:00,  2.11it/s]\n"
     ]
    },
    {
     "name": "stdout",
     "output_type": "stream",
     "text": [
      "Epoch [179], Train Loss : [0.00112], val Loss : [ 0.02311], val_acc : [ 0.99486]\n"
     ]
    },
    {
     "name": "stderr",
     "output_type": "stream",
     "text": [
      "100%|██████████| 928/928 [11:57<00:00,  1.29it/s]\n",
      "100%|██████████| 104/104 [00:49<00:00,  2.11it/s]\n"
     ]
    },
    {
     "name": "stdout",
     "output_type": "stream",
     "text": [
      "Epoch [180], Train Loss : [0.00101], val Loss : [ 0.02412], val_acc : [ 0.99492]\n"
     ]
    },
    {
     "name": "stderr",
     "output_type": "stream",
     "text": [
      "100%|██████████| 928/928 [11:58<00:00,  1.29it/s]\n",
      "100%|██████████| 104/104 [00:49<00:00,  2.11it/s]\n"
     ]
    },
    {
     "name": "stdout",
     "output_type": "stream",
     "text": [
      "Epoch [181], Train Loss : [0.00107], val Loss : [ 0.02246], val_acc : [ 0.99468]\n"
     ]
    },
    {
     "name": "stderr",
     "output_type": "stream",
     "text": [
      "100%|██████████| 928/928 [11:55<00:00,  1.30it/s]\n",
      "100%|██████████| 104/104 [00:49<00:00,  2.11it/s]\n"
     ]
    },
    {
     "name": "stdout",
     "output_type": "stream",
     "text": [
      "Epoch [182], Train Loss : [0.00118], val Loss : [ 0.02141], val_acc : [ 0.99504]\n"
     ]
    },
    {
     "name": "stderr",
     "output_type": "stream",
     "text": [
      "100%|██████████| 928/928 [11:54<00:00,  1.30it/s]\n",
      "100%|██████████| 104/104 [00:48<00:00,  2.13it/s]\n"
     ]
    },
    {
     "name": "stdout",
     "output_type": "stream",
     "text": [
      "Epoch [183], Train Loss : [0.00114], val Loss : [ 0.02234], val_acc : [ 0.99507]\n"
     ]
    },
    {
     "name": "stderr",
     "output_type": "stream",
     "text": [
      "100%|██████████| 928/928 [11:56<00:00,  1.30it/s]\n",
      "100%|██████████| 104/104 [00:49<00:00,  2.11it/s]\n"
     ]
    },
    {
     "name": "stdout",
     "output_type": "stream",
     "text": [
      "Epoch [184], Train Loss : [0.00111], val Loss : [ 0.02269], val_acc : [ 0.99486]\n"
     ]
    },
    {
     "name": "stderr",
     "output_type": "stream",
     "text": [
      "100%|██████████| 928/928 [11:55<00:00,  1.30it/s]\n",
      "100%|██████████| 104/104 [00:48<00:00,  2.13it/s]\n"
     ]
    },
    {
     "name": "stdout",
     "output_type": "stream",
     "text": [
      "Epoch [185], Train Loss : [0.00104], val Loss : [ 0.02286], val_acc : [ 0.99486]\n"
     ]
    },
    {
     "name": "stderr",
     "output_type": "stream",
     "text": [
      "100%|██████████| 928/928 [11:55<00:00,  1.30it/s]\n",
      "100%|██████████| 104/104 [00:48<00:00,  2.13it/s]\n"
     ]
    },
    {
     "name": "stdout",
     "output_type": "stream",
     "text": [
      "Epoch [186], Train Loss : [0.00113], val Loss : [ 0.02255], val_acc : [ 0.99498]\n"
     ]
    },
    {
     "name": "stderr",
     "output_type": "stream",
     "text": [
      "100%|██████████| 928/928 [11:57<00:00,  1.29it/s]\n",
      "100%|██████████| 104/104 [00:48<00:00,  2.12it/s]\n"
     ]
    },
    {
     "name": "stdout",
     "output_type": "stream",
     "text": [
      "Epoch [187], Train Loss : [0.00106], val Loss : [ 0.02323], val_acc : [ 0.99483]\n"
     ]
    },
    {
     "name": "stderr",
     "output_type": "stream",
     "text": [
      "100%|██████████| 928/928 [11:58<00:00,  1.29it/s]\n",
      "100%|██████████| 104/104 [00:49<00:00,  2.11it/s]\n"
     ]
    },
    {
     "name": "stdout",
     "output_type": "stream",
     "text": [
      "Epoch [188], Train Loss : [0.00110], val Loss : [ 0.02254], val_acc : [ 0.99504]\n"
     ]
    },
    {
     "name": "stderr",
     "output_type": "stream",
     "text": [
      "100%|██████████| 928/928 [11:59<00:00,  1.29it/s]\n",
      "100%|██████████| 104/104 [00:49<00:00,  2.11it/s]\n"
     ]
    },
    {
     "name": "stdout",
     "output_type": "stream",
     "text": [
      "Epoch [189], Train Loss : [0.00103], val Loss : [ 0.02248], val_acc : [ 0.99474]\n"
     ]
    },
    {
     "name": "stderr",
     "output_type": "stream",
     "text": [
      "100%|██████████| 928/928 [11:57<00:00,  1.29it/s]\n",
      "100%|██████████| 104/104 [00:49<00:00,  2.12it/s]\n"
     ]
    },
    {
     "name": "stdout",
     "output_type": "stream",
     "text": [
      "Epoch [190], Train Loss : [0.00118], val Loss : [ 0.02145], val_acc : [ 0.99498]\n"
     ]
    },
    {
     "name": "stderr",
     "output_type": "stream",
     "text": [
      "100%|██████████| 928/928 [11:55<00:00,  1.30it/s]\n",
      "100%|██████████| 104/104 [00:48<00:00,  2.13it/s]\n"
     ]
    },
    {
     "name": "stdout",
     "output_type": "stream",
     "text": [
      "Epoch [191], Train Loss : [0.00094], val Loss : [ 0.02182], val_acc : [ 0.99477]\n"
     ]
    },
    {
     "name": "stderr",
     "output_type": "stream",
     "text": [
      "100%|██████████| 928/928 [11:51<00:00,  1.30it/s]\n",
      "100%|██████████| 104/104 [00:48<00:00,  2.14it/s]\n"
     ]
    },
    {
     "name": "stdout",
     "output_type": "stream",
     "text": [
      "Epoch [192], Train Loss : [0.00105], val Loss : [ 0.02083], val_acc : [ 0.99513]\n"
     ]
    },
    {
     "name": "stderr",
     "output_type": "stream",
     "text": [
      "100%|██████████| 928/928 [11:55<00:00,  1.30it/s]\n",
      "100%|██████████| 104/104 [00:48<00:00,  2.12it/s]\n"
     ]
    },
    {
     "name": "stdout",
     "output_type": "stream",
     "text": [
      "Epoch [193], Train Loss : [0.00097], val Loss : [ 0.02311], val_acc : [ 0.99489]\n"
     ]
    },
    {
     "name": "stderr",
     "output_type": "stream",
     "text": [
      "100%|██████████| 928/928 [11:54<00:00,  1.30it/s]\n",
      "100%|██████████| 104/104 [00:48<00:00,  2.14it/s]\n"
     ]
    },
    {
     "name": "stdout",
     "output_type": "stream",
     "text": [
      "Epoch [194], Train Loss : [0.00103], val Loss : [ 0.02249], val_acc : [ 0.99495]\n"
     ]
    },
    {
     "name": "stderr",
     "output_type": "stream",
     "text": [
      "100%|██████████| 928/928 [11:52<00:00,  1.30it/s]\n",
      "100%|██████████| 104/104 [00:48<00:00,  2.14it/s]\n"
     ]
    },
    {
     "name": "stdout",
     "output_type": "stream",
     "text": [
      "Epoch [195], Train Loss : [0.00121], val Loss : [ 0.02174], val_acc : [ 0.99483]\n"
     ]
    },
    {
     "name": "stderr",
     "output_type": "stream",
     "text": [
      "100%|██████████| 928/928 [11:52<00:00,  1.30it/s]\n",
      "100%|██████████| 104/104 [00:48<00:00,  2.13it/s]\n"
     ]
    },
    {
     "name": "stdout",
     "output_type": "stream",
     "text": [
      "Epoch [196], Train Loss : [0.00096], val Loss : [ 0.02176], val_acc : [ 0.99507]\n"
     ]
    },
    {
     "name": "stderr",
     "output_type": "stream",
     "text": [
      "100%|██████████| 928/928 [11:54<00:00,  1.30it/s]\n",
      "100%|██████████| 104/104 [00:48<00:00,  2.14it/s]\n"
     ]
    },
    {
     "name": "stdout",
     "output_type": "stream",
     "text": [
      "Epoch [197], Train Loss : [0.00115], val Loss : [ 0.02279], val_acc : [ 0.99513]\n"
     ]
    },
    {
     "name": "stderr",
     "output_type": "stream",
     "text": [
      "100%|██████████| 928/928 [11:53<00:00,  1.30it/s]\n",
      "100%|██████████| 104/104 [00:49<00:00,  2.11it/s]\n"
     ]
    },
    {
     "name": "stdout",
     "output_type": "stream",
     "text": [
      "Epoch [198], Train Loss : [0.00134], val Loss : [ 0.02207], val_acc : [ 0.99510]\n"
     ]
    },
    {
     "name": "stderr",
     "output_type": "stream",
     "text": [
      "100%|██████████| 928/928 [11:55<00:00,  1.30it/s]\n",
      "100%|██████████| 104/104 [00:48<00:00,  2.13it/s]\n"
     ]
    },
    {
     "name": "stdout",
     "output_type": "stream",
     "text": [
      "Epoch [199], Train Loss : [0.00105], val Loss : [ 0.02306], val_acc : [ 0.99504]\n"
     ]
    },
    {
     "name": "stderr",
     "output_type": "stream",
     "text": [
      "100%|██████████| 928/928 [11:53<00:00,  1.30it/s]\n",
      "100%|██████████| 104/104 [00:48<00:00,  2.13it/s]"
     ]
    },
    {
     "name": "stdout",
     "output_type": "stream",
     "text": [
      "Epoch [200], Train Loss : [0.00093], val Loss : [ 0.02167], val_acc : [ 0.99507]\n"
     ]
    },
    {
     "name": "stderr",
     "output_type": "stream",
     "text": [
      "\n"
     ]
    }
   ],
   "source": [
    "model = BaseModel()\n",
    "model.eval()\n",
    "optimizer = torch.optim.Adam(params = model.parameters(), lr = CFG['LEARNING_RATE'])\n",
    "scheduler = torch.optim.lr_scheduler.ReduceLROnPlateau(optimizer, mode='max', factor=0.5, patience=2,threshold_mode='abs',min_lr=1e-8, verbose=True)\n",
    "# scheduler = torch.optim.lr_scheduler.CosineAnnealingWarmRestarts(optimizer, T_0=10, T_mult=2, eta_min=0.000001)\n",
    "# CosineAnnealingWarmUpRestarts\n",
    "infer_model = train(model, optimizer, train_loader, val_loader, scheduler, device)"
   ]
  },
  {
   "cell_type": "markdown",
   "id": "d32efed9-ec88-40fc-83d2-e995e48c372a",
   "metadata": {},
   "source": [
    "## Inference"
   ]
  },
  {
   "cell_type": "code",
   "execution_count": 18,
   "id": "0498feef-9ca7-42ea-b73a-51a06dd4c684",
   "metadata": {},
   "outputs": [],
   "source": [
    "test = pd.read_csv('./test.csv')"
   ]
  },
  {
   "cell_type": "code",
   "execution_count": 19,
   "id": "a1bc676a-5216-4e1a-ac2c-3e940e8a3909",
   "metadata": {},
   "outputs": [],
   "source": [
    "test_dataset = CustomDataset(test['img_path'].values, None, None, test_transform)\n",
    "test_loader = DataLoader(test_dataset, batch_size = CFG['BATCH_SIZE'], shuffle=False, num_workers=0)"
   ]
  },
  {
   "cell_type": "code",
   "execution_count": 20,
   "id": "acc072b1-3749-4a0a-8c3b-80ef39a2fd56",
   "metadata": {},
   "outputs": [],
   "source": [
    "def inference(model, test_loader, device):\n",
    "    model.to(device)\n",
    "    model.eval()\n",
    "    predictions = []\n",
    "    with torch.no_grad():\n",
    "        for imgs in tqdm(iter(test_loader)):\n",
    "            imgs = imgs.float().to(device)\n",
    "            \n",
    "            probs = model(imgs)\n",
    "\n",
    "            probs  = probs.cpu().detach().numpy()\n",
    "            preds = probs > 0.5\n",
    "            preds = preds.astype(int)\n",
    "            predictions += preds.tolist()\n",
    "    return predictions"
   ]
  },
  {
   "cell_type": "code",
   "execution_count": 21,
   "id": "9fcce1a1-995c-403b-9229-f4253dd5c702",
   "metadata": {},
   "outputs": [
    {
     "name": "stderr",
     "output_type": "stream",
     "text": [
      "100%|██████████| 46/46 [00:10<00:00,  4.47it/s]\n"
     ]
    }
   ],
   "source": [
    "preds = inference(model, test_loader, device)\n",
    "best_val = inference(infer_model, test_loader, device)"
   ]
  },
  {
   "cell_type": "markdown",
   "id": "370e5a18-de28-4c3d-a33b-77d4797911eb",
   "metadata": {},
   "source": [
    "## Submission"
   ]
  },
  {
   "cell_type": "code",
   "execution_count": 22,
   "id": "95107b25-7d4b-423f-90ce-849c6f4a46c0",
   "metadata": {},
   "outputs": [],
   "source": [
    "submit = pd.read_csv('./sample_submission.csv')"
   ]
  },
  {
   "cell_type": "code",
   "execution_count": 23,
   "id": "c7d82083-af35-4ba5-957d-1c7451404eab",
   "metadata": {},
   "outputs": [
    {
     "data": {
      "text/html": [
       "<div>\n",
       "<style scoped>\n",
       "    .dataframe tbody tr th:only-of-type {\n",
       "        vertical-align: middle;\n",
       "    }\n",
       "\n",
       "    .dataframe tbody tr th {\n",
       "        vertical-align: top;\n",
       "    }\n",
       "\n",
       "    .dataframe thead th {\n",
       "        text-align: right;\n",
       "    }\n",
       "</style>\n",
       "<table border=\"1\" class=\"dataframe\">\n",
       "  <thead>\n",
       "    <tr style=\"text-align: right;\">\n",
       "      <th></th>\n",
       "      <th>id</th>\n",
       "      <th>A</th>\n",
       "      <th>B</th>\n",
       "      <th>C</th>\n",
       "      <th>D</th>\n",
       "      <th>E</th>\n",
       "      <th>F</th>\n",
       "      <th>G</th>\n",
       "      <th>H</th>\n",
       "      <th>I</th>\n",
       "      <th>J</th>\n",
       "    </tr>\n",
       "  </thead>\n",
       "  <tbody>\n",
       "    <tr>\n",
       "      <th>0</th>\n",
       "      <td>TEST_00000</td>\n",
       "      <td>0</td>\n",
       "      <td>1</td>\n",
       "      <td>0</td>\n",
       "      <td>0</td>\n",
       "      <td>0</td>\n",
       "      <td>0</td>\n",
       "      <td>1</td>\n",
       "      <td>0</td>\n",
       "      <td>1</td>\n",
       "      <td>0</td>\n",
       "    </tr>\n",
       "    <tr>\n",
       "      <th>1</th>\n",
       "      <td>TEST_00001</td>\n",
       "      <td>0</td>\n",
       "      <td>1</td>\n",
       "      <td>0</td>\n",
       "      <td>0</td>\n",
       "      <td>0</td>\n",
       "      <td>1</td>\n",
       "      <td>0</td>\n",
       "      <td>0</td>\n",
       "      <td>0</td>\n",
       "      <td>0</td>\n",
       "    </tr>\n",
       "    <tr>\n",
       "      <th>2</th>\n",
       "      <td>TEST_00002</td>\n",
       "      <td>1</td>\n",
       "      <td>1</td>\n",
       "      <td>0</td>\n",
       "      <td>1</td>\n",
       "      <td>1</td>\n",
       "      <td>1</td>\n",
       "      <td>0</td>\n",
       "      <td>0</td>\n",
       "      <td>0</td>\n",
       "      <td>1</td>\n",
       "    </tr>\n",
       "    <tr>\n",
       "      <th>3</th>\n",
       "      <td>TEST_00003</td>\n",
       "      <td>0</td>\n",
       "      <td>0</td>\n",
       "      <td>1</td>\n",
       "      <td>0</td>\n",
       "      <td>1</td>\n",
       "      <td>1</td>\n",
       "      <td>0</td>\n",
       "      <td>1</td>\n",
       "      <td>1</td>\n",
       "      <td>0</td>\n",
       "    </tr>\n",
       "    <tr>\n",
       "      <th>4</th>\n",
       "      <td>TEST_00004</td>\n",
       "      <td>0</td>\n",
       "      <td>1</td>\n",
       "      <td>0</td>\n",
       "      <td>0</td>\n",
       "      <td>1</td>\n",
       "      <td>0</td>\n",
       "      <td>0</td>\n",
       "      <td>0</td>\n",
       "      <td>0</td>\n",
       "      <td>0</td>\n",
       "    </tr>\n",
       "  </tbody>\n",
       "</table>\n",
       "</div>"
      ],
      "text/plain": [
       "           id  A  B  C  D  E  F  G  H  I  J\n",
       "0  TEST_00000  0  1  0  0  0  0  1  0  1  0\n",
       "1  TEST_00001  0  1  0  0  0  1  0  0  0  0\n",
       "2  TEST_00002  1  1  0  1  1  1  0  0  0  1\n",
       "3  TEST_00003  0  0  1  0  1  1  0  1  1  0\n",
       "4  TEST_00004  0  1  0  0  1  0  0  0  0  0"
      ]
     },
     "execution_count": 23,
     "metadata": {},
     "output_type": "execute_result"
    }
   ],
   "source": [
    "submit.iloc[:,1:] = preds\n",
    "submit.head()"
   ]
  },
  {
   "cell_type": "code",
   "execution_count": null,
   "id": "dd24b98d-1ac7-46df-a833-16d4cb57ac04",
   "metadata": {},
   "outputs": [],
   "source": [
    "save_path = './prediction/'\n",
    "exp_day = get_currentTime()\n",
    "exp_label = 'effi_v2_s, (400, bgSyn, test False, epoch-200, norm first(basic A), train_99, drop+clf)'\n",
    "extension = '.csv'\n",
    "submit.to_csv(f'{save_path}{exp_day}__{exp_label}{extension}', index=False)"
   ]
  },
  {
   "cell_type": "code",
   "execution_count": null,
   "id": "ba13c8c2",
   "metadata": {},
   "outputs": [],
   "source": [
    "submit.iloc[:,1:] = best_val\n",
    "submit.head()"
   ]
  },
  {
   "cell_type": "code",
   "execution_count": null,
   "id": "8dc618bc",
   "metadata": {},
   "outputs": [],
   "source": [
    "save_path = './prediction/'\n",
    "exp_day = get_currentTime()\n",
    "exp_label = 'effi_v2_s_BEST, (400, bgSyn, test False, epoch-200, norm first(basic A), train_99, drop+clf)'\n",
    "extension = '.csv'\n",
    "submit.to_csv(f'{save_path}{exp_day}__{exp_label}{extension}', index=False)"
   ]
  }
 ],
 "metadata": {
  "kernelspec": {
   "display_name": "Vision",
   "language": "python",
   "name": "python3"
  },
  "language_info": {
   "codemirror_mode": {
    "name": "ipython",
    "version": 3
   },
   "file_extension": ".py",
   "mimetype": "text/x-python",
   "name": "python",
   "nbconvert_exporter": "python",
   "pygments_lexer": "ipython3",
   "version": "3.10.9 (main, Jan 11 2023, 15:21:40) [GCC 11.2.0]"
  },
  "vscode": {
   "interpreter": {
    "hash": "2be5db867a8e48a5046a648c27c7f3533a04d485c5580f847108a942a2a2f253"
   }
  }
 },
 "nbformat": 4,
 "nbformat_minor": 5
}
