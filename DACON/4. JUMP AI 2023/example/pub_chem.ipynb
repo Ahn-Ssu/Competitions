{
 "cells": [
  {
   "cell_type": "code",
   "execution_count": 6,
   "metadata": {},
   "outputs": [],
   "source": [
    "import pubchempy as pcp \n",
    "import pandas as pd\n",
    "import numpy as np\n",
    "from tqdm import tqdm\n",
    "\n",
    "smiles = 'CC(C)Nc1ccnc(N2CCN(Cc3cccs3)C(CCO)C2)n1'\n",
    "\n",
    "\n",
    "# \n",
    "# property = ['CanonicalSMILES', 'XLogP', 'ExactMass', 'MonoisotopicMass', 'TPSA', 'Complexity', 'Charge', 'HBondDonorCount', 'HBondAcceptorCount', 'RotatableBondCount', 'HeavyAtomCount', 'IsotopeAtomCount', 'AtomStereoCount', 'DefinedAtomStereoCount', 'UndefinedAtomStereoCount', 'BondStereoCount', 'DefinedBondStereoCount', 'UndefinedBondStereoCount', 'CovalentUnitCount', 'Volume3D', 'XStericQuadrupole3D', 'YStericQuadrupole3D', 'ZStericQuadrupole3D', 'FeatureCount3D', 'FeatureAcceptorCount3D', 'FeatureDonorCount3D', 'FeatureAnionCount3D', 'FeatureCationCount3D', 'FeatureRingCount3D', 'FeatureHydrophobeCount3D', 'ConformerModelRMSD3D', 'EffectiveRotorCount3D', 'ConformerCount3D']\n",
    "\n",
    "property = ['MolecularFormula', 'MolecularWeight', 'CanonicalSMILES', 'IsomericSMILES', 'InChI', 'InChIKey', 'IUPACName','CanonicalSMILES', 'XLogP', 'ExactMass', 'MonoisotopicMass', 'TPSA', 'Complexity', 'Charge', 'HBondDonorCount', 'HBondAcceptorCount', 'RotatableBondCount', 'HeavyAtomCount', 'IsotopeAtomCount', 'AtomStereoCount', 'DefinedAtomStereoCount', 'UndefinedAtomStereoCount', 'BondStereoCount', 'DefinedBondStereoCount', 'UndefinedBondStereoCount', 'CovalentUnitCount', 'Volume3D', 'XStericQuadrupole3D', 'YStericQuadrupole3D', 'ZStericQuadrupole3D', 'FeatureCount3D', 'FeatureAcceptorCount3D', 'FeatureDonorCount3D', 'FeatureAnionCount3D', 'FeatureCationCount3D', 'FeatureRingCount3D', 'FeatureHydrophobeCount3D', 'ConformerModelRMSD3D', 'EffectiveRotorCount3D', 'ConformerCount3D']"
   ]
  },
  {
   "cell_type": "code",
   "execution_count": 7,
   "metadata": {},
   "outputs": [],
   "source": [
    "df = pd.read_csv('/root/Competitions/DACON/4. JUMP AI 2023/data/new_train.csv')\n",
    "\n",
    "smiles = df.SMILES\n"
   ]
  },
  {
   "cell_type": "code",
   "execution_count": 8,
   "metadata": {},
   "outputs": [
    {
     "name": "stderr",
     "output_type": "stream",
     "text": [
      "  1%|          | 21/3498 [00:46<2:03:30,  2.13s/it]"
     ]
    },
    {
     "name": "stdout",
     "output_type": "stream",
     "text": [
      "CNC(=O)c1cc(Cl)cc(C)c1NC(=O)c1cc(Br)nn1-c1c(F)c(F)cc(F)c1F\n"
     ]
    },
    {
     "name": "stderr",
     "output_type": "stream",
     "text": [
      "  1%|▏         | 46/3498 [01:43<2:00:29,  2.09s/it]"
     ]
    },
    {
     "name": "stdout",
     "output_type": "stream",
     "text": [
      "COn1c(Br)c(Br)c(Br)c1C(=O)Nc1ccc(Br)cc1\n"
     ]
    },
    {
     "name": "stderr",
     "output_type": "stream",
     "text": [
      "  2%|▏         | 54/3498 [02:03<2:32:29,  2.66s/it]"
     ]
    },
    {
     "name": "stdout",
     "output_type": "stream",
     "text": [
      "COc1cc(Br)c(S(=O)(=O)N[C@@H]2CCCN(C(=O)c3ccccc3)C2)cc1OC\n"
     ]
    },
    {
     "name": "stderr",
     "output_type": "stream",
     "text": [
      "  2%|▏         | 58/3498 [02:12<2:09:12,  2.25s/it]"
     ]
    },
    {
     "name": "stdout",
     "output_type": "stream",
     "text": [
      "O=C(c1cc2cc(Br)c3ncccc3c2s1)N1CCN(c2ccccc2)CC1\n"
     ]
    },
    {
     "name": "stderr",
     "output_type": "stream",
     "text": [
      "  2%|▏         | 59/3498 [02:14<2:04:03,  2.16s/it]"
     ]
    },
    {
     "name": "stdout",
     "output_type": "stream",
     "text": [
      "Cc1nc2ccccc2c(=O)n1-c1ccc(Cl)c(O[C@H]2CCN(C)C2)c1\n"
     ]
    },
    {
     "name": "stderr",
     "output_type": "stream",
     "text": [
      "  2%|▏         | 69/3498 [02:37<2:13:21,  2.33s/it]"
     ]
    },
    {
     "name": "stdout",
     "output_type": "stream",
     "text": [
      "CS(=O)(=O)c1ccc(Nc2ccc3sc(C(=O)O)cc3c2)c(F)c1\n"
     ]
    },
    {
     "name": "stderr",
     "output_type": "stream",
     "text": [
      "  2%|▏         | 71/3498 [02:41<2:03:34,  2.16s/it]"
     ]
    },
    {
     "name": "stdout",
     "output_type": "stream",
     "text": [
      "Cc1cc(Br)cc(C(=O)c2c(C(C)C)c(=O)[nH]c(=O)n2Cc2cc(F)nc(F)c2)c1\n"
     ]
    },
    {
     "name": "stderr",
     "output_type": "stream",
     "text": [
      "  2%|▏         | 78/3498 [02:57<2:11:34,  2.31s/it]"
     ]
    },
    {
     "name": "stdout",
     "output_type": "stream",
     "text": [
      "COC(=O)c1ccc(CCC(C)NCC(O)c2cccc(Cl)c2)o1\n"
     ]
    },
    {
     "name": "stderr",
     "output_type": "stream",
     "text": [
      "  2%|▏         | 85/3498 [03:14<2:08:40,  2.26s/it]"
     ]
    },
    {
     "name": "stdout",
     "output_type": "stream",
     "text": [
      "Cc1nc(C)c(COCc2ccccc2)c(-c2ccc(Cl)cc2)c1CO\n"
     ]
    },
    {
     "name": "stderr",
     "output_type": "stream",
     "text": [
      "  3%|▎         | 89/3498 [03:23<2:06:49,  2.23s/it]"
     ]
    },
    {
     "name": "stdout",
     "output_type": "stream",
     "text": [
      "[H][C@]1(NC(=O)OCc2ccccc2)C2C=CC(C2)[C@@]1([H])C(O)(c1ccccc1)c1ccccc1\n"
     ]
    },
    {
     "name": "stderr",
     "output_type": "stream",
     "text": [
      "  3%|▎         | 91/3498 [03:27<2:02:31,  2.16s/it]"
     ]
    },
    {
     "name": "stdout",
     "output_type": "stream",
     "text": [
      "O=C(COc1ccc2c3ccccc3n(C(=O)c3cccnc3)c2c1)N1CCCCC1\n"
     ]
    },
    {
     "name": "stderr",
     "output_type": "stream",
     "text": [
      "  3%|▎         | 93/3498 [03:32<2:01:26,  2.14s/it]"
     ]
    },
    {
     "name": "stdout",
     "output_type": "stream",
     "text": [
      "CCC12OCC(C)(C)N1O/C(=N/c1ccccc1)N2c1ccccc1\n"
     ]
    },
    {
     "name": "stderr",
     "output_type": "stream",
     "text": [
      "  3%|▎         | 104/3498 [03:57<2:12:22,  2.34s/it]"
     ]
    },
    {
     "name": "stdout",
     "output_type": "stream",
     "text": [
      "COc1ccc2c3c1O[C@H]1C[C@@H](O)C=C[C@]31C[C@H](C)N(Cc1ccc(Br)cc1)C2\n"
     ]
    },
    {
     "name": "stderr",
     "output_type": "stream",
     "text": [
      "  3%|▎         | 105/3498 [03:59<2:05:22,  2.22s/it]"
     ]
    },
    {
     "name": "stdout",
     "output_type": "stream",
     "text": [
      "O=c1[nH]c2c(c(=O)n1-c1cccc(F)c1)S(=O)CC2\n"
     ]
    },
    {
     "name": "stderr",
     "output_type": "stream",
     "text": [
      "  3%|▎         | 106/3498 [04:01<2:03:13,  2.18s/it]"
     ]
    },
    {
     "name": "stdout",
     "output_type": "stream",
     "text": [
      "CCCSc1nc(OC)c(-c2ccccc2C)c(=O)n1C\n"
     ]
    },
    {
     "name": "stderr",
     "output_type": "stream",
     "text": [
      "  4%|▎         | 126/3498 [04:49<2:08:28,  2.29s/it]"
     ]
    },
    {
     "name": "stdout",
     "output_type": "stream",
     "text": [
      "COC(=O)c1[nH]cc(C(=O)C2CCNCC2)c1C\n"
     ]
    },
    {
     "name": "stderr",
     "output_type": "stream",
     "text": [
      "  4%|▎         | 128/3498 [04:54<2:09:11,  2.30s/it]"
     ]
    },
    {
     "name": "stdout",
     "output_type": "stream",
     "text": [
      "CCC(C)Nc1[nH]c2cc(C)cc(C)c2c(=O)c1C(C)=O\n"
     ]
    },
    {
     "name": "stderr",
     "output_type": "stream",
     "text": [
      "  4%|▍         | 134/3498 [05:07<2:04:09,  2.21s/it]"
     ]
    },
    {
     "name": "stdout",
     "output_type": "stream",
     "text": [
      "COc1ccc(CCN2CCC(NC(=O)c3cc4cc(Br)ccc4o3)CC2)cc1\n"
     ]
    },
    {
     "name": "stderr",
     "output_type": "stream",
     "text": [
      "  4%|▍         | 136/3498 [05:11<2:00:56,  2.16s/it]"
     ]
    },
    {
     "name": "stdout",
     "output_type": "stream",
     "text": [
      "O=C(C1CCOCC1)N1CCCC(Cn2cnc3cccnc32)C1\n"
     ]
    },
    {
     "name": "stderr",
     "output_type": "stream",
     "text": [
      "  4%|▍         | 139/3498 [05:18<2:03:33,  2.21s/it]"
     ]
    },
    {
     "name": "stdout",
     "output_type": "stream",
     "text": [
      "CC1(C)CC(S(=O)(=O)CC2(C)CC(c3ccc(Br)o3)=NO2)=NO1\n"
     ]
    },
    {
     "name": "stderr",
     "output_type": "stream",
     "text": [
      "  4%|▍         | 143/3498 [05:27<2:05:48,  2.25s/it]"
     ]
    },
    {
     "name": "stdout",
     "output_type": "stream",
     "text": [
      "C[C@H](Nc1ncnc2[nH]cnc12)c1cc2ccccc2nc1-c1ccccc1\n"
     ]
    },
    {
     "name": "stderr",
     "output_type": "stream",
     "text": [
      "  4%|▍         | 145/3498 [05:32<2:07:40,  2.28s/it]"
     ]
    },
    {
     "name": "stdout",
     "output_type": "stream",
     "text": [
      "CCCNC1=Nc2ccccc2S(=O)(=O)N1CCC\n"
     ]
    },
    {
     "name": "stderr",
     "output_type": "stream",
     "text": [
      "  4%|▍         | 155/3498 [05:55<1:59:57,  2.15s/it]"
     ]
    },
    {
     "name": "stdout",
     "output_type": "stream",
     "text": [
      "CS(=O)(=O)c1ccc(Oc2cc(F)cc(C(=O)O)c2)c2c1[C@H](O)C(F)(F)C2\n"
     ]
    },
    {
     "name": "stderr",
     "output_type": "stream",
     "text": [
      "  4%|▍         | 157/3498 [05:59<2:00:08,  2.16s/it]"
     ]
    },
    {
     "name": "stdout",
     "output_type": "stream",
     "text": [
      "CSc1c(C(C)=O)c(=O)nc2scc(C)n12\n"
     ]
    },
    {
     "name": "stderr",
     "output_type": "stream",
     "text": [
      "  5%|▌         | 183/3498 [06:59<2:02:15,  2.21s/it]"
     ]
    },
    {
     "name": "stdout",
     "output_type": "stream",
     "text": [
      "COCCNC(=O)C(=O)N1CCC(OC(=O)c2ccc(Oc3ccccc3)cc2)C(N2CCN(c3ccc(F)cc3)CC2)C1\n"
     ]
    },
    {
     "name": "stderr",
     "output_type": "stream",
     "text": [
      "  6%|▌         | 197/3498 [07:31<2:00:59,  2.20s/it]"
     ]
    },
    {
     "name": "stdout",
     "output_type": "stream",
     "text": [
      "CC1(COc2ccc(Cl)cc2)CC(n2cncn2)C(c2ccc(Cl)cc2)=NO1\n"
     ]
    },
    {
     "name": "stderr",
     "output_type": "stream",
     "text": [
      "  6%|▌         | 201/3498 [07:41<2:08:50,  2.34s/it]"
     ]
    },
    {
     "name": "stdout",
     "output_type": "stream",
     "text": [
      "COC(=O)c1ccc2c(c1)nc(-c1ccc(C(C)(C)C)cc1)n2Cc1ccc(F)cc1\n"
     ]
    },
    {
     "name": "stderr",
     "output_type": "stream",
     "text": [
      "  6%|▌         | 203/3498 [07:45<2:07:57,  2.33s/it]"
     ]
    },
    {
     "name": "stdout",
     "output_type": "stream",
     "text": [
      "COc1ccc(CCCNC(=O)c2cnn3cc(Br)cnc23)cc1\n"
     ]
    },
    {
     "name": "stderr",
     "output_type": "stream",
     "text": [
      "  6%|▌         | 206/3498 [07:52<2:01:05,  2.21s/it]"
     ]
    },
    {
     "name": "stdout",
     "output_type": "stream",
     "text": [
      "CC(C)NC(=O)c1cc(Cl)cc(Cl)c1NC(=O)c1cc(OCC(=O)C(C)(C)C)nn1-c1ncccc1Cl\n"
     ]
    },
    {
     "name": "stderr",
     "output_type": "stream",
     "text": [
      "  6%|▌         | 213/3498 [08:08<2:08:07,  2.34s/it]"
     ]
    },
    {
     "name": "stdout",
     "output_type": "stream",
     "text": [
      "CNC1=C(c2cc(Br)ccn2)C(=O)C(c2cccc(Cl)c2)O1\n"
     ]
    },
    {
     "name": "stderr",
     "output_type": "stream",
     "text": [
      "  6%|▋         | 219/3498 [08:22<2:04:42,  2.28s/it]"
     ]
    },
    {
     "name": "stdout",
     "output_type": "stream",
     "text": [
      "Cc1ccc(-n2nncc2-c2ccc(O)cc2O)cc1\n"
     ]
    },
    {
     "name": "stderr",
     "output_type": "stream",
     "text": [
      "  7%|▋         | 229/3498 [08:45<2:01:15,  2.23s/it]"
     ]
    },
    {
     "name": "stdout",
     "output_type": "stream",
     "text": [
      "CCN(c1ccc2c(c1)OCO2)c1cc(Cl)nc(Cl)n1\n"
     ]
    },
    {
     "name": "stderr",
     "output_type": "stream",
     "text": [
      "  7%|▋         | 230/3498 [08:47<1:55:13,  2.12s/it]"
     ]
    },
    {
     "name": "stdout",
     "output_type": "stream",
     "text": [
      "Cc1nc2c(cc1Br)nc(Cl)n2C\n"
     ]
    },
    {
     "name": "stderr",
     "output_type": "stream",
     "text": [
      "  7%|▋         | 236/3498 [09:01<2:00:25,  2.22s/it]"
     ]
    },
    {
     "name": "stdout",
     "output_type": "stream",
     "text": [
      "COC(=O)[C@@H](O)c1c(C)nc2[nH]c3c(c2c1-c1ccc(Cl)cc1)CCCC3\n"
     ]
    },
    {
     "name": "stderr",
     "output_type": "stream",
     "text": [
      "  7%|▋         | 241/3498 [09:13<2:11:29,  2.42s/it]"
     ]
    },
    {
     "name": "stdout",
     "output_type": "stream",
     "text": [
      "NC(=O)c1cccc2cc(CN3CCN(c4ccccc4Cl)CC3)oc12\n"
     ]
    },
    {
     "name": "stderr",
     "output_type": "stream",
     "text": [
      "  7%|▋         | 249/3498 [09:32<2:14:53,  2.49s/it]"
     ]
    },
    {
     "name": "stdout",
     "output_type": "stream",
     "text": [
      "[H][C@]1(c2cc(O)cc(O)c2)c2c(cc3c(c2/C=C/c2ccc(O)cc2)[C@]([H])(c2cc(O)cc(O)c2)[C@@]([H])(c2ccc(O)cc2)O3)O[C@]1([H])c1ccc(O)cc1\n"
     ]
    },
    {
     "name": "stderr",
     "output_type": "stream",
     "text": [
      "  7%|▋         | 251/3498 [09:36<2:05:16,  2.31s/it]"
     ]
    },
    {
     "name": "stdout",
     "output_type": "stream",
     "text": [
      "CCc1nc2cc(Br)c(C(=O)OC)nc2n1CC(=O)c1ccccc1\n"
     ]
    },
    {
     "name": "stderr",
     "output_type": "stream",
     "text": [
      "  7%|▋         | 253/3498 [09:41<2:03:52,  2.29s/it]"
     ]
    },
    {
     "name": "stdout",
     "output_type": "stream",
     "text": [
      "CN(C)C[C@H]1CC[C@H](Nc2ncc3ccc(=O)n(C4CCCCCC4)c3n2)CC1\n"
     ]
    },
    {
     "name": "stderr",
     "output_type": "stream",
     "text": [
      "  7%|▋         | 260/3498 [09:58<2:05:57,  2.33s/it]"
     ]
    },
    {
     "name": "stdout",
     "output_type": "stream",
     "text": [
      "[H][C@@]1([C@@H](C)OC(C)=O)NC(=O)[C@H](CC(C)C)NC1=O\n"
     ]
    },
    {
     "name": "stderr",
     "output_type": "stream",
     "text": [
      "  8%|▊         | 268/3498 [10:16<2:00:27,  2.24s/it]"
     ]
    },
    {
     "name": "stdout",
     "output_type": "stream",
     "text": [
      "O=C1c2ccsc2CCC1N1CCN(c2ncccn2)CC1\n"
     ]
    },
    {
     "name": "stderr",
     "output_type": "stream",
     "text": [
      "  8%|▊         | 288/3498 [11:03<1:57:08,  2.19s/it]"
     ]
    },
    {
     "name": "stdout",
     "output_type": "stream",
     "text": [
      "COC(=O)CCN1C(=O)c2ccncc2/C1=C\\c1ccccc1\n"
     ]
    },
    {
     "name": "stderr",
     "output_type": "stream",
     "text": [
      "  9%|▊         | 300/3498 [11:32<2:05:52,  2.36s/it]"
     ]
    },
    {
     "name": "stdout",
     "output_type": "stream",
     "text": [
      "O=C(N[C@H](c1ccccc1)[C@@H](O)c1ccccc1)c1ccc(F)cc1\n"
     ]
    },
    {
     "name": "stderr",
     "output_type": "stream",
     "text": [
      "  9%|▊         | 304/3498 [11:41<2:05:10,  2.35s/it]"
     ]
    },
    {
     "name": "stdout",
     "output_type": "stream",
     "text": [
      "CC(=O)OC/C=C/CCCC/C=C/COC(C)=O\n"
     ]
    },
    {
     "name": "stderr",
     "output_type": "stream",
     "text": [
      "  9%|▊         | 306/3498 [11:46<2:06:01,  2.37s/it]"
     ]
    },
    {
     "name": "stdout",
     "output_type": "stream",
     "text": [
      "Brc1ccc(-c2n[nH]c(-c3ccccc3)c2-c2ncc[nH]2)cc1\n"
     ]
    },
    {
     "name": "stderr",
     "output_type": "stream",
     "text": [
      "  9%|▉         | 311/3498 [11:57<1:58:54,  2.24s/it]"
     ]
    },
    {
     "name": "stdout",
     "output_type": "stream",
     "text": [
      "CC1CCC(C)N1C(=O)c1cc(Br)nn1-c1ncccc1Cl\n"
     ]
    },
    {
     "name": "stderr",
     "output_type": "stream",
     "text": [
      "  9%|▉         | 312/3498 [11:59<1:54:35,  2.16s/it]"
     ]
    },
    {
     "name": "stdout",
     "output_type": "stream",
     "text": [
      "O=C(O)CCc1ccc(N2Cc3ccc(NC(=O)c4ccccc4)cc3C2=O)cc1\n"
     ]
    },
    {
     "name": "stderr",
     "output_type": "stream",
     "text": [
      "  9%|▉         | 329/3498 [12:39<1:56:38,  2.21s/it]"
     ]
    },
    {
     "name": "stdout",
     "output_type": "stream",
     "text": [
      "CC1CC(=O)N(c2ccc(-c3cccc(C#N)c3)cc2)N=C1c1ccc(O)cc1\n"
     ]
    },
    {
     "name": "stderr",
     "output_type": "stream",
     "text": [
      " 10%|▉         | 341/3498 [13:08<2:03:25,  2.35s/it]"
     ]
    },
    {
     "name": "stdout",
     "output_type": "stream",
     "text": [
      "O=C(Nc1ccc(/C=C/C(=O)N2CCC[C@H]2C(=O)O)cc1)Nc1ccccc1Br\n"
     ]
    },
    {
     "name": "stderr",
     "output_type": "stream",
     "text": [
      " 10%|▉         | 345/3498 [13:18<2:04:11,  2.36s/it]"
     ]
    },
    {
     "name": "stdout",
     "output_type": "stream",
     "text": [
      "NCC1=CCCN(c2nc3c(cc2F)c(=O)c(C(=O)O)cn3-c2ncc(F)cc2Cl)C1\n"
     ]
    },
    {
     "name": "stderr",
     "output_type": "stream",
     "text": [
      " 10%|█         | 351/3498 [13:32<2:12:24,  2.52s/it]"
     ]
    },
    {
     "name": "stdout",
     "output_type": "stream",
     "text": [
      "Clc1ccc(C2=NOC(COc3cccc(Cl)c3Cl)CC2n2cncn2)cc1\n"
     ]
    },
    {
     "name": "stderr",
     "output_type": "stream",
     "text": [
      " 10%|█         | 355/3498 [13:42<2:01:59,  2.33s/it]"
     ]
    },
    {
     "name": "stdout",
     "output_type": "stream",
     "text": [
      "CC(C)(C)OC(=O)NC(CC(=O)N1CCCCCN1C(=O)c1cccc(C#N)c1)Cc1ccccc1F\n"
     ]
    },
    {
     "name": "stderr",
     "output_type": "stream",
     "text": [
      " 10%|█         | 356/3498 [13:44<1:57:57,  2.25s/it]"
     ]
    },
    {
     "name": "stdout",
     "output_type": "stream",
     "text": [
      "CN(C)c1ccc(C(O)CF)c(S(N)(=O)=O)n1\n"
     ]
    },
    {
     "name": "stderr",
     "output_type": "stream",
     "text": [
      " 10%|█         | 361/3498 [13:58<2:14:16,  2.57s/it]"
     ]
    },
    {
     "name": "stdout",
     "output_type": "stream",
     "text": [
      "COC(=O)[C@@]12Cc3ccccc3[C@@H](C1)N(C(C)(C)C)O2\n"
     ]
    },
    {
     "name": "stderr",
     "output_type": "stream",
     "text": [
      " 10%|█         | 362/3498 [14:00<2:12:20,  2.53s/it]"
     ]
    },
    {
     "name": "stdout",
     "output_type": "stream",
     "text": [
      "O=C(Nc1ccc(F)cc1)Nc1cc2ccc(O)cc2s1\n"
     ]
    },
    {
     "name": "stderr",
     "output_type": "stream",
     "text": [
      " 10%|█         | 364/3498 [14:05<2:11:20,  2.51s/it]"
     ]
    },
    {
     "name": "stdout",
     "output_type": "stream",
     "text": [
      "CN(CCOc1ccc(C2=NN(c3ccccc3)C(=O)C2)cc1)c1nc2ccccc2o1\n"
     ]
    },
    {
     "name": "stderr",
     "output_type": "stream",
     "text": [
      " 10%|█         | 367/3498 [14:13<2:12:32,  2.54s/it]"
     ]
    },
    {
     "name": "stdout",
     "output_type": "stream",
     "text": [
      "CC(=O)Nc1nc2ccc(-c3nn(C(C)C)c4nc(N)ncc34)cc2s1\n"
     ]
    },
    {
     "name": "stderr",
     "output_type": "stream",
     "text": [
      " 11%|█         | 373/3498 [14:28<2:05:55,  2.42s/it]"
     ]
    },
    {
     "name": "stdout",
     "output_type": "stream",
     "text": [
      "CC(c1ncc(-c2ccc(O)cc2)s1)C(O)(Cn1cncn1)c1ccc(F)cc1F\n"
     ]
    },
    {
     "name": "stderr",
     "output_type": "stream",
     "text": [
      " 11%|█         | 376/3498 [14:35<2:02:30,  2.35s/it]"
     ]
    },
    {
     "name": "stdout",
     "output_type": "stream",
     "text": [
      "COc1cc(OC)cc(N(Cc2c(F)cccc2Cl)C(=O)Cc2ccncc2)c1\n"
     ]
    },
    {
     "name": "stderr",
     "output_type": "stream",
     "text": [
      " 11%|█         | 377/3498 [14:37<1:56:30,  2.24s/it]"
     ]
    },
    {
     "name": "stdout",
     "output_type": "stream",
     "text": [
      "CS(=O)(=O)N[C@H]1CC[C@H](Nc2ncnc3[nH]cc(-c4cc(Cl)c(O)c(Cl)c4)c23)CC1\n"
     ]
    },
    {
     "name": "stderr",
     "output_type": "stream",
     "text": [
      " 11%|█         | 379/3498 [14:41<1:57:09,  2.25s/it]"
     ]
    },
    {
     "name": "stdout",
     "output_type": "stream",
     "text": [
      "c1ccc(-c2nc3c(-c4ccccc4)ccc(-c4ccccc4)n3n2)cc1\n"
     ]
    },
    {
     "name": "stderr",
     "output_type": "stream",
     "text": [
      " 11%|█         | 382/3498 [14:48<1:54:27,  2.20s/it]"
     ]
    },
    {
     "name": "stdout",
     "output_type": "stream",
     "text": [
      "Cc1cccc2c(O)c3nc(C)n(-c4ccccc4)c3nc12\n"
     ]
    },
    {
     "name": "stderr",
     "output_type": "stream",
     "text": [
      " 11%|█         | 383/3498 [14:50<1:51:39,  2.15s/it]"
     ]
    },
    {
     "name": "stdout",
     "output_type": "stream",
     "text": [
      "O=S(=O)(CC1C(c2ccccc2)N1c1ccccc1)c1ccccc1\n"
     ]
    },
    {
     "name": "stderr",
     "output_type": "stream",
     "text": [
      " 11%|█         | 390/3498 [15:08<2:09:25,  2.50s/it]"
     ]
    },
    {
     "name": "stdout",
     "output_type": "stream",
     "text": [
      "CC(=O)/N=C1\\N(c2ccc(Cl)cc2Cl)C(=O)N(S(=O)(=O)c2ccc(Cl)cc2)C1(C)C(C)C\n"
     ]
    },
    {
     "name": "stderr",
     "output_type": "stream",
     "text": [
      " 11%|█         | 391/3498 [15:10<2:05:03,  2.41s/it]"
     ]
    },
    {
     "name": "stdout",
     "output_type": "stream",
     "text": [
      "CC(C)c1cc(C(=O)N2CCC(Oc3ccc(-c4ccc(S(C)(=O)=O)cc4F)nc3)CC2)no1\n"
     ]
    },
    {
     "name": "stderr",
     "output_type": "stream",
     "text": [
      " 11%|█▏        | 399/3498 [15:29<1:58:14,  2.29s/it]"
     ]
    },
    {
     "name": "stdout",
     "output_type": "stream",
     "text": [
      "COc1nn(C)c(=O)n1-c1cccc(Cl)c1Cl\n"
     ]
    },
    {
     "name": "stderr",
     "output_type": "stream",
     "text": [
      " 11%|█▏        | 402/3498 [15:37<2:07:09,  2.46s/it]"
     ]
    },
    {
     "name": "stdout",
     "output_type": "stream",
     "text": [
      "O=[N+]([O-])c1cccc(F)c1COc1cccc(C(F)(F)F)c1\n"
     ]
    },
    {
     "name": "stderr",
     "output_type": "stream",
     "text": [
      " 12%|█▏        | 403/3498 [15:39<2:03:08,  2.39s/it]"
     ]
    },
    {
     "name": "stdout",
     "output_type": "stream",
     "text": [
      "Cc1cn(S(=O)(=O)c2ccccc2)cc1C(=O)CC(C)C[N+](=O)[O-]\n"
     ]
    },
    {
     "name": "stderr",
     "output_type": "stream",
     "text": [
      " 12%|█▏        | 406/3498 [15:46<2:00:00,  2.33s/it]"
     ]
    },
    {
     "name": "stdout",
     "output_type": "stream",
     "text": [
      "COC(=O)C(OC(C)(C)C)c1cc2c(nc1C)C(=O)NCC2\n"
     ]
    },
    {
     "name": "stderr",
     "output_type": "stream",
     "text": [
      " 12%|█▏        | 422/3498 [16:24<2:02:11,  2.38s/it]"
     ]
    },
    {
     "name": "stdout",
     "output_type": "stream",
     "text": [
      "COc1ccc(-n2c(C)c(C)c3nc(OC)ccc32)cc1\n"
     ]
    },
    {
     "name": "stderr",
     "output_type": "stream",
     "text": [
      " 12%|█▏        | 424/3498 [16:29<1:56:51,  2.28s/it]"
     ]
    },
    {
     "name": "stdout",
     "output_type": "stream",
     "text": [
      "COc1ccc(-c2c(-c3ccccc3)nn(-c3cccc4ccccc34)c2N(C)C)cc1OC\n"
     ]
    },
    {
     "name": "stderr",
     "output_type": "stream",
     "text": [
      " 12%|█▏        | 429/3498 [16:41<2:00:18,  2.35s/it]"
     ]
    },
    {
     "name": "stdout",
     "output_type": "stream",
     "text": [
      "CC(C)(C)OC(=O)N1CCCCC1CCOc1ccc2c(c1)CN(c1ccc(S(C)(=O)=O)cc1F)C2=O\n"
     ]
    },
    {
     "name": "stderr",
     "output_type": "stream",
     "text": [
      " 12%|█▏        | 433/3498 [16:51<2:02:58,  2.41s/it]"
     ]
    },
    {
     "name": "stdout",
     "output_type": "stream",
     "text": [
      "COc1c(Cl)c(Nc2ccc3[nH]ncc3c2)nc(NC(C)C)c1Cl\n"
     ]
    },
    {
     "name": "stderr",
     "output_type": "stream",
     "text": [
      " 12%|█▏        | 434/3498 [16:53<1:59:56,  2.35s/it]"
     ]
    },
    {
     "name": "stdout",
     "output_type": "stream",
     "text": [
      "COc1ccc(Sc2nn(S(C)(=O)=O)c3ccccc23)cc1OC\n"
     ]
    },
    {
     "name": "stderr",
     "output_type": "stream",
     "text": [
      " 12%|█▏        | 436/3498 [16:58<1:58:10,  2.32s/it]"
     ]
    },
    {
     "name": "stdout",
     "output_type": "stream",
     "text": [
      "CNC(=O)c1cc2c(F)c(O)ccc2n1-c1cc(F)c(O)c(F)c1\n"
     ]
    },
    {
     "name": "stderr",
     "output_type": "stream",
     "text": [
      " 13%|█▎        | 446/3498 [17:22<2:04:35,  2.45s/it]"
     ]
    },
    {
     "name": "stdout",
     "output_type": "stream",
     "text": [
      "COc1cccc(-c2csc(C3(c4ccc(OC)c(C)c4)N=C(N)N(C)C3=O)n2)c1\n"
     ]
    },
    {
     "name": "stderr",
     "output_type": "stream",
     "text": [
      " 13%|█▎        | 456/3498 [17:46<1:56:00,  2.29s/it]"
     ]
    },
    {
     "name": "stdout",
     "output_type": "stream",
     "text": [
      "CC1CCNC2CN(c3nc4c(cc3F)c(=O)c(C(=O)O)cn4-c3ncc(F)cc3F)CC12\n"
     ]
    },
    {
     "name": "stderr",
     "output_type": "stream",
     "text": [
      " 13%|█▎        | 458/3498 [17:50<1:51:53,  2.21s/it]"
     ]
    },
    {
     "name": "stdout",
     "output_type": "stream",
     "text": [
      "Cc1cc(-c2cc(=O)n(C)n2C(F)F)c(F)cc1Cl\n"
     ]
    },
    {
     "name": "stderr",
     "output_type": "stream",
     "text": [
      " 13%|█▎        | 460/3498 [17:55<1:54:50,  2.27s/it]"
     ]
    },
    {
     "name": "stdout",
     "output_type": "stream",
     "text": [
      "CCC(C)Nc1c(C(C)=O)c(=O)[nH]c2c(C(=O)OC)scc12\n"
     ]
    },
    {
     "name": "stderr",
     "output_type": "stream",
     "text": [
      " 13%|█▎        | 465/3498 [18:06<1:53:23,  2.24s/it]"
     ]
    },
    {
     "name": "stdout",
     "output_type": "stream",
     "text": [
      "CN(Cc1ccccc1)C(=O)COc1ccc2c3ccccc3n(C(=O)c3ccc(C(C)(C)C)cc3)c2c1\n"
     ]
    },
    {
     "name": "stderr",
     "output_type": "stream",
     "text": [
      " 13%|█▎        | 470/3498 [18:18<1:51:47,  2.22s/it]"
     ]
    },
    {
     "name": "stdout",
     "output_type": "stream",
     "text": [
      "CCOC(=O)c1c(N)sc2c1CCC(NC(=O)OC(C)(C)C)C2\n"
     ]
    },
    {
     "name": "stderr",
     "output_type": "stream",
     "text": [
      " 13%|█▎        | 471/3498 [18:20<1:48:07,  2.14s/it]"
     ]
    },
    {
     "name": "stdout",
     "output_type": "stream",
     "text": [
      "COC(=O)C(O)c1c(C)nc2[nH]c3c(c2c1Cl)CCCC3\n"
     ]
    },
    {
     "name": "stderr",
     "output_type": "stream",
     "text": [
      " 14%|█▎        | 474/3498 [18:26<1:48:18,  2.15s/it]"
     ]
    },
    {
     "name": "stdout",
     "output_type": "stream",
     "text": [
      "O=C(CN1C(C(=O)c2ccccc2)=C(O)c2ccccc2S1(=O)=O)Nc1ccc(Br)cc1F\n"
     ]
    },
    {
     "name": "stderr",
     "output_type": "stream",
     "text": [
      " 14%|█▍        | 485/3498 [18:52<1:53:25,  2.26s/it]"
     ]
    },
    {
     "name": "stdout",
     "output_type": "stream",
     "text": [
      "Cc1ccccc1-c1nc2ccccc2cc1Cn1c2ccc(C(N)=O)cc2c2cnc(N)nc21\n"
     ]
    },
    {
     "name": "stderr",
     "output_type": "stream",
     "text": [
      " 14%|█▍        | 492/3498 [19:08<1:54:59,  2.30s/it]"
     ]
    },
    {
     "name": "stdout",
     "output_type": "stream",
     "text": [
      "CCCOCC1CC(n2cncn2)C(c2ccc(Cl)cc2)=NO1\n"
     ]
    },
    {
     "name": "stderr",
     "output_type": "stream",
     "text": [
      " 14%|█▍        | 502/3498 [19:31<1:51:24,  2.23s/it]"
     ]
    },
    {
     "name": "stdout",
     "output_type": "stream",
     "text": [
      "COC(=O)c1c(=O)n(Cc2ccc(C(C)(C)C)cc2)c(=O)n2c(-c3ccc(Cl)cc3)c(-c3ccc(Cl)cc3)oc12\n"
     ]
    },
    {
     "name": "stderr",
     "output_type": "stream",
     "text": [
      " 14%|█▍        | 505/3498 [19:37<1:47:31,  2.16s/it]"
     ]
    },
    {
     "name": "stdout",
     "output_type": "stream",
     "text": [
      "[H][C@](C)(C(=O)NOC(C)(C)C)N1C(=O)Nc2cc(Cl)cc(Cl)c2S1(=O)=O\n"
     ]
    },
    {
     "name": "stderr",
     "output_type": "stream",
     "text": [
      " 15%|█▍        | 510/3498 [19:48<1:45:45,  2.12s/it]"
     ]
    },
    {
     "name": "stdout",
     "output_type": "stream",
     "text": [
      "CCOC(=O)C1=C(O)CN(Cc2ccc(F)cc2)C1=O\n"
     ]
    },
    {
     "name": "stderr",
     "output_type": "stream",
     "text": [
      " 15%|█▍        | 521/3498 [20:14<1:50:32,  2.23s/it]"
     ]
    },
    {
     "name": "stdout",
     "output_type": "stream",
     "text": [
      "CCOC(=O)/C=N/N(c1ccccc1)c1ccccc1[N+](=O)[O-]\n"
     ]
    },
    {
     "name": "stderr",
     "output_type": "stream",
     "text": [
      " 15%|█▌        | 525/3498 [20:23<1:51:45,  2.26s/it]"
     ]
    },
    {
     "name": "stdout",
     "output_type": "stream",
     "text": [
      "CCCC(=O)Nc1nc2ncc(Br)nc2s1\n"
     ]
    },
    {
     "name": "stderr",
     "output_type": "stream",
     "text": [
      " 15%|█▌        | 531/3498 [20:36<1:44:12,  2.11s/it]"
     ]
    },
    {
     "name": "stdout",
     "output_type": "stream",
     "text": [
      "CC(C)(C)OC(=O)N[C@@H](CC(=O)N1CCCN(S(C)(=O)=O)CC1)Cc1cc(F)c(F)cc1F\n"
     ]
    },
    {
     "name": "stderr",
     "output_type": "stream",
     "text": [
      " 15%|█▌        | 536/3498 [20:47<1:44:07,  2.11s/it]"
     ]
    },
    {
     "name": "stdout",
     "output_type": "stream",
     "text": [
      "CC(C)S(=O)(=O)c1ccccc1Nc1c(Cl)cnc(Cl)c1Cl\n"
     ]
    },
    {
     "name": "stderr",
     "output_type": "stream",
     "text": [
      " 16%|█▌        | 544/3498 [21:09<1:58:45,  2.41s/it]"
     ]
    },
    {
     "name": "stdout",
     "output_type": "stream",
     "text": [
      "CC(=O)Nc1ccc(N2N=C(c3ccc(O)cc3)C(C)CC2=O)cc1\n"
     ]
    },
    {
     "name": "stderr",
     "output_type": "stream",
     "text": [
      " 16%|█▌        | 549/3498 [21:20<1:48:21,  2.20s/it]"
     ]
    },
    {
     "name": "stdout",
     "output_type": "stream",
     "text": [
      "Cc1ccc2c(-n3ccnc3)c(-c3ccc(Cl)cc3Cl)c(S(C)=O)nc2c1\n"
     ]
    },
    {
     "name": "stderr",
     "output_type": "stream",
     "text": [
      " 16%|█▌        | 551/3498 [21:25<2:00:25,  2.45s/it]"
     ]
    },
    {
     "name": "stdout",
     "output_type": "stream",
     "text": [
      "CC(C)NC(=O)c1c(Cl)nn(C)c1NC(=O)c1cc(Br)nn1-c1ncccc1Cl\n"
     ]
    },
    {
     "name": "stderr",
     "output_type": "stream",
     "text": [
      " 17%|█▋        | 579/3498 [22:31<1:46:03,  2.18s/it]"
     ]
    },
    {
     "name": "stdout",
     "output_type": "stream",
     "text": [
      "CC(=O)Nc1nc(-c2cnc3ccc(Cl)cn23)c(C)s1\n"
     ]
    },
    {
     "name": "stderr",
     "output_type": "stream",
     "text": [
      " 17%|█▋        | 589/3498 [22:53<1:47:29,  2.22s/it]"
     ]
    },
    {
     "name": "stdout",
     "output_type": "stream",
     "text": [
      "COC(=O)c1c(C)n(C(C)=O)c2ccc(NS(=O)(=O)c3ccc(F)cc3F)cc12\n"
     ]
    },
    {
     "name": "stderr",
     "output_type": "stream",
     "text": [
      " 17%|█▋        | 592/3498 [23:01<1:52:48,  2.33s/it]"
     ]
    },
    {
     "name": "stdout",
     "output_type": "stream",
     "text": [
      "COc1ccc(-n2ccc3cc(N4CCCCC4)ccc32)cc1Cl\n"
     ]
    },
    {
     "name": "stderr",
     "output_type": "stream",
     "text": [
      " 17%|█▋        | 596/3498 [23:10<1:52:19,  2.32s/it]"
     ]
    },
    {
     "name": "stdout",
     "output_type": "stream",
     "text": [
      "O=C(Cn1nc(C(=O)N2CCc3ccccc32)c2cc(F)ccc21)OCc1ccccc1\n"
     ]
    },
    {
     "name": "stderr",
     "output_type": "stream",
     "text": [
      " 17%|█▋        | 599/3498 [23:19<2:12:04,  2.73s/it]"
     ]
    },
    {
     "name": "stdout",
     "output_type": "stream",
     "text": [
      "COC(=O)c1cccc(OCCn2c(=O)[nH]c3cc(F)c(F)cc3c2=O)c1\n"
     ]
    },
    {
     "name": "stderr",
     "output_type": "stream",
     "text": [
      " 17%|█▋        | 603/3498 [23:29<1:58:13,  2.45s/it]"
     ]
    },
    {
     "name": "stdout",
     "output_type": "stream",
     "text": [
      "COC(=O)c1ccc(S(C)(=O)=O)c(COCCn2cncn2)c1Cl\n"
     ]
    },
    {
     "name": "stderr",
     "output_type": "stream",
     "text": [
      " 17%|█▋        | 609/3498 [23:45<2:14:07,  2.79s/it]"
     ]
    },
    {
     "name": "stdout",
     "output_type": "stream",
     "text": [
      "CC(C)(C)OC(=O)N1CCC(Nc2nccn3c(Br)cnc23)CC1\n"
     ]
    },
    {
     "name": "stderr",
     "output_type": "stream",
     "text": [
      " 18%|█▊        | 619/3498 [24:10<1:57:14,  2.44s/it]"
     ]
    },
    {
     "name": "stdout",
     "output_type": "stream",
     "text": [
      "CC(C)N(/C(=N/c1c(F)cccc1F)Nc1ccc2c(c1)C=CC(C)(C)O2)C(C)C\n"
     ]
    },
    {
     "name": "stderr",
     "output_type": "stream",
     "text": [
      " 18%|█▊        | 620/3498 [24:12<1:48:49,  2.27s/it]"
     ]
    },
    {
     "name": "stdout",
     "output_type": "stream",
     "text": [
      "Cc1ccc(S(=O)(=O)n2cc(Br)c3c(N4CCC(N5CCOCC5)CC4)ncnc32)cc1\n"
     ]
    },
    {
     "name": "stderr",
     "output_type": "stream",
     "text": [
      " 18%|█▊        | 626/3498 [24:25<1:45:46,  2.21s/it]"
     ]
    },
    {
     "name": "stdout",
     "output_type": "stream",
     "text": [
      "Cc1cc(C)c(NC(=O)NCc2ccc3nnn(C4CCC(=O)NC4=O)c(=O)c3c2)c(Br)c1\n"
     ]
    },
    {
     "name": "stderr",
     "output_type": "stream",
     "text": [
      " 18%|█▊        | 632/3498 [24:42<2:02:10,  2.56s/it]"
     ]
    },
    {
     "name": "stdout",
     "output_type": "stream",
     "text": [
      "CCOC(=O)c1c(=O)n(-c2ccc(C)cc2)nc2ccccc12\n"
     ]
    },
    {
     "name": "stderr",
     "output_type": "stream",
     "text": [
      " 18%|█▊        | 636/3498 [24:51<1:48:11,  2.27s/it]"
     ]
    },
    {
     "name": "stdout",
     "output_type": "stream",
     "text": [
      "Cc1cc(OC(Cc2ccc(Cl)cc2)c2ccc(Cl)cc2Cl)ncc1NC(=O)NC(C)(C)C\n"
     ]
    },
    {
     "name": "stderr",
     "output_type": "stream",
     "text": [
      " 18%|█▊        | 638/3498 [24:55<1:44:31,  2.19s/it]"
     ]
    },
    {
     "name": "stdout",
     "output_type": "stream",
     "text": [
      "COc1c(Cl)ccc(C2=NOC(c3cc(N)c(Cl)c(C(=O)O)n3)C2)c1F\n"
     ]
    },
    {
     "name": "stderr",
     "output_type": "stream",
     "text": [
      " 19%|█▊        | 654/3498 [25:33<1:46:48,  2.25s/it]"
     ]
    },
    {
     "name": "stdout",
     "output_type": "stream",
     "text": [
      "Cc1cc(C)c(C2=C(NC(=O)C(C)C)C3(CCCC3)OC2=O)c(C)c1\n"
     ]
    },
    {
     "name": "stderr",
     "output_type": "stream",
     "text": [
      " 19%|█▊        | 655/3498 [25:35<1:45:11,  2.22s/it]"
     ]
    },
    {
     "name": "stdout",
     "output_type": "stream",
     "text": [
      "C[C@@H](c1ccccc1)N1C(=O)OC[C@H]1CN1CCCC1CO\n"
     ]
    },
    {
     "name": "stderr",
     "output_type": "stream",
     "text": [
      " 19%|█▉        | 661/3498 [25:50<1:52:54,  2.39s/it]"
     ]
    },
    {
     "name": "stdout",
     "output_type": "stream",
     "text": [
      "CCOC(=O)C1CCN(c2nc(C)cc(Cl)n2)CC1\n"
     ]
    },
    {
     "name": "stderr",
     "output_type": "stream",
     "text": [
      " 19%|█▉        | 674/3498 [26:22<1:48:45,  2.31s/it]"
     ]
    },
    {
     "name": "stdout",
     "output_type": "stream",
     "text": [
      "c1ccc(C(c2ccccc2)([C@H]2CCCN2)n2cc(-c3ccccn3)nn2)cc1\n"
     ]
    },
    {
     "name": "stderr",
     "output_type": "stream",
     "text": [
      " 19%|█▉        | 678/3498 [26:31<1:44:01,  2.21s/it]"
     ]
    },
    {
     "name": "stdout",
     "output_type": "stream",
     "text": [
      "COc1nc(OC)c(C(C)C)c(-c2nnn(C)n2)n1\n"
     ]
    },
    {
     "name": "stderr",
     "output_type": "stream",
     "text": [
      " 20%|█▉        | 694/3498 [27:10<1:51:50,  2.39s/it]"
     ]
    },
    {
     "name": "stdout",
     "output_type": "stream",
     "text": [
      "CC(C)CN1C(=O)C2C3CC4C5(C)CCCC(C)(C(=O)O)C5CCC4(C=C3C(C)C)C2C1=O\n"
     ]
    },
    {
     "name": "stderr",
     "output_type": "stream",
     "text": [
      " 20%|██        | 703/3498 [27:32<1:46:51,  2.29s/it]"
     ]
    },
    {
     "name": "stdout",
     "output_type": "stream",
     "text": [
      "CC(C)Oc1cc(N2C=NN(C)CC2)ccc1[N+](=O)[O-]\n"
     ]
    },
    {
     "name": "stderr",
     "output_type": "stream",
     "text": [
      " 20%|██        | 707/3498 [27:41<1:44:42,  2.25s/it]"
     ]
    },
    {
     "name": "stdout",
     "output_type": "stream",
     "text": [
      "O=c1[nH]c2c(S(=O)(=O)c3ccc(Br)cc3)nnn2c2ccsc12\n"
     ]
    },
    {
     "name": "stderr",
     "output_type": "stream",
     "text": [
      " 20%|██        | 708/3498 [27:43<1:39:34,  2.14s/it]"
     ]
    },
    {
     "name": "stdout",
     "output_type": "stream",
     "text": [
      "O=c1[nH]c2ncccc2n1Cc1nnc2ccc(-c3cccc(F)c3)nn12\n"
     ]
    },
    {
     "name": "stderr",
     "output_type": "stream",
     "text": [
      " 20%|██        | 709/3498 [27:45<1:37:44,  2.10s/it]"
     ]
    },
    {
     "name": "stdout",
     "output_type": "stream",
     "text": [
      "CC(C)(C)OC(=O)N[C@@H](CC(=O)N1CCCCCN1C(=O)C[C@@H](Cc1cc(F)c(F)cc1F)NC(=O)OC(C)(C)C)Cc1cc(F)c(F)cc1F\n"
     ]
    },
    {
     "name": "stderr",
     "output_type": "stream",
     "text": [
      " 21%|██        | 720/3498 [28:12<1:48:00,  2.33s/it]"
     ]
    },
    {
     "name": "stdout",
     "output_type": "stream",
     "text": [
      "O=C1Nc2cc3ccc(OCc4ccccc4)cc3c3cccc1c23\n"
     ]
    },
    {
     "name": "stderr",
     "output_type": "stream",
     "text": [
      " 21%|██        | 725/3498 [28:24<1:47:36,  2.33s/it]"
     ]
    },
    {
     "name": "stdout",
     "output_type": "stream",
     "text": [
      "COC(=O)c1scc2c(NCCc3ccc(F)cc3)c(C(C)=O)c(=O)[nH]c12\n"
     ]
    },
    {
     "name": "stderr",
     "output_type": "stream",
     "text": [
      " 21%|██        | 726/3498 [28:27<1:53:12,  2.45s/it]"
     ]
    },
    {
     "name": "stdout",
     "output_type": "stream",
     "text": [
      "CC(C)[C@@H](NS(=O)(=O)c1c(N)cc(Cl)cc1Cl)C(=O)NOC(C)(C)C\n"
     ]
    },
    {
     "name": "stderr",
     "output_type": "stream",
     "text": [
      " 21%|██        | 730/3498 [28:36<1:42:44,  2.23s/it]"
     ]
    },
    {
     "name": "stdout",
     "output_type": "stream",
     "text": [
      "Cc1ccc(CCCNC(=O)c2cc(C(C)(C)C)c(O)c(C(C)(C)C)c2)cc1C\n"
     ]
    },
    {
     "name": "stderr",
     "output_type": "stream",
     "text": [
      " 21%|██        | 731/3498 [28:38<1:40:35,  2.18s/it]"
     ]
    },
    {
     "name": "stdout",
     "output_type": "stream",
     "text": [
      "Cc1cnc(C(=O)Nc2cc(Cl)c(Cl)c(Cl)c2)cn1\n"
     ]
    },
    {
     "name": "stderr",
     "output_type": "stream",
     "text": [
      " 21%|██        | 742/3498 [29:04<1:44:02,  2.27s/it]"
     ]
    },
    {
     "name": "stdout",
     "output_type": "stream",
     "text": [
      "CN1CCN(C(=O)c2ccc(-c3ccc4nnc(Cc5cccc6c(=O)[nH]ccc56)n4n3)cc2)CC1\n"
     ]
    },
    {
     "name": "stderr",
     "output_type": "stream",
     "text": [
      " 21%|██▏       | 745/3498 [29:11<1:46:46,  2.33s/it]"
     ]
    },
    {
     "name": "stdout",
     "output_type": "stream",
     "text": [
      "CC(C)c1noc(CCCn2ccc(-c3ccc(Br)cc3)n2)n1\n"
     ]
    },
    {
     "name": "stderr",
     "output_type": "stream",
     "text": [
      " 21%|██▏       | 749/3498 [29:20<1:43:59,  2.27s/it]"
     ]
    },
    {
     "name": "stdout",
     "output_type": "stream",
     "text": [
      "COc1cc(O)ccc1-c1nnc(C)n1-c1ccc(O)cc1\n"
     ]
    },
    {
     "name": "stderr",
     "output_type": "stream",
     "text": [
      " 22%|██▏       | 764/3498 [29:56<1:45:05,  2.31s/it]"
     ]
    },
    {
     "name": "stdout",
     "output_type": "stream",
     "text": [
      "CCC(C)(C)Nc1[nH]c2c(Cl)cc(C)cc2c(=O)c1C(C)=O\n"
     ]
    },
    {
     "name": "stderr",
     "output_type": "stream",
     "text": [
      " 22%|██▏       | 773/3498 [30:16<1:38:58,  2.18s/it]"
     ]
    },
    {
     "name": "stdout",
     "output_type": "stream",
     "text": [
      "CCOC(=O)c1[nH]c(=O)n(CCNC(=O)OC(C)(C)C)c1C\n"
     ]
    },
    {
     "name": "stderr",
     "output_type": "stream",
     "text": [
      " 22%|██▏       | 775/3498 [30:20<1:36:30,  2.13s/it]"
     ]
    },
    {
     "name": "stdout",
     "output_type": "stream",
     "text": [
      "COC(=O)C(O)c1cnc2c(c1-c1ccc(Cl)cc1)C(C)(C)CN(Cc1ccc(OC)cc1)C2=O\n"
     ]
    },
    {
     "name": "stderr",
     "output_type": "stream",
     "text": [
      " 22%|██▏       | 782/3498 [30:37<1:44:56,  2.32s/it]"
     ]
    },
    {
     "name": "stdout",
     "output_type": "stream",
     "text": [
      "Cc1ccc(C(=O)c2[nH]c3ccccc3c2CC(=O)O)cc1\n"
     ]
    },
    {
     "name": "stderr",
     "output_type": "stream",
     "text": [
      " 22%|██▏       | 786/3498 [30:47<1:48:59,  2.41s/it]"
     ]
    },
    {
     "name": "stdout",
     "output_type": "stream",
     "text": [
      "CC(C)(C)Nc1ncc(-c2cn[nH]c2)cc1-c1nc2ccccc2o1\n"
     ]
    },
    {
     "name": "stderr",
     "output_type": "stream",
     "text": [
      " 23%|██▎       | 810/3498 [31:43<1:37:55,  2.19s/it]"
     ]
    },
    {
     "name": "stdout",
     "output_type": "stream",
     "text": [
      "COc1cc(C2CCN(C(=O)OC(C)(C)C)CC2)ccc1Nc1ncc(Cl)c2[nH]c3c(S(=O)(=O)C(C)C)cccc3c12\n"
     ]
    },
    {
     "name": "stderr",
     "output_type": "stream",
     "text": [
      " 24%|██▎       | 830/3498 [32:30<1:40:54,  2.27s/it]"
     ]
    },
    {
     "name": "stdout",
     "output_type": "stream",
     "text": [
      "COC(=O)c1cc2cc(-c3ccccc3)c3ccccc3c2o1\n"
     ]
    },
    {
     "name": "stderr",
     "output_type": "stream",
     "text": [
      " 24%|██▍       | 831/3498 [32:32<1:39:34,  2.24s/it]"
     ]
    },
    {
     "name": "stdout",
     "output_type": "stream",
     "text": [
      "CC1=C(c2ccc(F)cc2)S(=O)(=O)N=C1Nc1ccc2[nH]c(C(F)(F)F)nc2c1\n"
     ]
    },
    {
     "name": "stderr",
     "output_type": "stream",
     "text": [
      " 24%|██▍       | 832/3498 [32:34<1:38:08,  2.21s/it]"
     ]
    },
    {
     "name": "stdout",
     "output_type": "stream",
     "text": [
      "Cc1ccc(CN2CCC=C(CCC(=O)O)C2=O)cc1\n"
     ]
    },
    {
     "name": "stderr",
     "output_type": "stream",
     "text": [
      " 24%|██▍       | 838/3498 [32:48<1:38:18,  2.22s/it]"
     ]
    },
    {
     "name": "stdout",
     "output_type": "stream",
     "text": [
      "CC(=O)Nc1nc2ccc(-c3nn(C(C)C)c4nc(N)ncc34)cc2s1\n"
     ]
    },
    {
     "name": "stderr",
     "output_type": "stream",
     "text": [
      " 24%|██▍       | 842/3498 [32:57<1:40:01,  2.26s/it]"
     ]
    },
    {
     "name": "stdout",
     "output_type": "stream",
     "text": [
      "CC(C)C(C)(NC(=O)c1ccccc1C#Cc1ccccc1)C(N)=O\n"
     ]
    },
    {
     "name": "stderr",
     "output_type": "stream",
     "text": [
      " 25%|██▍       | 860/3498 [33:55<1:32:41,  2.11s/it]"
     ]
    },
    {
     "name": "stdout",
     "output_type": "stream",
     "text": [
      "CCCCC/N=c1\\n(C)c(=O)nc2sccn12\n"
     ]
    },
    {
     "name": "stderr",
     "output_type": "stream",
     "text": [
      " 25%|██▍       | 867/3498 [34:12<1:36:51,  2.21s/it]"
     ]
    },
    {
     "name": "stdout",
     "output_type": "stream",
     "text": [
      "CC(=O)CC(CC(C)C)n1nnc(-c2ccccc2)n1\n"
     ]
    },
    {
     "name": "stderr",
     "output_type": "stream",
     "text": [
      " 25%|██▍       | 874/3498 [34:28<1:37:10,  2.22s/it]"
     ]
    },
    {
     "name": "stdout",
     "output_type": "stream",
     "text": [
      "COC(=O)c1ccc(/C=C(\\COc2cccc3ccccc23)CN(CCCN(C)C)C(=O)OC(C)(C)C)cc1\n"
     ]
    },
    {
     "name": "stderr",
     "output_type": "stream",
     "text": [
      " 25%|██▌       | 883/3498 [34:49<1:39:11,  2.28s/it]"
     ]
    },
    {
     "name": "stdout",
     "output_type": "stream",
     "text": [
      "COc1nn(C)c(=O)n1-c1ccccc1NC(=O)c1ccc(Cl)cc1Cl\n"
     ]
    },
    {
     "name": "stderr",
     "output_type": "stream",
     "text": [
      " 25%|██▌       | 888/3498 [35:00<1:35:59,  2.21s/it]"
     ]
    },
    {
     "name": "stdout",
     "output_type": "stream",
     "text": [
      "CCOC(=O)c1[nH]c(=O)n(CCS(C)(=O)=O)c1C\n"
     ]
    },
    {
     "name": "stderr",
     "output_type": "stream",
     "text": [
      " 25%|██▌       | 891/3498 [35:07<1:37:36,  2.25s/it]"
     ]
    },
    {
     "name": "stdout",
     "output_type": "stream",
     "text": [
      "COc1cc(OC)cc(OC/C(=C\\c2ccc(C(=O)O)cc2)CNc2cnc3ccccc3c2)c1\n"
     ]
    },
    {
     "name": "stderr",
     "output_type": "stream",
     "text": [
      " 26%|██▌       | 901/3498 [35:30<1:38:00,  2.26s/it]"
     ]
    },
    {
     "name": "stdout",
     "output_type": "stream",
     "text": [
      "O=C(O)/C=C/c1ccc2c(c1)N(Cc1ccccc1)C(=O)CO2\n"
     ]
    },
    {
     "name": "stderr",
     "output_type": "stream",
     "text": [
      " 26%|██▌       | 904/3498 [35:57<5:56:28,  8.25s/it]"
     ]
    },
    {
     "name": "stdout",
     "output_type": "stream",
     "text": [
      "C[C@@H](c1cn(-c2cccc[n+]2[O-])c(=O)c2c(C(F)(F)F)cccc12)N1C(=O)c2ccccc2C1=O\n"
     ]
    },
    {
     "name": "stderr",
     "output_type": "stream",
     "text": [
      " 26%|██▌       | 907/3498 [36:03<3:01:03,  4.19s/it]"
     ]
    },
    {
     "name": "stdout",
     "output_type": "stream",
     "text": [
      "Cn1c2c(c3cc(O)ccc31)C=NC(Cc1ccccc1)C(=O)N2\n"
     ]
    },
    {
     "name": "stderr",
     "output_type": "stream",
     "text": [
      " 27%|██▋       | 928/3498 [36:51<1:34:48,  2.21s/it]"
     ]
    },
    {
     "name": "stdout",
     "output_type": "stream",
     "text": [
      "COc1ccccc1N1C(=N)C(C)(C(C)C)NC1=O\n"
     ]
    },
    {
     "name": "stderr",
     "output_type": "stream",
     "text": [
      " 27%|██▋       | 938/3498 [37:14<1:35:40,  2.24s/it]"
     ]
    },
    {
     "name": "stdout",
     "output_type": "stream",
     "text": [
      "CS(=O)(=O)n1c(-c2ccccc2)c(C#Cc2ccccc2)c2ccccc21\n"
     ]
    },
    {
     "name": "stderr",
     "output_type": "stream",
     "text": [
      " 27%|██▋       | 939/3498 [37:16<1:37:12,  2.28s/it]"
     ]
    },
    {
     "name": "stdout",
     "output_type": "stream",
     "text": [
      "COCCNC(=O)C(c1ccc(Cl)cc1)N(CCOC)C(=O)CCC(=O)Nc1ccccn1\n"
     ]
    },
    {
     "name": "stderr",
     "output_type": "stream",
     "text": [
      " 27%|██▋       | 947/3498 [37:35<1:42:02,  2.40s/it]"
     ]
    },
    {
     "name": "stdout",
     "output_type": "stream",
     "text": [
      "O=C(c1ccccc1)c1ccccc1Nc1cccc2c1N(c1ncccn1)CC2\n"
     ]
    },
    {
     "name": "stderr",
     "output_type": "stream",
     "text": [
      " 27%|██▋       | 948/3498 [37:38<1:45:50,  2.49s/it]"
     ]
    },
    {
     "name": "stdout",
     "output_type": "stream",
     "text": [
      "COC(=O)C12CC(CCC(C)=O)C(=O)N1CCc1c2n(C(=O)OC(C)(C)C)c2ccccc12\n"
     ]
    },
    {
     "name": "stderr",
     "output_type": "stream",
     "text": [
      " 27%|██▋       | 952/3498 [37:47<1:34:15,  2.22s/it]"
     ]
    },
    {
     "name": "stdout",
     "output_type": "stream",
     "text": [
      "CC(C)(C)OC(=O)N[C@@H](CC(=O)N1CCCN(C(=O)CN2CCC(c3ccccc3)CC2)CC1)Cc1cc(F)c(F)cc1F\n"
     ]
    },
    {
     "name": "stderr",
     "output_type": "stream",
     "text": [
      " 27%|██▋       | 957/3498 [37:58<1:32:12,  2.18s/it]"
     ]
    },
    {
     "name": "stdout",
     "output_type": "stream",
     "text": [
      "C/C=C/Cn1c(C(=O)c2cc(C)cc(C)c2)c(CC)c(NCCO)nc1=O\n"
     ]
    },
    {
     "name": "stderr",
     "output_type": "stream",
     "text": [
      " 28%|██▊       | 966/3498 [38:18<1:32:58,  2.20s/it]"
     ]
    },
    {
     "name": "stdout",
     "output_type": "stream",
     "text": [
      "CC(C)c1c(Cl)nc(N(C)C)nc1N1CCN(S(C)(=O)=O)CC1\n"
     ]
    },
    {
     "name": "stderr",
     "output_type": "stream",
     "text": [
      " 28%|██▊       | 968/3498 [38:22<1:29:42,  2.13s/it]"
     ]
    },
    {
     "name": "stdout",
     "output_type": "stream",
     "text": [
      "O=C(c1ccc(OC(c2ccc(Cl)cc2)c2ccccc2Cl)c(F)c1)N1CC(O)C(O)C1\n"
     ]
    },
    {
     "name": "stderr",
     "output_type": "stream",
     "text": [
      " 28%|██▊       | 993/3498 [39:20<1:31:03,  2.18s/it]"
     ]
    },
    {
     "name": "stdout",
     "output_type": "stream",
     "text": [
      "CCc1nc(NCCCn2ccnc2)c2c3c(sc2n1)CCCC3\n"
     ]
    },
    {
     "name": "stderr",
     "output_type": "stream",
     "text": [
      " 29%|██▊       | 1001/3498 [39:39<1:34:28,  2.27s/it]"
     ]
    },
    {
     "name": "stdout",
     "output_type": "stream",
     "text": [
      "O=c1c2ccccc2[se]n1-c1ccc(S(=O)(=O)Nc2ccccn2)cc1\n"
     ]
    },
    {
     "name": "stderr",
     "output_type": "stream",
     "text": [
      " 29%|██▊       | 1002/3498 [39:41<1:29:39,  2.16s/it]"
     ]
    },
    {
     "name": "stdout",
     "output_type": "stream",
     "text": [
      "COc1c(Br)cc(OCCc2c(O)nc(C)c(Br)c2O)cc1Br\n"
     ]
    },
    {
     "name": "stderr",
     "output_type": "stream",
     "text": [
      " 29%|██▊       | 1003/3498 [39:43<1:27:39,  2.11s/it]"
     ]
    },
    {
     "name": "stdout",
     "output_type": "stream",
     "text": [
      "NC(N)=NC(=O)c1cc2cc(Br)ccc2s1\n"
     ]
    },
    {
     "name": "stderr",
     "output_type": "stream",
     "text": [
      " 29%|██▉       | 1011/3498 [40:01<1:32:20,  2.23s/it]"
     ]
    },
    {
     "name": "stdout",
     "output_type": "stream",
     "text": [
      "Cc1ccc(CN2C(=O)N(Cc3ccccc3)C(=O)C2CC(C)C)s1\n"
     ]
    },
    {
     "name": "stderr",
     "output_type": "stream",
     "text": [
      " 29%|██▉       | 1021/3498 [40:25<1:31:13,  2.21s/it]"
     ]
    },
    {
     "name": "stdout",
     "output_type": "stream",
     "text": [
      "O=C(NCCN1CCCCC1)c1cc2ccc3ccccc3c2o1\n"
     ]
    },
    {
     "name": "stderr",
     "output_type": "stream",
     "text": [
      " 29%|██▉       | 1027/3498 [40:39<1:34:43,  2.30s/it]"
     ]
    },
    {
     "name": "stdout",
     "output_type": "stream",
     "text": [
      "CCCc1nc(-c2ccc3ccccc3c2)cc2c1sc1ccccc12\n"
     ]
    },
    {
     "name": "stderr",
     "output_type": "stream",
     "text": [
      " 29%|██▉       | 1029/3498 [40:43<1:29:14,  2.17s/it]"
     ]
    },
    {
     "name": "stdout",
     "output_type": "stream",
     "text": [
      "CNC(=O)/C(=C/OC)n1c(-c2ccc(F)cc2F)noc1=O\n"
     ]
    },
    {
     "name": "stderr",
     "output_type": "stream",
     "text": [
      " 29%|██▉       | 1031/3498 [40:47<1:26:19,  2.10s/it]"
     ]
    },
    {
     "name": "stdout",
     "output_type": "stream",
     "text": [
      "Cc1cc2nc(NC(=O)N3CCN(c4cc(C(C)(C)C)cc(C(C)(C)C)c4)CC3)sc2cc1C\n"
     ]
    },
    {
     "name": "stderr",
     "output_type": "stream",
     "text": [
      " 30%|██▉       | 1041/3498 [41:11<1:30:10,  2.20s/it]"
     ]
    },
    {
     "name": "stdout",
     "output_type": "stream",
     "text": [
      "COc1ccc(Cn2c(-c3c(C)n[nH]c3-c3ccccc3)nc3ccccc32)cc1\n"
     ]
    },
    {
     "name": "stderr",
     "output_type": "stream",
     "text": [
      " 30%|██▉       | 1047/3498 [41:24<1:31:19,  2.24s/it]"
     ]
    },
    {
     "name": "stdout",
     "output_type": "stream",
     "text": [
      "CS(=O)(=O)N1CCN(Cc2ccc(Oc3cccc(C(F)(F)F)c3)c3c(N)n[nH]c23)CC1\n"
     ]
    },
    {
     "name": "stderr",
     "output_type": "stream",
     "text": [
      " 30%|███       | 1054/3498 [41:40<1:31:17,  2.24s/it]"
     ]
    },
    {
     "name": "stdout",
     "output_type": "stream",
     "text": [
      "Cc1ccccc1-c1cccc2nc(-c3ccccc3)nn12\n"
     ]
    },
    {
     "name": "stderr",
     "output_type": "stream",
     "text": [
      " 30%|███       | 1057/3498 [41:47<1:28:59,  2.19s/it]"
     ]
    },
    {
     "name": "stdout",
     "output_type": "stream",
     "text": [
      "CN1CCN(CC2COc3cc4ncnc(Nc5ccc(F)c(Cl)c5)c4cc3O2)CC1\n"
     ]
    },
    {
     "name": "stderr",
     "output_type": "stream",
     "text": [
      " 30%|███       | 1059/3498 [41:51<1:26:56,  2.14s/it]"
     ]
    },
    {
     "name": "stdout",
     "output_type": "stream",
     "text": [
      "Cc1ccccc1-c1nc2ccccc2cc1CN(C(=O)CCNC(=O)OC(C)(C)C)c1ccnc(S(C)(=O)=O)n1\n"
     ]
    },
    {
     "name": "stderr",
     "output_type": "stream",
     "text": [
      " 30%|███       | 1062/3498 [41:59<1:34:29,  2.33s/it]"
     ]
    },
    {
     "name": "stdout",
     "output_type": "stream",
     "text": [
      "CC(C)Oc1cccc(/C=C(/F)Oc2ccc(OC[C@@H]3C[C@@](Cn4cncn4)(c4ccc(Cl)cc4Cl)N(C)O3)cc2)c1\n"
     ]
    },
    {
     "name": "stderr",
     "output_type": "stream",
     "text": [
      " 31%|███       | 1067/3498 [42:11<1:34:34,  2.33s/it]"
     ]
    },
    {
     "name": "stdout",
     "output_type": "stream",
     "text": [
      "Nc1ncnc2c1ncn2C/C=C/CN1CCN(Cc2ccccc2)CC1\n"
     ]
    },
    {
     "name": "stderr",
     "output_type": "stream",
     "text": [
      " 31%|███       | 1069/3498 [42:15<1:31:25,  2.26s/it]"
     ]
    },
    {
     "name": "stdout",
     "output_type": "stream",
     "text": [
      "N#Cc1cccc(COc2cccnc2Nc2nc3cc(F)ccc3[nH]2)c1\n"
     ]
    },
    {
     "name": "stderr",
     "output_type": "stream",
     "text": [
      " 31%|███       | 1075/3498 [42:29<1:30:52,  2.25s/it]"
     ]
    },
    {
     "name": "stdout",
     "output_type": "stream",
     "text": [
      "Cc1nc2c(c(-c3ccc(Cl)cc3)c1CO)CN(C1CCCCC1)C2=O\n"
     ]
    },
    {
     "name": "stderr",
     "output_type": "stream",
     "text": [
      " 31%|███       | 1079/3498 [42:39<1:42:55,  2.55s/it]"
     ]
    },
    {
     "name": "stdout",
     "output_type": "stream",
     "text": [
      "Nc1cc(C2=NOC3CCCCC23)nc(C(=O)O)c1Cl\n"
     ]
    },
    {
     "name": "stderr",
     "output_type": "stream",
     "text": [
      " 31%|███       | 1081/3498 [42:44<1:35:53,  2.38s/it]"
     ]
    },
    {
     "name": "stdout",
     "output_type": "stream",
     "text": [
      "COc1cc2c(c(Br)c1OC)CN(c1cc(C(=O)O)ccc1C)C2=O\n"
     ]
    },
    {
     "name": "stderr",
     "output_type": "stream",
     "text": [
      " 31%|███       | 1086/3498 [42:55<1:29:05,  2.22s/it]"
     ]
    },
    {
     "name": "stdout",
     "output_type": "stream",
     "text": [
      "CC(C)(C)OC(=O)N1CCC(c2n[nH]c3nc(S(C)(=O)=O)ncc23)CC1\n"
     ]
    },
    {
     "name": "stderr",
     "output_type": "stream",
     "text": [
      " 31%|███       | 1091/3498 [43:06<1:29:09,  2.22s/it]"
     ]
    },
    {
     "name": "stdout",
     "output_type": "stream",
     "text": [
      "CSc1ncc(Br)c(OC(C)C)n1\n"
     ]
    },
    {
     "name": "stderr",
     "output_type": "stream",
     "text": [
      " 31%|███▏      | 1098/3498 [43:41<2:27:22,  3.68s/it]"
     ]
    },
    {
     "name": "stdout",
     "output_type": "stream",
     "text": [
      "Cc1c(CC(=O)O)c2ccccc2n1C(=O)c1ccc(N2CCOCC2)nc1\n"
     ]
    },
    {
     "name": "stderr",
     "output_type": "stream",
     "text": [
      " 31%|███▏      | 1100/3498 [43:47<2:18:55,  3.48s/it]"
     ]
    },
    {
     "name": "stdout",
     "output_type": "stream",
     "text": [
      "[H]/C(=C\\Cc1cc2cc(Cl)ccc2n1-c1ncccn1)CO\n"
     ]
    },
    {
     "name": "stderr",
     "output_type": "stream",
     "text": [
      " 32%|███▏      | 1104/3498 [43:57<1:45:36,  2.65s/it]"
     ]
    },
    {
     "name": "stdout",
     "output_type": "stream",
     "text": [
      "O=C(NC1CCN(CCc2ccc(F)cc2)CC1)c1cc2ccccc2s1\n"
     ]
    },
    {
     "name": "stderr",
     "output_type": "stream",
     "text": [
      " 32%|███▏      | 1123/3498 [44:44<1:35:22,  2.41s/it]"
     ]
    },
    {
     "name": "stdout",
     "output_type": "stream",
     "text": [
      "Cc1cc(Cl)cc(C(=O)NCCC2=NOC(CS(C)(=O)=O)C2)c1NC(=O)c1cc(Br)nn1-c1ncccc1Cl\n"
     ]
    },
    {
     "name": "stderr",
     "output_type": "stream",
     "text": [
      " 33%|███▎      | 1141/3498 [45:27<1:29:23,  2.28s/it]"
     ]
    },
    {
     "name": "stdout",
     "output_type": "stream",
     "text": [
      "C=C1COC(c2cc(C)cc(C)c2)c2c(C(C)C)c(OC)nc(=O)n21\n"
     ]
    },
    {
     "name": "stderr",
     "output_type": "stream",
     "text": [
      " 33%|███▎      | 1150/3498 [45:48<1:29:47,  2.29s/it]"
     ]
    },
    {
     "name": "stdout",
     "output_type": "stream",
     "text": [
      "CC(C)c1c(C(O)c2ccccc2)[nH]c(=O)[nH]c1=O\n"
     ]
    },
    {
     "name": "stderr",
     "output_type": "stream",
     "text": [
      " 33%|███▎      | 1155/3498 [45:59<1:27:17,  2.24s/it]"
     ]
    },
    {
     "name": "stdout",
     "output_type": "stream",
     "text": [
      "CC1(C)Oc2c(ccnc2Cl)[C@H](N(Cc2ncc[nH]2)c2ccc(Cl)cc2Cl)[C@H]1O\n"
     ]
    },
    {
     "name": "stderr",
     "output_type": "stream",
     "text": [
      " 33%|███▎      | 1156/3498 [46:01<1:24:36,  2.17s/it]"
     ]
    },
    {
     "name": "stdout",
     "output_type": "stream",
     "text": [
      "CCOC(=O)Cn1c(=O)n(-c2cccc(O)c2)c2ncnc(N)c21\n"
     ]
    },
    {
     "name": "stderr",
     "output_type": "stream",
     "text": [
      " 33%|███▎      | 1163/3498 [46:37<2:06:20,  3.25s/it]"
     ]
    },
    {
     "name": "stdout",
     "output_type": "stream",
     "text": [
      "Fc1ccc2nc(-c3ccc4c(c3)OCO4)c3nn[nH]c3c2c1\n"
     ]
    },
    {
     "name": "stderr",
     "output_type": "stream",
     "text": [
      " 33%|███▎      | 1165/3498 [46:41<1:45:30,  2.71s/it]"
     ]
    },
    {
     "name": "stdout",
     "output_type": "stream",
     "text": [
      "COc1nc(Nc2ccc3[nH]ncc3c2)c(Cl)c(OC)n1\n"
     ]
    },
    {
     "name": "stderr",
     "output_type": "stream",
     "text": [
      " 33%|███▎      | 1168/3498 [46:48<1:31:32,  2.36s/it]"
     ]
    },
    {
     "name": "stdout",
     "output_type": "stream",
     "text": [
      "COC(=O)c1cccc2c1CN(c1cccc(C(=O)OC(C)(C)C)c1)C2=O\n"
     ]
    },
    {
     "name": "stderr",
     "output_type": "stream",
     "text": [
      " 34%|███▎      | 1173/3498 [46:59<1:27:49,  2.27s/it]"
     ]
    },
    {
     "name": "stdout",
     "output_type": "stream",
     "text": [
      "COC(=O)c1cc(F)c(NCCCN(CCCCN(CCCn2c(=O)[nH]c3cc(F)c(F)cc3c2=O)C(=O)OC(C)(C)C)C(=O)OC(C)(C)C)cc1NC(=O)NCCCN(CCCCN(CCCn1c(=O)[nH]c2cc(F)c(F)cc2c1=O)C(=O)OC(C)(C)C)C(=O)OC(C)(C)C\n"
     ]
    },
    {
     "name": "stderr",
     "output_type": "stream",
     "text": [
      " 34%|███▎      | 1174/3498 [47:01<1:26:57,  2.25s/it]"
     ]
    },
    {
     "name": "stdout",
     "output_type": "stream",
     "text": [
      "O=C(c1ccccc1)c1cc(Cl)ccc1Nc1cccc2c1N(c1ncccn1)CCC2\n"
     ]
    },
    {
     "name": "stderr",
     "output_type": "stream",
     "text": [
      " 34%|███▎      | 1179/3498 [47:13<1:27:40,  2.27s/it]"
     ]
    },
    {
     "name": "stdout",
     "output_type": "stream",
     "text": [
      "CC(C)C1(C)N=C(c2nn(C)cc2Br)NC1=O\n"
     ]
    },
    {
     "name": "stderr",
     "output_type": "stream",
     "text": [
      " 34%|███▍      | 1182/3498 [47:19<1:24:56,  2.20s/it]"
     ]
    },
    {
     "name": "stdout",
     "output_type": "stream",
     "text": [
      "c1cc2c(ccn2-c2ccc3ccnc(N4CCCC4)c3c2)cn1\n"
     ]
    },
    {
     "name": "stderr",
     "output_type": "stream",
     "text": [
      " 34%|███▍      | 1195/3498 [47:49<1:22:38,  2.15s/it]"
     ]
    },
    {
     "name": "stdout",
     "output_type": "stream",
     "text": [
      "CCCN(CCC)C(=O)c1cccc(C(=O)NN(Cc2cc(F)cc(F)c2)C(=O)[C@H](NCC(=O)NCc2ccccc2)C(C)C)c1\n"
     ]
    },
    {
     "name": "stderr",
     "output_type": "stream",
     "text": [
      " 34%|███▍      | 1204/3498 [48:12<1:35:01,  2.49s/it]"
     ]
    },
    {
     "name": "stdout",
     "output_type": "stream",
     "text": [
      "CCC(CNC(=O)CCOCC(C)C)NC(=O)CCOCC(C)C\n"
     ]
    },
    {
     "name": "stderr",
     "output_type": "stream",
     "text": [
      " 34%|███▍      | 1206/3498 [48:17<1:35:29,  2.50s/it]"
     ]
    },
    {
     "name": "stdout",
     "output_type": "stream",
     "text": [
      "CCOC(=O)/C(=C/OC)n1c(COc2ccc(C)cc2C)noc1=O\n"
     ]
    },
    {
     "name": "stderr",
     "output_type": "stream",
     "text": [
      " 35%|███▍      | 1211/3498 [48:29<1:35:02,  2.49s/it]"
     ]
    },
    {
     "name": "stdout",
     "output_type": "stream",
     "text": [
      "COC(=O)c1cc(Cl)ccc1C1CCN(CC(=O)N2CCc3ccccc32)CC1\n"
     ]
    },
    {
     "name": "stderr",
     "output_type": "stream",
     "text": [
      " 35%|███▍      | 1217/3498 [48:43<1:26:54,  2.29s/it]"
     ]
    },
    {
     "name": "stdout",
     "output_type": "stream",
     "text": [
      "O=c1c(Br)c(Br)cnn1CCn1ncc(Br)c(Br)c1=O\n"
     ]
    },
    {
     "name": "stderr",
     "output_type": "stream",
     "text": [
      " 35%|███▍      | 1220/3498 [48:50<1:27:26,  2.30s/it]"
     ]
    },
    {
     "name": "stdout",
     "output_type": "stream",
     "text": [
      "Cc1ccc(C(OC(=O)CC(C)C)c2cc(=O)cc[nH]2)cc1\n"
     ]
    },
    {
     "name": "stderr",
     "output_type": "stream",
     "text": [
      " 35%|███▌      | 1225/3498 [49:02<1:29:05,  2.35s/it]"
     ]
    },
    {
     "name": "stdout",
     "output_type": "stream",
     "text": [
      "N#Cc1ncc(Br)cc1NC(=O)C(F)(F)F\n"
     ]
    },
    {
     "name": "stderr",
     "output_type": "stream",
     "text": [
      " 35%|███▌      | 1226/3498 [49:04<1:29:56,  2.38s/it]"
     ]
    },
    {
     "name": "stdout",
     "output_type": "stream",
     "text": [
      "COc1cc2cc(O)c(C)cc2cc1Cc1ccccc1\n"
     ]
    },
    {
     "name": "stderr",
     "output_type": "stream",
     "text": [
      " 35%|███▌      | 1231/3498 [49:18<1:49:51,  2.91s/it]"
     ]
    },
    {
     "name": "stdout",
     "output_type": "stream",
     "text": [
      "c1ccc2c(c1)CCN(c1nnc(-n3cccc3)s1)C2\n"
     ]
    },
    {
     "name": "stderr",
     "output_type": "stream",
     "text": [
      " 35%|███▌      | 1235/3498 [49:28<1:31:17,  2.42s/it]"
     ]
    },
    {
     "name": "stdout",
     "output_type": "stream",
     "text": [
      "COC(=O)c1nccnc1C1=NC(C)(C(C)C)C(=O)N1\n"
     ]
    },
    {
     "name": "stderr",
     "output_type": "stream",
     "text": [
      " 35%|███▌      | 1238/3498 [49:35<1:29:28,  2.38s/it]"
     ]
    },
    {
     "name": "stdout",
     "output_type": "stream",
     "text": [
      "CC(C)(C)OC(=O)N[C@@H](CC(=O)N1N=CCC1C(=O)OCc1ccccc1)Cc1cc(F)c(F)cc1F\n"
     ]
    },
    {
     "name": "stderr",
     "output_type": "stream",
     "text": [
      " 36%|███▌      | 1249/3498 [50:01<1:25:10,  2.27s/it]"
     ]
    },
    {
     "name": "stdout",
     "output_type": "stream",
     "text": [
      "Cc1ccc(S(=O)(=O)n2cc(Br)c3c(N4CCC(O)CC4)ncnc32)cc1\n"
     ]
    },
    {
     "name": "stderr",
     "output_type": "stream",
     "text": [
      " 36%|███▌      | 1253/3498 [50:10<1:23:31,  2.23s/it]"
     ]
    },
    {
     "name": "stdout",
     "output_type": "stream",
     "text": [
      "[H][C@@]12CCC(C)=C(COc3ccc4ccc(=O)oc4c3)[C@@]1(C)CCC(=O)C2(C)C\n"
     ]
    },
    {
     "name": "stderr",
     "output_type": "stream",
     "text": [
      " 36%|███▌      | 1256/3498 [50:17<1:24:34,  2.26s/it]"
     ]
    },
    {
     "name": "stdout",
     "output_type": "stream",
     "text": [
      "c1ccc2c(-c3ccc4[nH]ncc4c3)csc2c1\n"
     ]
    },
    {
     "name": "stderr",
     "output_type": "stream",
     "text": [
      " 37%|███▋      | 1280/3498 [51:14<1:21:51,  2.21s/it]"
     ]
    },
    {
     "name": "stdout",
     "output_type": "stream",
     "text": [
      "O=C(O)c1cc(-c2ccccc2)nn1-c1ncccc1-c1ccccc1\n"
     ]
    },
    {
     "name": "stderr",
     "output_type": "stream",
     "text": [
      " 37%|███▋      | 1281/3498 [51:17<1:19:57,  2.16s/it]"
     ]
    },
    {
     "name": "stdout",
     "output_type": "stream",
     "text": [
      "CC(C)C1CC(n2cc(C(=O)O)nn2)c2cc(Cl)ccc2O1\n"
     ]
    },
    {
     "name": "stderr",
     "output_type": "stream",
     "text": [
      " 37%|███▋      | 1286/3498 [51:27<1:20:13,  2.18s/it]"
     ]
    },
    {
     "name": "stdout",
     "output_type": "stream",
     "text": [
      "CC(C)NC(=O)c1c(Cl)nn(C)c1NC(=O)c1cc(Br)nn1-c1ncccc1Cl\n"
     ]
    },
    {
     "name": "stderr",
     "output_type": "stream",
     "text": [
      " 37%|███▋      | 1289/3498 [51:34<1:23:19,  2.26s/it]"
     ]
    },
    {
     "name": "stdout",
     "output_type": "stream",
     "text": [
      "Cc1ccccc1-c1nc2ccccc2cc1Cn1nc(-c2cncnc2)c2cnc(N)nc21\n"
     ]
    },
    {
     "name": "stderr",
     "output_type": "stream",
     "text": [
      " 38%|███▊      | 1329/3498 [53:09<1:42:28,  2.83s/it]"
     ]
    },
    {
     "name": "stdout",
     "output_type": "stream",
     "text": [
      "N#Cc1ccc(-c2ccccc2CCOc2ncccn2)cc1\n"
     ]
    },
    {
     "name": "stderr",
     "output_type": "stream",
     "text": [
      " 38%|███▊      | 1336/3498 [53:25<1:23:13,  2.31s/it]"
     ]
    },
    {
     "name": "stdout",
     "output_type": "stream",
     "text": [
      "CCOC(=O)C(OC(C)(C)C)c1c(C)nc2c(Br)c(C)nn2c1-c1ccc(Cl)cc1\n"
     ]
    },
    {
     "name": "stderr",
     "output_type": "stream",
     "text": [
      " 38%|███▊      | 1344/3498 [53:43<1:17:41,  2.16s/it]"
     ]
    },
    {
     "name": "stdout",
     "output_type": "stream",
     "text": [
      "CCOC(=O)c1cc2cc(NC(=N)N)ccc2s1\n"
     ]
    },
    {
     "name": "stderr",
     "output_type": "stream",
     "text": [
      " 38%|███▊      | 1346/3498 [53:47<1:16:38,  2.14s/it]"
     ]
    },
    {
     "name": "stdout",
     "output_type": "stream",
     "text": [
      "COc1cc2c(Nc3ccc(Br)cc3F)ncnc2cc1OCCCN1CCOC(CO)C1\n"
     ]
    },
    {
     "name": "stderr",
     "output_type": "stream",
     "text": [
      " 39%|███▊      | 1351/3498 [54:00<1:24:23,  2.36s/it]"
     ]
    },
    {
     "name": "stdout",
     "output_type": "stream",
     "text": [
      "CC(C)=CCn1c(COc2ccc(Br)cc2Cl)noc1=O\n"
     ]
    },
    {
     "name": "stderr",
     "output_type": "stream",
     "text": [
      " 39%|███▉      | 1356/3498 [54:12<1:21:55,  2.29s/it]"
     ]
    },
    {
     "name": "stdout",
     "output_type": "stream",
     "text": [
      "CN(C)c1ccc2c(c1)[C@H](CC(=O)c1ccccc1)C(C(=O)OCc1ccccc1)(C(=O)OCc1ccccc1)C[C@H]2c1ccccc1\n"
     ]
    },
    {
     "name": "stderr",
     "output_type": "stream",
     "text": [
      " 39%|███▉      | 1359/3498 [54:18<1:19:13,  2.22s/it]"
     ]
    },
    {
     "name": "stdout",
     "output_type": "stream",
     "text": [
      "CC(C)/N=C1\\ON(C(C)C)C(C)(C)N1c1ccccc1\n"
     ]
    },
    {
     "name": "stderr",
     "output_type": "stream",
     "text": [
      " 39%|███▉      | 1379/3498 [55:04<1:17:17,  2.19s/it]"
     ]
    },
    {
     "name": "stdout",
     "output_type": "stream",
     "text": [
      "Cc1nccc(-c2ccccc2Cl)c1C(OC(C)(C)C)C(=O)NCCO\n"
     ]
    },
    {
     "name": "stderr",
     "output_type": "stream",
     "text": [
      " 40%|███▉      | 1383/3498 [55:14<1:19:06,  2.24s/it]"
     ]
    },
    {
     "name": "stdout",
     "output_type": "stream",
     "text": [
      "CC(C)(C)Nc1ncc(-c2cnn(C3CCN(C(=O)OC(C)(C)C)CC3)c2)cc1C(=O)O\n"
     ]
    },
    {
     "name": "stderr",
     "output_type": "stream",
     "text": [
      " 40%|███▉      | 1392/3498 [55:33<1:14:36,  2.13s/it]"
     ]
    },
    {
     "name": "stdout",
     "output_type": "stream",
     "text": [
      "c1ccc(-n2ccc3cnc(N4CCCCC4)nc32)nc1\n"
     ]
    },
    {
     "name": "stderr",
     "output_type": "stream",
     "text": [
      " 40%|███▉      | 1393/3498 [55:35<1:11:27,  2.04s/it]"
     ]
    },
    {
     "name": "stdout",
     "output_type": "stream",
     "text": [
      "O=C(C[C@H]1CCC[C@@H](N2CCCC2)[C@@H]1C(=O)c1cccs1)c1cccs1\n"
     ]
    },
    {
     "name": "stderr",
     "output_type": "stream",
     "text": [
      " 40%|███▉      | 1395/3498 [55:40<1:14:27,  2.12s/it]"
     ]
    },
    {
     "name": "stdout",
     "output_type": "stream",
     "text": [
      "CC(Oc1cc(-n2nc3c(c2Cl)CCCC3)c(F)cc1Cl)C(=O)NCCO\n"
     ]
    },
    {
     "name": "stderr",
     "output_type": "stream",
     "text": [
      " 40%|████      | 1400/3498 [55:52<1:23:09,  2.38s/it]"
     ]
    },
    {
     "name": "stdout",
     "output_type": "stream",
     "text": [
      "Brc1cnc2n[se]nc2c1\n"
     ]
    },
    {
     "name": "stderr",
     "output_type": "stream",
     "text": [
      " 40%|████      | 1404/3498 [56:01<1:18:53,  2.26s/it]"
     ]
    },
    {
     "name": "stdout",
     "output_type": "stream",
     "text": [
      "O=C(NC1CCN(Cc2ccc(OC3CCNCC3)c(Br)c2)CC1)c1cc2cc(F)ccc2n1S(=O)(=O)c1ccccc1\n"
     ]
    },
    {
     "name": "stderr",
     "output_type": "stream",
     "text": [
      " 41%|████      | 1420/3498 [56:37<1:18:22,  2.26s/it]"
     ]
    },
    {
     "name": "stdout",
     "output_type": "stream",
     "text": [
      "CC(=O)c1c(NC2CCCc3ccccc32)[nH]c2c(C)cc(Cl)cc2c1=O\n"
     ]
    },
    {
     "name": "stderr",
     "output_type": "stream",
     "text": [
      " 41%|████      | 1433/3498 [57:08<1:20:37,  2.34s/it]"
     ]
    },
    {
     "name": "stdout",
     "output_type": "stream",
     "text": [
      "CC(C)(C)OC(=O)N[C@@H](CC(=O)N1Cc2ccccc2CN1C(=O)OCc1ccccc1)Cc1cc(F)c(F)cc1F\n"
     ]
    },
    {
     "name": "stderr",
     "output_type": "stream",
     "text": [
      " 41%|████      | 1435/3498 [57:12<1:21:50,  2.38s/it]"
     ]
    },
    {
     "name": "stdout",
     "output_type": "stream",
     "text": [
      "CCc1nc2cc(-c3ccccn3)c(CO)nc2n1Cc1ccc2oc(-c3ccccc3-c3nnn[nH]3)c(Br)c2c1\n"
     ]
    },
    {
     "name": "stderr",
     "output_type": "stream",
     "text": [
      " 41%|████      | 1437/3498 [57:17<1:15:59,  2.21s/it]"
     ]
    },
    {
     "name": "stdout",
     "output_type": "stream",
     "text": [
      "CC(C)=C1CC[C@H](C)[C@](C)(COc2ccc3ccc(=O)oc3c2)[C@@H]1CCC(N)=O\n"
     ]
    },
    {
     "name": "stderr",
     "output_type": "stream",
     "text": [
      " 41%|████      | 1438/3498 [57:19<1:14:30,  2.17s/it]"
     ]
    },
    {
     "name": "stdout",
     "output_type": "stream",
     "text": [
      "CC(=O)c1c(NN2CCOCC2)[nH]c2c(Cl)cc([N+](=O)[O-])cc2c1=O\n"
     ]
    },
    {
     "name": "stderr",
     "output_type": "stream",
     "text": [
      " 42%|████▏     | 1457/3498 [58:03<1:16:02,  2.24s/it]"
     ]
    },
    {
     "name": "stdout",
     "output_type": "stream",
     "text": [
      "c1ccc(COc2ccc(-c3n[nH]cc3CN3CCNCC3)cc2)cc1\n"
     ]
    },
    {
     "name": "stderr",
     "output_type": "stream",
     "text": [
      " 42%|████▏     | 1467/3498 [58:26<1:18:27,  2.32s/it]"
     ]
    },
    {
     "name": "stdout",
     "output_type": "stream",
     "text": [
      "CC(C)[C@H](NC(=O)c1ccc2nc(-c3ccc(NC(=O)NCc4ccccc4)cc3)cn2c1)C(=O)O\n"
     ]
    },
    {
     "name": "stderr",
     "output_type": "stream",
     "text": [
      " 42%|████▏     | 1470/3498 [58:33<1:16:41,  2.27s/it]"
     ]
    },
    {
     "name": "stdout",
     "output_type": "stream",
     "text": [
      "CS(=O)(=O)N1CCN(CCCOc2ccc3c(c2)CN(Cc2cccnc2)C3=O)CC1\n"
     ]
    },
    {
     "name": "stderr",
     "output_type": "stream",
     "text": [
      " 42%|████▏     | 1485/3498 [59:09<1:18:33,  2.34s/it]"
     ]
    },
    {
     "name": "stdout",
     "output_type": "stream",
     "text": [
      "Cc1cc2c3c(c1)C1(NC(=O)c4ccccc4N1)C(=O)N3C1(CCCCCC1)CC2(C)C\n"
     ]
    },
    {
     "name": "stderr",
     "output_type": "stream",
     "text": [
      " 43%|████▎     | 1491/3498 [59:23<1:16:53,  2.30s/it]"
     ]
    },
    {
     "name": "stdout",
     "output_type": "stream",
     "text": [
      "COc1cccc(NC(=O)c2c(C)nc(C)c(C(=O)O)c2-c2ccc(Cl)cc2)c1\n"
     ]
    },
    {
     "name": "stderr",
     "output_type": "stream",
     "text": [
      " 43%|████▎     | 1492/3498 [59:25<1:13:30,  2.20s/it]"
     ]
    },
    {
     "name": "stdout",
     "output_type": "stream",
     "text": [
      "CNC(=O)Nc1cc(S(=O)(=O)C(C)C(=O)O)c(Cl)cc1F\n"
     ]
    },
    {
     "name": "stderr",
     "output_type": "stream",
     "text": [
      " 43%|████▎     | 1496/3498 [59:34<1:11:42,  2.15s/it]"
     ]
    },
    {
     "name": "stdout",
     "output_type": "stream",
     "text": [
      "CC(C)CNCC(=O)Nc1ccc(C(=O)N2c3ccc(S(=O)(=O)N4CC(c5ccccc5)NC4=O)cc3CC2C)cc1\n"
     ]
    },
    {
     "name": "stderr",
     "output_type": "stream",
     "text": [
      " 43%|████▎     | 1500/3498 [59:44<1:17:09,  2.32s/it]"
     ]
    },
    {
     "name": "stdout",
     "output_type": "stream",
     "text": [
      "COc1ccc(-c2c(-c3ccccc3)nn(-c3ccc(C)cc3)c2N)cc1OC\n"
     ]
    },
    {
     "name": "stderr",
     "output_type": "stream",
     "text": [
      " 43%|████▎     | 1509/3498 [1:00:05<1:14:55,  2.26s/it]"
     ]
    },
    {
     "name": "stdout",
     "output_type": "stream",
     "text": [
      "COC(=O)c1c(CS(=O)(=O)c2ccccc2)n(S(=O)(=O)c2ccccc2)c2ccccc12\n"
     ]
    },
    {
     "name": "stderr",
     "output_type": "stream",
     "text": [
      " 43%|████▎     | 1510/3498 [1:00:07<1:17:13,  2.33s/it]"
     ]
    },
    {
     "name": "stdout",
     "output_type": "stream",
     "text": [
      "OCC1O[C@@H](Oc2cc(O)cc(C3c4c(/C=C/c5ccc(O)cc5)cc(O)cc4OC3c3ccc(O)cc3)c2)C(O)[C@H](O)[C@@H]1O\n"
     ]
    },
    {
     "name": "stderr",
     "output_type": "stream",
     "text": [
      " 43%|████▎     | 1518/3498 [1:00:26<1:15:02,  2.27s/it]"
     ]
    },
    {
     "name": "stdout",
     "output_type": "stream",
     "text": [
      "CCCC1(c2ccccc2)OC(=O)C(C)=C1c1ccccc1\n"
     ]
    },
    {
     "name": "stderr",
     "output_type": "stream",
     "text": [
      " 44%|████▎     | 1523/3498 [1:00:38<1:20:14,  2.44s/it]"
     ]
    },
    {
     "name": "stdout",
     "output_type": "stream",
     "text": [
      "O=C(c1ccccc1)c1c[nH]c(C(c2ccccc2)c2ccc(C(c3ccccc3)c3cc(C(=O)c4ccccc4)c[nH]3)o2)c1\n"
     ]
    },
    {
     "name": "stderr",
     "output_type": "stream",
     "text": [
      " 44%|████▎     | 1529/3498 [1:00:52<1:19:27,  2.42s/it]"
     ]
    },
    {
     "name": "stdout",
     "output_type": "stream",
     "text": [
      "CC(=O)Nc1cccc(C2(C)C(=O)N(C)C(=O)N(C)C2=O)c1\n"
     ]
    },
    {
     "name": "stderr",
     "output_type": "stream",
     "text": [
      " 44%|████▍     | 1532/3498 [1:00:59<1:12:14,  2.20s/it]"
     ]
    },
    {
     "name": "stdout",
     "output_type": "stream",
     "text": [
      "COc1ccc(-c2c(-n3cncn3)c(S(C)=O)nn2-c2ccc(F)cc2)cc1\n"
     ]
    },
    {
     "name": "stderr",
     "output_type": "stream",
     "text": [
      " 44%|████▍     | 1539/3498 [1:01:15<1:13:45,  2.26s/it]"
     ]
    },
    {
     "name": "stdout",
     "output_type": "stream",
     "text": [
      "CC(=O)OC(CF)c1cc(F)ccc1S(N)(=O)=O\n"
     ]
    },
    {
     "name": "stderr",
     "output_type": "stream",
     "text": [
      " 44%|████▍     | 1540/3498 [1:01:17<1:13:32,  2.25s/it]"
     ]
    },
    {
     "name": "stdout",
     "output_type": "stream",
     "text": [
      "COc1cccc2c1CCC(=O)N2CCCN1CCC(c2ccccc2)CC1\n"
     ]
    },
    {
     "name": "stderr",
     "output_type": "stream",
     "text": [
      " 44%|████▍     | 1543/3498 [1:01:24<1:15:06,  2.31s/it]"
     ]
    },
    {
     "name": "stdout",
     "output_type": "stream",
     "text": [
      "COc1ccc(-c2cc3cc(C)cc(C)c3o2)cc1OC\n"
     ]
    },
    {
     "name": "stderr",
     "output_type": "stream",
     "text": [
      " 44%|████▍     | 1553/3498 [1:01:47<1:12:51,  2.25s/it]"
     ]
    },
    {
     "name": "stdout",
     "output_type": "stream",
     "text": [
      "Cc1ccc(N(Cc2ccc(F)cc2)N(C)CC(=O)NC2CCCCC2)cc1\n"
     ]
    },
    {
     "name": "stderr",
     "output_type": "stream",
     "text": [
      " 44%|████▍     | 1555/3498 [1:01:51<1:11:57,  2.22s/it]"
     ]
    },
    {
     "name": "stdout",
     "output_type": "stream",
     "text": [
      "CC(C)(C)NC(=O)c1cncn1C(c1ccc(Cl)cc1)c1ccc(Cl)cc1\n"
     ]
    },
    {
     "name": "stderr",
     "output_type": "stream",
     "text": [
      " 44%|████▍     | 1556/3498 [1:01:53<1:08:38,  2.12s/it]"
     ]
    },
    {
     "name": "stdout",
     "output_type": "stream",
     "text": [
      "CCOC(=O)Cc1c(-c2cc3ccccc3n2C)[nH]c2ccccc12\n"
     ]
    },
    {
     "name": "stderr",
     "output_type": "stream",
     "text": [
      " 45%|████▍     | 1557/3498 [1:01:55<1:06:48,  2.07s/it]"
     ]
    },
    {
     "name": "stdout",
     "output_type": "stream",
     "text": [
      "CCCc1nc(-c2ccc3ccccc3c2)cc2ccsc12\n"
     ]
    },
    {
     "name": "stderr",
     "output_type": "stream",
     "text": [
      " 45%|████▍     | 1559/3498 [1:01:59<1:06:48,  2.07s/it]"
     ]
    },
    {
     "name": "stdout",
     "output_type": "stream",
     "text": [
      "CN(C)CCOc1cc(N2C(=O)c3ccccc3S2(=O)=O)ccc1Cl\n"
     ]
    },
    {
     "name": "stderr",
     "output_type": "stream",
     "text": [
      " 45%|████▍     | 1560/3498 [1:02:01<1:05:04,  2.01s/it]"
     ]
    },
    {
     "name": "stdout",
     "output_type": "stream",
     "text": [
      "Cc1cc(C(F)(F)F)nc(OCCCC#N)c1C(=O)C1C(=O)C2CCC(C2)C1=O\n"
     ]
    },
    {
     "name": "stderr",
     "output_type": "stream",
     "text": [
      " 45%|████▍     | 1570/3498 [1:02:23<1:08:53,  2.14s/it]"
     ]
    },
    {
     "name": "stdout",
     "output_type": "stream",
     "text": [
      "[H][C@@]1(C(C)(C)O)C(=O)Oc2cc(OC)ccc2[C@H]1c1cccc(OCCC)c1\n"
     ]
    },
    {
     "name": "stderr",
     "output_type": "stream",
     "text": [
      " 45%|████▌     | 1579/3498 [1:02:44<1:09:26,  2.17s/it]"
     ]
    },
    {
     "name": "stdout",
     "output_type": "stream",
     "text": [
      "Cc1c(C(=O)O)[nH]c(S(=O)(=O)NCCO)c1C\n"
     ]
    },
    {
     "name": "stderr",
     "output_type": "stream",
     "text": [
      " 45%|████▌     | 1582/3498 [1:02:50<1:09:22,  2.17s/it]"
     ]
    },
    {
     "name": "stdout",
     "output_type": "stream",
     "text": [
      "CC1(c2ccccn2)CCN(C(=O)C(O)c2ccccc2)C1\n"
     ]
    },
    {
     "name": "stderr",
     "output_type": "stream",
     "text": [
      " 45%|████▌     | 1585/3498 [1:02:57<1:07:52,  2.13s/it]"
     ]
    },
    {
     "name": "stdout",
     "output_type": "stream",
     "text": [
      "CN(C)S(=O)(=O)CCNCc1ccc(-c2ccccc2)cc1\n"
     ]
    },
    {
     "name": "stderr",
     "output_type": "stream",
     "text": [
      " 45%|████▌     | 1589/3498 [1:03:07<1:14:44,  2.35s/it]"
     ]
    },
    {
     "name": "stdout",
     "output_type": "stream",
     "text": [
      "[H][C@@]12c3cc(O)cc(O)c3[C@H](c3ccc(O)cc3)[C@]3([H])c4c(c(O)cc(c41)O[C@@H]2c1ccc(O)cc1)[C@@H](c1cc(O)cc(O)c1)[C@@H]3c1ccc(O)cc1\n"
     ]
    },
    {
     "name": "stderr",
     "output_type": "stream",
     "text": [
      " 46%|████▌     | 1593/3498 [1:03:16<1:10:39,  2.23s/it]"
     ]
    },
    {
     "name": "stdout",
     "output_type": "stream",
     "text": [
      "COc1ccc(Cl)cc1-c1ccc2c(c1)c(C#N)cn2-c1ccc(F)cc1\n"
     ]
    },
    {
     "name": "stderr",
     "output_type": "stream",
     "text": [
      " 46%|████▌     | 1605/3498 [1:03:44<1:11:01,  2.25s/it]"
     ]
    },
    {
     "name": "stdout",
     "output_type": "stream",
     "text": [
      "COc1ccc2c(n1)c1c(n2-c2ccc(N(C)C)cc2)CCC1\n"
     ]
    },
    {
     "name": "stderr",
     "output_type": "stream",
     "text": [
      " 46%|████▌     | 1607/3498 [1:03:48<1:11:52,  2.28s/it]"
     ]
    },
    {
     "name": "stdout",
     "output_type": "stream",
     "text": [
      "COc1cc2c(cc1NC(=O)C(C(C)=O)=C(SC)SC)oc1ccccc12\n"
     ]
    },
    {
     "name": "stderr",
     "output_type": "stream",
     "text": [
      " 46%|████▌     | 1610/3498 [1:03:55<1:13:16,  2.33s/it]"
     ]
    },
    {
     "name": "stdout",
     "output_type": "stream",
     "text": [
      "O=C(c1ccccc1)c1cc2occ(-c3ccccc3)c2cc1O\n"
     ]
    },
    {
     "name": "stderr",
     "output_type": "stream",
     "text": [
      " 46%|████▋     | 1622/3498 [1:04:24<1:11:11,  2.28s/it]"
     ]
    },
    {
     "name": "stdout",
     "output_type": "stream",
     "text": [
      "CC1=C(C(=O)NC2CCN(Cc3ccc(OCCCN(C)C)cc3)CC2)Cc2ccccc21\n"
     ]
    },
    {
     "name": "stderr",
     "output_type": "stream",
     "text": [
      " 46%|████▋     | 1624/3498 [1:04:28<1:08:39,  2.20s/it]"
     ]
    },
    {
     "name": "stdout",
     "output_type": "stream",
     "text": [
      "CS(=O)c1nn(-c2ccc(Cl)c(Cl)c2)c(-c2ccc(Cl)c(Cl)c2)c1-n1ccnc1\n"
     ]
    },
    {
     "name": "stderr",
     "output_type": "stream",
     "text": [
      " 47%|████▋     | 1630/3498 [1:04:42<1:09:10,  2.22s/it]"
     ]
    },
    {
     "name": "stdout",
     "output_type": "stream",
     "text": [
      "Clc1ccc(-c2c(-n3cncn3)nc3ccc(Cl)cc3c2Cl)c(Cl)c1\n"
     ]
    },
    {
     "name": "stderr",
     "output_type": "stream",
     "text": [
      " 47%|████▋     | 1636/3498 [1:04:55<1:09:39,  2.24s/it]"
     ]
    },
    {
     "name": "stdout",
     "output_type": "stream",
     "text": [
      "Clc1ncccc1-c1nc2cc3c(cc2c2ccnn12)OCO3\n"
     ]
    },
    {
     "name": "stderr",
     "output_type": "stream",
     "text": [
      " 47%|████▋     | 1645/3498 [1:05:16<1:08:32,  2.22s/it]"
     ]
    },
    {
     "name": "stdout",
     "output_type": "stream",
     "text": [
      "CCC1CC(=O)c2c(Cl)cccc2N1S(=O)(=O)c1ccc2ccccc2c1\n"
     ]
    },
    {
     "name": "stderr",
     "output_type": "stream",
     "text": [
      " 47%|████▋     | 1655/3498 [1:05:41<1:18:32,  2.56s/it]"
     ]
    },
    {
     "name": "stdout",
     "output_type": "stream",
     "text": [
      "CC(=O)c1c(NC2CCCc3ccccc32)[nH]c2c(-c3ccccc3)cccc2c1=O\n"
     ]
    },
    {
     "name": "stderr",
     "output_type": "stream",
     "text": [
      " 48%|████▊     | 1667/3498 [1:06:11<1:17:57,  2.55s/it]"
     ]
    },
    {
     "name": "stdout",
     "output_type": "stream",
     "text": [
      "CC(C)COc1cc(=O)n2c(c1C(=O)N1CCC(C)CC1)CCCCC2\n"
     ]
    },
    {
     "name": "stderr",
     "output_type": "stream",
     "text": [
      " 48%|████▊     | 1681/3498 [1:06:41<1:02:39,  2.07s/it]"
     ]
    },
    {
     "name": "stdout",
     "output_type": "stream",
     "text": [
      "CC(C)(C)OC(=O)COc1ccc(-c2cc3ccccc3[nH]c2=O)cc1\n"
     ]
    },
    {
     "name": "stderr",
     "output_type": "stream",
     "text": [
      " 48%|████▊     | 1682/3498 [1:06:44<1:08:09,  2.25s/it]"
     ]
    },
    {
     "name": "stdout",
     "output_type": "stream",
     "text": [
      "O=C1c2ccccc2CN1C(c1cccc(F)c1)c1nc2cncnc2[nH]1\n"
     ]
    },
    {
     "name": "stderr",
     "output_type": "stream",
     "text": [
      " 48%|████▊     | 1683/3498 [1:06:46<1:05:05,  2.15s/it]"
     ]
    },
    {
     "name": "stdout",
     "output_type": "stream",
     "text": [
      "CC(C)(C)OC(=O)NC(CC(=O)N1CCCCN1)Cc1ccccc1F\n"
     ]
    },
    {
     "name": "stderr",
     "output_type": "stream",
     "text": [
      " 49%|████▊     | 1699/3498 [1:07:21<1:05:32,  2.19s/it]"
     ]
    },
    {
     "name": "stdout",
     "output_type": "stream",
     "text": [
      "CCOC(=O)c1c(-c2ccccc2)n(C#Cc2ccccc2F)c2ccccc12\n"
     ]
    },
    {
     "name": "stderr",
     "output_type": "stream",
     "text": [
      " 49%|████▉     | 1713/3498 [1:07:55<1:07:16,  2.26s/it]"
     ]
    },
    {
     "name": "stdout",
     "output_type": "stream",
     "text": [
      "CC(=O)Nc1ccc(S(=O)(=O)N[C@H](C(=O)O)C2CCCCC2)cc1\n"
     ]
    },
    {
     "name": "stderr",
     "output_type": "stream",
     "text": [
      " 49%|████▉     | 1726/3498 [1:08:24<1:04:27,  2.18s/it]"
     ]
    },
    {
     "name": "stdout",
     "output_type": "stream",
     "text": [
      "CCc1nc(NCCc2ccncc2)c2c3c(sc2n1)CCCC3\n"
     ]
    },
    {
     "name": "stderr",
     "output_type": "stream",
     "text": [
      " 49%|████▉     | 1727/3498 [1:08:26<1:03:54,  2.17s/it]"
     ]
    },
    {
     "name": "stdout",
     "output_type": "stream",
     "text": [
      "COc1ccc(-c2nnc(N(C)C)n2-c2ccc(C)cc2)c(OC)c1\n"
     ]
    },
    {
     "name": "stderr",
     "output_type": "stream",
     "text": [
      " 49%|████▉     | 1729/3498 [1:08:30<1:02:19,  2.11s/it]"
     ]
    },
    {
     "name": "stdout",
     "output_type": "stream",
     "text": [
      "CN1C(=O)c2cccc(-c3cc(Cl)cc(Cl)c3)c2C1(C)C\n"
     ]
    },
    {
     "name": "stderr",
     "output_type": "stream",
     "text": [
      " 49%|████▉     | 1730/3498 [1:08:32<1:00:52,  2.07s/it]"
     ]
    },
    {
     "name": "stdout",
     "output_type": "stream",
     "text": [
      "O=C(Nc1ccncc1)c1nn(Cc2ccccc2)c2c1CCc1ccccc1-2\n"
     ]
    },
    {
     "name": "stderr",
     "output_type": "stream",
     "text": [
      " 50%|████▉     | 1735/3498 [1:08:43<1:01:46,  2.10s/it]"
     ]
    },
    {
     "name": "stdout",
     "output_type": "stream",
     "text": [
      "CC(C)(C)/C(=C/c1ccc(Cl)cc1)Cn1ccnc1\n"
     ]
    },
    {
     "name": "stderr",
     "output_type": "stream",
     "text": [
      " 50%|████▉     | 1739/3498 [1:08:57<1:19:10,  2.70s/it]"
     ]
    },
    {
     "name": "stdout",
     "output_type": "stream",
     "text": [
      "Cc1nc2nc(Cl)n(Cc3ccc(-c4cc(CC(C)C)sc4S(=O)(=O)NC(C)(C)C)cc3)c2cc1-c1ccccc1\n"
     ]
    },
    {
     "name": "stderr",
     "output_type": "stream",
     "text": [
      " 50%|████▉     | 1745/3498 [1:09:13<1:09:01,  2.36s/it]"
     ]
    },
    {
     "name": "stdout",
     "output_type": "stream",
     "text": [
      "N#Cc1ccc2nc(-n3cncn3)c(-c3ccc(Cl)cc3Cl)c(C#N)c2c1\n"
     ]
    },
    {
     "name": "stderr",
     "output_type": "stream",
     "text": [
      " 50%|█████     | 1756/3498 [1:09:38<1:08:11,  2.35s/it]"
     ]
    },
    {
     "name": "stdout",
     "output_type": "stream",
     "text": [
      "Cc1ccc(-c2noc(=O)n2Cc2ccc(S(=O)(=O)N(C)C)cc2)cc1\n"
     ]
    },
    {
     "name": "stderr",
     "output_type": "stream",
     "text": [
      " 50%|█████     | 1764/3498 [1:09:56<1:04:00,  2.21s/it]"
     ]
    },
    {
     "name": "stdout",
     "output_type": "stream",
     "text": [
      "CCC(=O)OC(COC)c1ccccc1CS(N)(=O)=O\n"
     ]
    },
    {
     "name": "stderr",
     "output_type": "stream",
     "text": [
      " 51%|█████     | 1769/3498 [1:10:13<1:21:18,  2.82s/it]"
     ]
    },
    {
     "name": "stdout",
     "output_type": "stream",
     "text": [
      "COc1cccc(-c2nc3cc(Cl)ccc3c3ccnn23)c1Cl\n"
     ]
    },
    {
     "name": "stderr",
     "output_type": "stream",
     "text": [
      " 51%|█████     | 1770/3498 [1:10:15<1:13:56,  2.57s/it]"
     ]
    },
    {
     "name": "stdout",
     "output_type": "stream",
     "text": [
      "COc1ccc(CN2C(=O)C3=C(C#N)c4ccccc4Oc4cccc2c43)cc1\n"
     ]
    },
    {
     "name": "stderr",
     "output_type": "stream",
     "text": [
      " 51%|█████     | 1779/3498 [1:10:35<1:00:31,  2.11s/it]"
     ]
    },
    {
     "name": "stdout",
     "output_type": "stream",
     "text": [
      "COc1cccc(-c2cn3ncnc3n2Cc2cccc(Br)c2)c1\n"
     ]
    },
    {
     "name": "stderr",
     "output_type": "stream",
     "text": [
      " 51%|█████     | 1783/3498 [1:10:45<1:07:40,  2.37s/it]"
     ]
    },
    {
     "name": "stdout",
     "output_type": "stream",
     "text": [
      "Fc1cccc(F)c1COCC1CON=C(c2cccs2)O1\n"
     ]
    },
    {
     "name": "stderr",
     "output_type": "stream",
     "text": [
      " 51%|█████     | 1788/3498 [1:10:57<1:06:51,  2.35s/it]"
     ]
    },
    {
     "name": "stdout",
     "output_type": "stream",
     "text": [
      "CCc1cc(CN2OCC(C)(C)C2=O)c(Cl)s1\n"
     ]
    },
    {
     "name": "stderr",
     "output_type": "stream",
     "text": [
      " 51%|█████▏    | 1801/3498 [1:11:26<1:02:21,  2.20s/it]"
     ]
    },
    {
     "name": "stdout",
     "output_type": "stream",
     "text": [
      "COc1ccc(OCCc2c(O)nc(C)c(Br)c2O)cc1Br\n"
     ]
    },
    {
     "name": "stderr",
     "output_type": "stream",
     "text": [
      " 52%|█████▏    | 1808/3498 [1:11:42<1:06:11,  2.35s/it]"
     ]
    },
    {
     "name": "stdout",
     "output_type": "stream",
     "text": [
      "Cc1c(C(=O)NC2CCN(Cc3ccc(OCCCN(C)C)cc3)CC2)cnn1-c1ccccc1\n"
     ]
    },
    {
     "name": "stderr",
     "output_type": "stream",
     "text": [
      " 52%|█████▏    | 1819/3498 [1:12:09<1:06:48,  2.39s/it]"
     ]
    },
    {
     "name": "stdout",
     "output_type": "stream",
     "text": [
      "O=c1c2ccccc2nc(NCCCCc2ccccc2)n1-c1ccccc1\n"
     ]
    },
    {
     "name": "stderr",
     "output_type": "stream",
     "text": [
      " 52%|█████▏    | 1822/3498 [1:12:16<1:07:06,  2.40s/it]"
     ]
    },
    {
     "name": "stdout",
     "output_type": "stream",
     "text": [
      "CN(C)S(=O)(=O)CCc1cn([C@@H]2CCc3c(F)cccc32)nn1\n"
     ]
    },
    {
     "name": "stderr",
     "output_type": "stream",
     "text": [
      " 52%|█████▏    | 1823/3498 [1:12:18<1:03:22,  2.27s/it]"
     ]
    },
    {
     "name": "stdout",
     "output_type": "stream",
     "text": [
      "Cc1ccc(S(=O)(=O)Nc2cccc(NS(=O)(=O)c3ccc(C)cc3)c2-n2ccc3cccnc32)cc1\n"
     ]
    },
    {
     "name": "stderr",
     "output_type": "stream",
     "text": [
      " 52%|█████▏    | 1827/3498 [1:12:28<1:07:39,  2.43s/it]"
     ]
    },
    {
     "name": "stdout",
     "output_type": "stream",
     "text": [
      "Cn1ccc(-c2cnc(-c3cc(F)ccc3[N+](=O)[O-])nc2)n1\n"
     ]
    },
    {
     "name": "stderr",
     "output_type": "stream",
     "text": [
      " 52%|█████▏    | 1828/3498 [1:12:30<1:03:46,  2.29s/it]"
     ]
    },
    {
     "name": "stdout",
     "output_type": "stream",
     "text": [
      "COc1cc2c(cc1OC)/C(=N\\c1ccccc1)N(Cc1ccc(F)c(F)c1)CC2\n"
     ]
    },
    {
     "name": "stderr",
     "output_type": "stream",
     "text": [
      " 52%|█████▏    | 1829/3498 [1:12:32<1:02:11,  2.24s/it]"
     ]
    },
    {
     "name": "stdout",
     "output_type": "stream",
     "text": [
      "O=C(Nc1cc(Oc2ncccn2)c(Cl)cc1F)Oc1ccccc1\n"
     ]
    },
    {
     "name": "stderr",
     "output_type": "stream",
     "text": [
      " 52%|█████▏    | 1835/3498 [1:12:46<1:04:31,  2.33s/it]"
     ]
    },
    {
     "name": "stdout",
     "output_type": "stream",
     "text": [
      "O=c1ccc2cnc(N[C@H]3CC[C@H](O)CC3)nc2n1C1CCCCC1\n"
     ]
    },
    {
     "name": "stderr",
     "output_type": "stream",
     "text": [
      " 53%|█████▎    | 1841/3498 [1:12:59<1:00:07,  2.18s/it]"
     ]
    },
    {
     "name": "stdout",
     "output_type": "stream",
     "text": [
      "Cc1nn2c(N(C)C)cc(Cl)nc2c1Br\n"
     ]
    },
    {
     "name": "stderr",
     "output_type": "stream",
     "text": [
      " 53%|█████▎    | 1856/3498 [1:13:36<1:12:12,  2.64s/it]"
     ]
    },
    {
     "name": "stdout",
     "output_type": "stream",
     "text": [
      "c1ccc(Cn2c(-c3ccc(Oc4ccccc4)cc3)cn3ncnc23)cc1\n"
     ]
    },
    {
     "name": "stderr",
     "output_type": "stream",
     "text": [
      " 53%|█████▎    | 1857/3498 [1:13:58<3:51:58,  8.48s/it]"
     ]
    },
    {
     "name": "stdout",
     "output_type": "stream",
     "text": [
      "CC(C)(C)N1CC(C(=O)NCCOc2ccc(-c3ccccc3)cc2)CC1=O\n"
     ]
    },
    {
     "name": "stderr",
     "output_type": "stream",
     "text": [
      " 53%|█████▎    | 1858/3498 [1:14:00<2:59:03,  6.55s/it]"
     ]
    },
    {
     "name": "stdout",
     "output_type": "stream",
     "text": [
      "Nc1ccc(C(=O)Nc2nc(-c3ccc(F)cc3F)cs2)cc1\n"
     ]
    },
    {
     "name": "stderr",
     "output_type": "stream",
     "text": [
      " 53%|█████▎    | 1860/3498 [1:14:04<1:56:39,  4.27s/it]"
     ]
    },
    {
     "name": "stdout",
     "output_type": "stream",
     "text": [
      "Cc1nn(C(=O)c2cccnc2)c(C)c1Cc1c(F)cccc1Cl\n"
     ]
    },
    {
     "name": "stderr",
     "output_type": "stream",
     "text": [
      " 54%|█████▎    | 1874/3498 [1:14:39<1:06:38,  2.46s/it]"
     ]
    },
    {
     "name": "stdout",
     "output_type": "stream",
     "text": [
      "COc1cc2c(cc1Nc1ncc(Cl)c(Nc3ccc(C4CCN(C(C)=O)CC4)cc3OC)n1)CCCNC2\n"
     ]
    },
    {
     "name": "stderr",
     "output_type": "stream",
     "text": [
      " 54%|█████▍    | 1881/3498 [1:14:55<1:03:13,  2.35s/it]"
     ]
    },
    {
     "name": "stdout",
     "output_type": "stream",
     "text": [
      "COc1ccc(-n2ccc3cc(NC(=O)N4CCOCC4)ccc32)cc1Cl\n"
     ]
    },
    {
     "name": "stderr",
     "output_type": "stream",
     "text": [
      " 54%|█████▍    | 1906/3498 [1:15:55<1:02:45,  2.36s/it]"
     ]
    },
    {
     "name": "stdout",
     "output_type": "stream",
     "text": [
      "COC(=O)c1ccc(-c2noc(C(C)C)n2)cc1Cl\n"
     ]
    },
    {
     "name": "stderr",
     "output_type": "stream",
     "text": [
      " 55%|█████▍    | 1907/3498 [1:15:58<1:02:41,  2.36s/it]"
     ]
    },
    {
     "name": "stdout",
     "output_type": "stream",
     "text": [
      "Clc1ccc2ccn(Cc3ccccc3Br)c2n1\n"
     ]
    },
    {
     "name": "stderr",
     "output_type": "stream",
     "text": [
      " 55%|█████▍    | 1913/3498 [1:16:12<1:00:54,  2.31s/it]"
     ]
    },
    {
     "name": "stdout",
     "output_type": "stream",
     "text": [
      "CCOC(=O)C1(Cc2ccccc2)Nc2ccccc2C1=O\n"
     ]
    },
    {
     "name": "stderr",
     "output_type": "stream",
     "text": [
      " 55%|█████▍    | 1915/3498 [1:16:16<56:50,  2.15s/it]  "
     ]
    },
    {
     "name": "stdout",
     "output_type": "stream",
     "text": [
      "COC(=O)C1(CCCN(C)CCc2ccc(OC)c(OC)c2)CCCc2c1ccc(OC)c2OC\n"
     ]
    },
    {
     "name": "stderr",
     "output_type": "stream",
     "text": [
      " 55%|█████▍    | 1921/3498 [1:16:50<3:43:45,  8.51s/it]"
     ]
    },
    {
     "name": "stdout",
     "output_type": "stream",
     "text": [
      "Cc1ccc(O)c(C(=O)c2cnc(/N=C(\\N)N(C)C)nc2)c1\n"
     ]
    },
    {
     "name": "stderr",
     "output_type": "stream",
     "text": [
      " 55%|█████▌    | 1925/3498 [1:16:59<1:37:50,  3.73s/it]"
     ]
    },
    {
     "name": "stdout",
     "output_type": "stream",
     "text": [
      "CCCCS(=O)c1[nH]c2c(C(C)C)cccc2c(=O)c1C(C)=O\n"
     ]
    },
    {
     "name": "stderr",
     "output_type": "stream",
     "text": [
      " 55%|█████▌    | 1928/3498 [1:17:06<1:10:34,  2.70s/it]"
     ]
    },
    {
     "name": "stdout",
     "output_type": "stream",
     "text": [
      "CC1(COC(=O)Nc2ccc(Cl)cc2)CCC(C(C)(C)C)=NO1\n"
     ]
    },
    {
     "name": "stderr",
     "output_type": "stream",
     "text": [
      " 55%|█████▌    | 1930/3498 [1:17:10<1:03:57,  2.45s/it]"
     ]
    },
    {
     "name": "stdout",
     "output_type": "stream",
     "text": [
      "COC(=O)c1csc(COc2ccc(F)c(F)c2)n1\n"
     ]
    },
    {
     "name": "stderr",
     "output_type": "stream",
     "text": [
      " 55%|█████▌    | 1932/3498 [1:17:15<1:01:35,  2.36s/it]"
     ]
    },
    {
     "name": "stdout",
     "output_type": "stream",
     "text": [
      "CN1CCN(C(=O)N2CCCN(C(=O)C[C@@H](Cc3cc(F)c(F)cc3F)NC(=O)OC(C)(C)C)CC2)CC1\n"
     ]
    },
    {
     "name": "stderr",
     "output_type": "stream",
     "text": [
      " 55%|█████▌    | 1933/3498 [1:17:17<58:48,  2.25s/it]  "
     ]
    },
    {
     "name": "stdout",
     "output_type": "stream",
     "text": [
      "CNC1=C(c2cc(C)cc(C)n2)C(=O)C(c2ccccc2Cl)O1\n"
     ]
    },
    {
     "name": "stderr",
     "output_type": "stream",
     "text": [
      " 55%|█████▌    | 1934/3498 [1:17:19<1:01:00,  2.34s/it]"
     ]
    },
    {
     "name": "stdout",
     "output_type": "stream",
     "text": [
      "NC(N)=NC(=O)c1coc(-c2cc(F)cc(F)c2)c1\n"
     ]
    },
    {
     "name": "stderr",
     "output_type": "stream",
     "text": [
      " 56%|█████▌    | 1946/3498 [1:17:47<58:29,  2.26s/it]  "
     ]
    },
    {
     "name": "stdout",
     "output_type": "stream",
     "text": [
      "Cc1cccc(C)c1C1=NOC(C)(CS(=O)(=O)C2=NOC(C)(C)C2)C1\n"
     ]
    },
    {
     "name": "stderr",
     "output_type": "stream",
     "text": [
      " 56%|█████▌    | 1947/3498 [1:17:48<55:12,  2.14s/it]"
     ]
    },
    {
     "name": "stdout",
     "output_type": "stream",
     "text": [
      "Clc1ccccc1Sc1c(C2CC2)n[nH]c1C1CC1\n"
     ]
    },
    {
     "name": "stderr",
     "output_type": "stream",
     "text": [
      " 56%|█████▌    | 1952/3498 [1:18:01<1:03:07,  2.45s/it]"
     ]
    },
    {
     "name": "stdout",
     "output_type": "stream",
     "text": [
      "COCC1COc2cc3ncnc(Nc4ccc(Br)cc4F)c3cc2O1\n"
     ]
    },
    {
     "name": "stderr",
     "output_type": "stream",
     "text": [
      " 56%|█████▌    | 1953/3498 [1:18:03<59:33,  2.31s/it]  "
     ]
    },
    {
     "name": "stdout",
     "output_type": "stream",
     "text": [
      "CC(=O)CC1c2ccc(Br)cc2NC(C)(C)C(=O)N1OCc1ccccc1\n"
     ]
    },
    {
     "name": "stderr",
     "output_type": "stream",
     "text": [
      " 56%|█████▌    | 1960/3498 [1:18:19<59:12,  2.31s/it]  "
     ]
    },
    {
     "name": "stdout",
     "output_type": "stream",
     "text": [
      "CCOC(=O)C1CCN(c2nc(-c3ccc(S(C)(=O)=O)cc3)ncc2OC)CC1\n"
     ]
    },
    {
     "name": "stderr",
     "output_type": "stream",
     "text": [
      " 56%|█████▌    | 1961/3498 [1:18:21<56:55,  2.22s/it]"
     ]
    },
    {
     "name": "stdout",
     "output_type": "stream",
     "text": [
      "Cc1ccccc1-c1nc2ccccc2cc1C(C)Nc1ncnc(Cl)c1N\n"
     ]
    },
    {
     "name": "stderr",
     "output_type": "stream",
     "text": [
      " 56%|█████▌    | 1962/3498 [1:18:23<56:00,  2.19s/it]"
     ]
    },
    {
     "name": "stdout",
     "output_type": "stream",
     "text": [
      "CS(=O)(=O)N1CCC[C@H]1C(=O)NCCCn1nnc2ccccc21\n"
     ]
    },
    {
     "name": "stderr",
     "output_type": "stream",
     "text": [
      " 56%|█████▌    | 1966/3498 [1:18:32<54:32,  2.14s/it]"
     ]
    },
    {
     "name": "stdout",
     "output_type": "stream",
     "text": [
      "Cn1cc(-c2ccc3nnc(C[C@H](O)CO)n3n2)cn1\n"
     ]
    },
    {
     "name": "stderr",
     "output_type": "stream",
     "text": [
      " 56%|█████▋    | 1969/3498 [1:18:39<53:45,  2.11s/it]"
     ]
    },
    {
     "name": "stdout",
     "output_type": "stream",
     "text": [
      "COc1ccc(C2=NOC(c3ccsc3)C2)cc1\n"
     ]
    },
    {
     "name": "stderr",
     "output_type": "stream",
     "text": [
      " 56%|█████▋    | 1973/3498 [1:18:47<54:04,  2.13s/it]"
     ]
    },
    {
     "name": "stdout",
     "output_type": "stream",
     "text": [
      "Clc1ccc2c(c1)nc(-c1cccnc1Cl)n1ncc(Br)c21\n"
     ]
    },
    {
     "name": "stderr",
     "output_type": "stream",
     "text": [
      " 57%|█████▋    | 1979/3498 [1:19:02<59:19,  2.34s/it]  "
     ]
    },
    {
     "name": "stdout",
     "output_type": "stream",
     "text": [
      "COC1CCN(c2ncnc3c2c(Br)cn3S(=O)(=O)c2ccc(C)cc2)CC1\n"
     ]
    },
    {
     "name": "stderr",
     "output_type": "stream",
     "text": [
      " 57%|█████▋    | 1980/3498 [1:19:04<58:01,  2.29s/it]"
     ]
    }
   ],
   "source": [
    "\n",
    "\n",
    "from_pcp = None\n",
    "err_smiles = [] \n",
    "\n",
    "for smiles in tqdm(df.SMILES):\n",
    "    try:\n",
    "        pcp_prop = pcp.get_properties(properties=property, identifier=smiles, namespace='smiles', as_dataframe=True).to_numpy()\n",
    "        \n",
    "        if from_pcp is None:\n",
    "            from_pcp = pcp_prop\n",
    "        else:\n",
    "            from_pcp = np.concatenate([from_pcp, pcp_prop], axis=0)\n",
    "    except:\n",
    "        print(smiles)\n",
    "        err_smiles.append(smiles)\n",
    "    \n",
    "    \n",
    "    "
   ]
  },
  {
   "cell_type": "code",
   "execution_count": 5,
   "metadata": {},
   "outputs": [
    {
     "data": {
      "text/html": [
       "<div>\n",
       "<style scoped>\n",
       "    .dataframe tbody tr th:only-of-type {\n",
       "        vertical-align: middle;\n",
       "    }\n",
       "\n",
       "    .dataframe tbody tr th {\n",
       "        vertical-align: top;\n",
       "    }\n",
       "\n",
       "    .dataframe thead th {\n",
       "        text-align: right;\n",
       "    }\n",
       "</style>\n",
       "<table border=\"1\" class=\"dataframe\">\n",
       "  <thead>\n",
       "    <tr style=\"text-align: right;\">\n",
       "      <th></th>\n",
       "      <th>AtomStereoCount</th>\n",
       "      <th>BondStereoCount</th>\n",
       "      <th>ConformerCount3D</th>\n",
       "    </tr>\n",
       "    <tr>\n",
       "      <th>CID</th>\n",
       "      <th></th>\n",
       "      <th></th>\n",
       "      <th></th>\n",
       "    </tr>\n",
       "  </thead>\n",
       "  <tbody>\n",
       "    <tr>\n",
       "      <th>0</th>\n",
       "      <td>0</td>\n",
       "      <td>0</td>\n",
       "      <td>0</td>\n",
       "    </tr>\n",
       "  </tbody>\n",
       "</table>\n",
       "</div>"
      ],
      "text/plain": [
       "     AtomStereoCount  BondStereoCount  ConformerCount3D\n",
       "CID                                                    \n",
       "0                  0                0                 0"
      ]
     },
     "execution_count": 5,
     "metadata": {},
     "output_type": "execute_result"
    }
   ],
   "source": [
    "smiles = 'CNC(=O)c1cc(Cl)cc(C)c1NC(=O)c1cc(Br)nn1-c1c(F)c(F)cc(F)c1F'\n",
    "pcp.get_properties(properties=property, identifier=smiles, namespace='smiles', as_dataframe=True)"
   ]
  },
  {
   "cell_type": "code",
   "execution_count": null,
   "metadata": {},
   "outputs": [],
   "source": []
  }
 ],
 "metadata": {
  "kernelspec": {
   "display_name": "chemi",
   "language": "python",
   "name": "python3"
  },
  "language_info": {
   "codemirror_mode": {
    "name": "ipython",
    "version": 3
   },
   "file_extension": ".py",
   "mimetype": "text/x-python",
   "name": "python",
   "nbconvert_exporter": "python",
   "pygments_lexer": "ipython3",
   "version": "3.10.12"
  },
  "orig_nbformat": 4
 },
 "nbformat": 4,
 "nbformat_minor": 2
}
