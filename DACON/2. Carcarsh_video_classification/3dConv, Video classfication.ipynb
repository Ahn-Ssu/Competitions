{
 "cells": [
  {
   "cell_type": "markdown",
   "id": "a2bcba5f-002e-4f49-9622-ada6117faf0a",
   "metadata": {},
   "source": [
    "## Import"
   ]
  },
  {
   "cell_type": "code",
   "execution_count": 1,
   "id": "2b0d9b68-7102-4eca-9543-3b9b8acafc6e",
   "metadata": {},
   "outputs": [
    {
     "name": "stderr",
     "output_type": "stream",
     "text": [
      "/opt/conda/envs/Vision/lib/python3.10/site-packages/tqdm/auto.py:22: TqdmWarning: IProgress not found. Please update jupyter and ipywidgets. See https://ipywidgets.readthedocs.io/en/stable/user_install.html\n",
      "  from .autonotebook import tqdm as notebook_tqdm\n"
     ]
    }
   ],
   "source": [
    "import random\n",
    "import pandas as pd\n",
    "import numpy as np\n",
    "import os\n",
    "import cv2\n",
    "\n",
    "import torch\n",
    "import torch.nn as nn\n",
    "import torch.optim as optim\n",
    "import torch.nn.functional as F\n",
    "from torch.utils.data import Dataset, DataLoader\n",
    "\n",
    "import albumentations as A\n",
    "from albumentations.pytorch.transforms import ToTensorV2\n",
    "from torchvision.ops import StochasticDepth, sigmoid_focal_loss\n",
    "import torchvision.models as models\n",
    "from einops.layers.torch import Rearrange\n",
    "\n",
    "from tqdm.auto import tqdm\n",
    "from sklearn.model_selection import train_test_split\n",
    "from sklearn.metrics import f1_score\n",
    "\n",
    "import warnings\n",
    "warnings.filterwarnings(action='ignore') "
   ]
  },
  {
   "cell_type": "code",
   "execution_count": 2,
   "id": "d13862e3-bb27-47af-9b58-a9fbf804df71",
   "metadata": {},
   "outputs": [],
   "source": [
    "device = torch.device('cuda:1') if torch.cuda.is_available() else torch.device('cpu')"
   ]
  },
  {
   "cell_type": "markdown",
   "id": "fc7df3f2-62d0-4499-a46e-47d01699def0",
   "metadata": {},
   "source": [
    "## Hyperparameter Setting"
   ]
  },
  {
   "cell_type": "code",
   "execution_count": 3,
   "id": "c3367399-9798-4e38-967b-fd2320b9a2b2",
   "metadata": {},
   "outputs": [],
   "source": [
    "CFG = {\n",
    "    'VIDEO_LENGTH':50, # 10프레임 * 5초\n",
    "    'IMG_SIZE':256,\n",
    "    'EPOCHS':10,\n",
    "    'LEARNING_RATE':3e-4,\n",
    "    'BATCH_SIZE':4,\n",
    "    'SEED':41\n",
    "}"
   ]
  },
  {
   "cell_type": "markdown",
   "id": "4254e860-ff82-43ba-bfa3-fcee4eb3ddbd",
   "metadata": {},
   "source": [
    "## Fixed RandomSeed"
   ]
  },
  {
   "cell_type": "code",
   "execution_count": 4,
   "id": "101a714b-71b6-4475-a4ce-fa5f98bc2731",
   "metadata": {},
   "outputs": [],
   "source": [
    "def seed_everything(seed):\n",
    "    random.seed(seed)\n",
    "    os.environ['PYTHONHASHSEED'] = str(seed)\n",
    "    np.random.seed(seed)\n",
    "    torch.manual_seed(seed)\n",
    "    torch.cuda.manual_seed(seed)\n",
    "    torch.backends.cudnn.deterministic = True\n",
    "    torch.backends.cudnn.benchmark = True\n",
    "\n",
    "seed_everything(CFG['SEED']) # Seed 고정"
   ]
  },
  {
   "cell_type": "markdown",
   "id": "05a4172e-5791-446f-9616-35c09d8bf25a",
   "metadata": {},
   "source": [
    "## Data Load"
   ]
  },
  {
   "cell_type": "code",
   "execution_count": 5,
   "id": "a62c78cd-4f40-4e98-b8a6-1b6f1d906b4d",
   "metadata": {},
   "outputs": [],
   "source": [
    "df = pd.read_csv('/root/Competitions/DACON/Carcarsh_video_classification/data/train.csv')"
   ]
  },
  {
   "cell_type": "markdown",
   "id": "0380b40a-f540-4225-8ffc-50059fd28a2c",
   "metadata": {},
   "source": [
    "## Train / Validation Split"
   ]
  },
  {
   "cell_type": "code",
   "execution_count": 6,
   "id": "e6264d0c-597c-42ac-9f3a-7189a5883028",
   "metadata": {},
   "outputs": [],
   "source": [
    "train, val, _, _ = train_test_split(df, df['label'], test_size=0.2, random_state=CFG['SEED'])"
   ]
  },
  {
   "cell_type": "markdown",
   "id": "ac27ed36-8031-47a7-bd0d-a913513f2e8e",
   "metadata": {},
   "source": [
    "## CustomDataset"
   ]
  },
  {
   "cell_type": "code",
   "execution_count": 7,
   "id": "16fd60a5-24e2-4539-bfd0-1c374a641699",
   "metadata": {},
   "outputs": [],
   "source": [
    "class CustomDataset(Dataset):\n",
    "    def __init__(self, video_path_list, label_list):\n",
    "        self.video_path_list = video_path_list\n",
    "        self.label_list = label_list\n",
    "        \n",
    "    def __getitem__(self, index):\n",
    "        frames = self.get_video(self.video_path_list[index])\n",
    "        \n",
    "        if self.label_list is not None:\n",
    "            label = self.label_list[index]\n",
    "            return frames, label\n",
    "        else:\n",
    "            return frames\n",
    "        \n",
    "    def __len__(self):\n",
    "        return len(self.video_path_list)\n",
    "    \n",
    "    def get_video(self, path):\n",
    "        frames = []\n",
    "        path =  f'/root/Competitions/DACON/Carcarsh_video_classification/data/{path[2:]}'\n",
    "        cap = cv2.VideoCapture(path)\n",
    "        for _ in range(CFG['VIDEO_LENGTH']):\n",
    "            _, img = cap.read()\n",
    "            img = cv2.resize(img, (CFG['IMG_SIZE'], CFG['IMG_SIZE']))\n",
    "            img = img / 255.\n",
    "            frames.append(img)\n",
    "        return torch.FloatTensor(np.array(frames)).permute(3, 0, 1, 2)"
   ]
  },
  {
   "cell_type": "code",
   "execution_count": 8,
   "id": "9d880481-1965-499d-9caa-fdfa8526f789",
   "metadata": {},
   "outputs": [],
   "source": [
    "train_dataset = CustomDataset(train['video_path'].values, train['label'].values)\n",
    "train_loader = DataLoader(train_dataset, batch_size = CFG['BATCH_SIZE'], shuffle=True, num_workers=0)\n",
    "\n",
    "val_dataset = CustomDataset(val['video_path'].values, val['label'].values)\n",
    "val_loader = DataLoader(val_dataset, batch_size = CFG['BATCH_SIZE'], shuffle=False, num_workers=0)"
   ]
  },
  {
   "cell_type": "markdown",
   "id": "39962463-032f-490a-a76d-c03991795f38",
   "metadata": {},
   "source": [
    "## Model Define"
   ]
  },
  {
   "cell_type": "code",
   "execution_count": 9,
   "id": "270018aa",
   "metadata": {},
   "outputs": [],
   "source": [
    "class SqueezeExcitation(nn.Module):\n",
    "    def __init__(self, in_dim, sqz_dim) -> None:\n",
    "        super(SqueezeExcitation, self).__init__()\n",
    "\n",
    "        self.pool = nn.AdaptiveAvgPool3d(output_size=1)\n",
    "        self.fc1 = nn.Conv3d(in_dim, sqz_dim, kernel_size=1, stride=1)\n",
    "        self.fc2 = nn.Conv3d(sqz_dim, in_dim, kernel_size=1, stride=1)\n",
    "        self.act = nn.SiLU()\n",
    "        self.scale_act = nn.Sigmoid()\n",
    "\n",
    "    \n",
    "    def forward(self, x):\n",
    "\n",
    "        squeezed = self.pool(x)\n",
    "\n",
    "        e = self.fc1(squeezed)\n",
    "        e = self.act(e)\n",
    "        e = self.fc2(e)\n",
    "        e = self.scale_act(e)\n",
    "\n",
    "        out = x * e\n",
    "        \n",
    "        return out\n",
    "\n",
    "class MBConv(nn.Module):\n",
    "    def __init__(self, in_dim, hidden_dim, out_dim, kernel_size, stride, padding, scale=True) -> None:\n",
    "        super(MBConv, self).__init__()\n",
    "\n",
    "        self.scale = scale\n",
    "\n",
    "        if self.scale:\n",
    "            self.bottleneck = nn.Sequential(\n",
    "                nn.Conv3d(in_dim, hidden_dim, kernel_size=1, stride=1, bias=False),\n",
    "                nn.BatchNorm3d(hidden_dim),\n",
    "                nn.SiLU()\n",
    "            )\n",
    "\n",
    "            self.conv1 = nn.Sequential(\n",
    "                nn.Conv3d(hidden_dim, hidden_dim, kernel_size=kernel_size, stride=stride, padding=padding, groups=hidden_dim, bias=False),\n",
    "                nn.BatchNorm3d(hidden_dim),\n",
    "                nn.SiLU()\n",
    "            )\n",
    "        else:\n",
    "            self.conv1 = nn.Sequential(\n",
    "                nn.Conv3d(in_dim, hidden_dim, kernel_size=kernel_size, stride=stride, padding=padding, groups=in_dim, bias=False),\n",
    "                nn.BatchNorm3d(hidden_dim),\n",
    "                nn.SiLU()\n",
    "            )\n",
    "        \n",
    "        self.SqueezeExcitation = SqueezeExcitation(hidden_dim, 8 if hidden_dim == 32 else hidden_dim//24)\n",
    "\n",
    "        self.conv2 = nn.Sequential(\n",
    "            nn.Conv3d(hidden_dim, out_dim, kernel_size=1, stride=1, bias=False),\n",
    "            nn.BatchNorm3d(out_dim)\n",
    "        )\n",
    "    \n",
    "    def forward(self, x):\n",
    "\n",
    "        if self.scale:\n",
    "            x = self.bottleneck(x)\n",
    "            \n",
    "        h = self.conv1(x)\n",
    "        h = self.SqueezeExcitation(h)\n",
    "        h = self.conv2(h)\n",
    "\n",
    "        return h\n",
    "\n"
   ]
  },
  {
   "cell_type": "code",
   "execution_count": 10,
   "id": "29cccc6f",
   "metadata": {},
   "outputs": [],
   "source": [
    "class efficientNet3D(nn.Module):\n",
    "    def __init__(self, num_classes=13) -> None:\n",
    "        super(efficientNet3D, self).__init__()\n",
    "\n",
    "        self.conv1 = nn.Sequential(\n",
    "            nn.Conv3d(3, 32, kernel_size=3, stride=2, padding=1, bias=False),\n",
    "            nn.BatchNorm3d(32),\n",
    "            nn.SiLU()\n",
    "        )\n",
    "\n",
    "        self.conv2 = nn.Sequential(\n",
    "            MBConv(in_dim=32, hidden_dim=32, out_dim=16, kernel_size=3, stride=1, padding=1, scale=False),\n",
    "            StochasticDepth(p=0.0, mode='row')\n",
    "        )\n",
    "\n",
    "        self.conv3 = nn.Sequential(\n",
    "            MBConv(in_dim=16, hidden_dim=96, out_dim=24, kernel_size=3, stride=2, padding=1, scale=True),\n",
    "            StochasticDepth(p=0.0125, mode='row'),\n",
    "            MBConv(in_dim=24, hidden_dim=144, out_dim=24, kernel_size=3, stride=1, padding=1, scale=True),\n",
    "            StochasticDepth(p=0.025, mode='row')\n",
    "        )\n",
    "\n",
    "        self.conv4 = nn.Sequential(\n",
    "            MBConv(in_dim=24, hidden_dim=144, out_dim=40, kernel_size=5, stride=2, padding=2, scale=True),\n",
    "            StochasticDepth(p=0.0375, mode='row'),\n",
    "            MBConv(in_dim=40, hidden_dim=240, out_dim=40, kernel_size=5, stride=1, padding=2, scale=True),\n",
    "            StochasticDepth(p=0.05, mode='row'),\n",
    "        )\n",
    "\n",
    "        self.conv5 = nn.Sequential(\n",
    "            MBConv(in_dim=40, hidden_dim=240, out_dim=80, kernel_size=3, stride=2, padding=1, scale=True),\n",
    "            StochasticDepth(p=0.0625, mode='row'),\n",
    "            MBConv(in_dim=80, hidden_dim=480, out_dim=80, kernel_size=3, stride=1, padding=1, scale=True),\n",
    "            StochasticDepth(p=0.075, mode='row'),\n",
    "            MBConv(in_dim=80, hidden_dim=480, out_dim=80, kernel_size=3, stride=1, padding=1, scale=True),\n",
    "            StochasticDepth(p=0.0875, mode='row'),\n",
    "        )\n",
    "\n",
    "        self.conv6 = nn.Sequential(\n",
    "            MBConv(in_dim=80, hidden_dim=480, out_dim=112, kernel_size=5, stride=1, padding=2, scale=True),\n",
    "            StochasticDepth(p=0.1, mode='row'),\n",
    "            MBConv(in_dim=112, hidden_dim=672, out_dim=112, kernel_size=5, stride=1, padding=2, scale=True),\n",
    "            StochasticDepth(p=0.1125, mode='row'),\n",
    "            MBConv(in_dim=112, hidden_dim=672, out_dim=112, kernel_size=5, stride=1, padding=2, scale=True),\n",
    "            StochasticDepth(p=0.125, mode='row'),\n",
    "        )\n",
    "\n",
    "        self.conv7 = nn.Sequential(\n",
    "            MBConv(in_dim=112, hidden_dim=672, out_dim=192, kernel_size=5, stride=2, padding=2, scale=True),\n",
    "            StochasticDepth(p=0.1375, mode='row'),\n",
    "            MBConv(in_dim=192, hidden_dim=1152, out_dim=192, kernel_size=5, stride=1, padding=2, scale=True),\n",
    "            StochasticDepth(p=0.15, mode='row'),\n",
    "            MBConv(in_dim=192, hidden_dim=1152, out_dim=192, kernel_size=5, stride=1, padding=2, scale=True),\n",
    "            StochasticDepth(p=0.1625, mode='row'),\n",
    "            MBConv(in_dim=192, hidden_dim=1152, out_dim=192, kernel_size=5, stride=1, padding=2, scale=True),\n",
    "            StochasticDepth(p=0.175, mode='row'),\n",
    "        )\n",
    "\n",
    "        self.conv8 = nn.Sequential(\n",
    "            MBConv(in_dim=192, hidden_dim=1152, out_dim=320, kernel_size=3, stride=1, padding=1, scale=False),\n",
    "            StochasticDepth(p=0.1875, mode='row')\n",
    "        )\n",
    "\n",
    "        self.conv9 = nn.Sequential(\n",
    "            nn.Conv3d(320, 1280, kernel_size=1, stride=1, bias=False),\n",
    "            nn.BatchNorm3d(1280),\n",
    "            nn.SiLU()\n",
    "        )\n",
    "\n",
    "        self.pool = nn.AdaptiveAvgPool3d(output_size=1)\n",
    "        self.drop = nn.Dropout(p=0.2)\n",
    "        self.clf  = nn.Linear(1280, out_features=num_classes)\n",
    "        \n",
    "    def forward(self, x):\n",
    "        x = self.conv1(x)\n",
    "        x = self.conv2(x)\n",
    "        x = self.conv3(x)\n",
    "        x = self.conv4(x)\n",
    "        x = self.conv5(x)\n",
    "        x = self.conv6(x)\n",
    "        x = self.conv7(x)\n",
    "        x = self.conv8(x)\n",
    "        x = self.conv9(x)\n",
    "\n",
    "        p = self.pool(x)\n",
    "        # print(p.shape)\n",
    "        # p = Rearrange(p, 'b ')\n",
    "        # p = Rearrange(p, ' c t w h -> (c t w h)')\n",
    "        p = p.view(x.shape[0], -1)\n",
    "        # [4, 1280, 1, 1, 1]\n",
    "\n",
    "        out = self.clf(p)\n",
    "\n",
    "        return out\n",
    "\n",
    "        "
   ]
  },
  {
   "cell_type": "code",
   "execution_count": 11,
   "id": "3664c4d0-f1f2-4971-9090-4d6ee66309ae",
   "metadata": {},
   "outputs": [],
   "source": [
    "class BaseModel(nn.Module):\n",
    "    def __init__(self, num_classes=13):\n",
    "        super(BaseModel, self).__init__()\n",
    "        self.feature_extract = models.video.r3d_18(weights=models.video.R3D_18_Weights.DEFAULT)\n",
    "        self.drop = nn.Dropout(p=0.2)\n",
    "        self.act  = nn.SiLU()\n",
    "        self.classifier = nn.Linear(400, num_classes)\n",
    "        \n",
    "    def forward(self, x):\n",
    "        batch_size = x.size(0)\n",
    "        x = self.feature_extract(x)\n",
    "        # x = x.view(batch_size, -1)\n",
    "        x = self.drop(x)\n",
    "        x = self.act(x)\n",
    "        x = self.classifier(x)\n",
    "        return x"
   ]
  },
  {
   "cell_type": "markdown",
   "id": "122af0aa-a1fd-4595-9488-35761e3cb596",
   "metadata": {},
   "source": [
    "## Train"
   ]
  },
  {
   "cell_type": "code",
   "execution_count": 12,
   "id": "a17df6b3-16c9-44dd-b0fd-ffb501fee749",
   "metadata": {},
   "outputs": [],
   "source": [
    "def train(model, optimizer, train_loader, val_loader, scheduler, device):\n",
    "    model.to(device)\n",
    "    criterion = FocalLoss().to(device)\n",
    "    \n",
    "    best_val_score = 0\n",
    "    best_model = None\n",
    "    \n",
    "    for epoch in range(1, CFG['EPOCHS']+1):\n",
    "        model.train()\n",
    "        train_loss = []\n",
    "        for videos, labels in tqdm(iter(train_loader)):\n",
    "            videos = videos.to(device)\n",
    "            labels = labels.to(device)\n",
    "            \n",
    "            optimizer.zero_grad()\n",
    "            \n",
    "            output = model(videos)\n",
    "            loss = criterion(output, labels)\n",
    "            \n",
    "            loss.backward()\n",
    "            optimizer.step()\n",
    "            \n",
    "            train_loss.append(loss.item())\n",
    "                    \n",
    "        _val_loss, _val_score = validation(model, criterion, val_loader, device)\n",
    "        _train_loss = np.mean(train_loss)\n",
    "        print(f'Epoch [{epoch}], Train Loss : [{_train_loss:.5f}] Val Loss : [{_val_loss:.5f}] Val F1 : [{_val_score:.5f}]')\n",
    "        \n",
    "        if scheduler is not None:\n",
    "            scheduler.step(_val_score)\n",
    "            \n",
    "        if best_val_score < _val_score:\n",
    "            best_val_score = _val_score\n",
    "            best_model = model\n",
    "    \n",
    "    return best_model"
   ]
  },
  {
   "cell_type": "code",
   "execution_count": 13,
   "id": "24a0bf01-27cd-4faf-93b1-3aa8a37be01c",
   "metadata": {},
   "outputs": [],
   "source": [
    "def validation(model, criterion, val_loader, device):\n",
    "    model.eval()\n",
    "    val_loss = []\n",
    "    preds, trues = [], []\n",
    "    \n",
    "    with torch.no_grad():\n",
    "        for videos, labels in tqdm(iter(val_loader)):\n",
    "            videos = videos.to(device)\n",
    "            labels = labels.to(device)\n",
    "            \n",
    "            logit = model(videos)\n",
    "            \n",
    "            loss = criterion(logit, labels)\n",
    "            \n",
    "            val_loss.append(loss.item())\n",
    "            \n",
    "            preds += logit.argmax(1).detach().cpu().numpy().tolist()\n",
    "            trues += labels.detach().cpu().numpy().tolist()\n",
    "        \n",
    "        _val_loss = np.mean(val_loss)\n",
    "    \n",
    "    _val_score = f1_score(trues, preds, average='macro')\n",
    "    return _val_loss, _val_score"
   ]
  },
  {
   "cell_type": "code",
   "execution_count": 14,
   "id": "c1e043b6",
   "metadata": {},
   "outputs": [],
   "source": [
    "class FocalLoss(nn.Module):\n",
    "    def __init__(self, alpha=0.25, gamma=2, logits=False, reduce=True):\n",
    "        super(FocalLoss, self).__init__()\n",
    "        self.alpha = alpha\n",
    "        self.gamma = gamma\n",
    "        self.logits = logits\n",
    "        self.reduce = reduce\n",
    "\n",
    "    def forward(self, inputs, targets):\n",
    "    \n",
    "        ce_loss = nn.CrossEntropyLoss()(inputs, targets)\n",
    "\n",
    "        pt = torch.exp(-ce_loss)\n",
    "        F_loss = self.alpha * (1-pt)**self.gamma * ce_loss\n",
    "\n",
    "        if self.reduce:\n",
    "            return torch.mean(F_loss)\n",
    "        else:\n",
    "            return F_loss"
   ]
  },
  {
   "cell_type": "markdown",
   "id": "51da39f9-904f-4abd-a7d2-cdf29c4a6c24",
   "metadata": {},
   "source": [
    "## Run!!"
   ]
  },
  {
   "cell_type": "code",
   "execution_count": 15,
   "id": "86142d9a-68b7-4d04-8423-49d28025411d",
   "metadata": {
    "tags": []
   },
   "outputs": [
    {
     "name": "stderr",
     "output_type": "stream",
     "text": [
      "100%|██████████| 540/540 [15:51<00:00,  1.76s/it]\n",
      "100%|██████████| 135/135 [02:33<00:00,  1.14s/it]\n"
     ]
    },
    {
     "name": "stdout",
     "output_type": "stream",
     "text": [
      "Epoch [1], Train Loss : [0.11035] Val Loss : [0.07052] Val F1 : [0.17948]\n"
     ]
    },
    {
     "name": "stderr",
     "output_type": "stream",
     "text": [
      "100%|██████████| 540/540 [16:42<00:00,  1.86s/it]\n",
      "100%|██████████| 135/135 [02:30<00:00,  1.12s/it]\n"
     ]
    },
    {
     "name": "stdout",
     "output_type": "stream",
     "text": [
      "Epoch [2], Train Loss : [0.07768] Val Loss : [0.04551] Val F1 : [0.20748]\n"
     ]
    },
    {
     "name": "stderr",
     "output_type": "stream",
     "text": [
      "100%|██████████| 540/540 [16:27<00:00,  1.83s/it]\n",
      "100%|██████████| 135/135 [02:26<00:00,  1.09s/it]\n"
     ]
    },
    {
     "name": "stdout",
     "output_type": "stream",
     "text": [
      "Epoch [3], Train Loss : [0.06246] Val Loss : [0.05001] Val F1 : [0.23219]\n"
     ]
    },
    {
     "name": "stderr",
     "output_type": "stream",
     "text": [
      "100%|██████████| 540/540 [16:38<00:00,  1.85s/it]\n",
      "100%|██████████| 135/135 [02:30<00:00,  1.12s/it]\n"
     ]
    },
    {
     "name": "stdout",
     "output_type": "stream",
     "text": [
      "Epoch [4], Train Loss : [0.06206] Val Loss : [0.04530] Val F1 : [0.27475]\n"
     ]
    },
    {
     "name": "stderr",
     "output_type": "stream",
     "text": [
      " 61%|██████▏   | 331/540 [10:04<06:26,  1.85s/it]"
     ]
    }
   ],
   "source": [
    "# model = efficientNet3D()\n",
    "model = BaseModel()\n",
    "model.eval()\n",
    "optimizer = torch.optim.Adam(params = model.parameters(), lr = CFG[\"LEARNING_RATE\"])\n",
    "scheduler = torch.optim.lr_scheduler.ReduceLROnPlateau(optimizer, mode='max', factor=0.5, patience=2,threshold_mode='abs',min_lr=1e-8, verbose=True)\n",
    "\n",
    "infer_model = train(model, optimizer, train_loader, val_loader, scheduler, device)"
   ]
  },
  {
   "cell_type": "markdown",
   "id": "d32efed9-ec88-40fc-83d2-e995e48c372a",
   "metadata": {},
   "source": [
    "## Inference"
   ]
  },
  {
   "cell_type": "code",
   "execution_count": null,
   "id": "0498feef-9ca7-42ea-b73a-51a06dd4c684",
   "metadata": {},
   "outputs": [],
   "source": [
    "test = pd.read_csv('/root/Competitions/DACON/Carcarsh_video_classification/data/test.csv')"
   ]
  },
  {
   "cell_type": "code",
   "execution_count": null,
   "id": "a1bc676a-5216-4e1a-ac2c-3e940e8a3909",
   "metadata": {},
   "outputs": [],
   "source": [
    "test_dataset = CustomDataset(test['video_path'].values, None)\n",
    "test_loader = DataLoader(test_dataset, batch_size = CFG['BATCH_SIZE'], shuffle=False, num_workers=0)"
   ]
  },
  {
   "cell_type": "code",
   "execution_count": null,
   "id": "acc072b1-3749-4a0a-8c3b-80ef39a2fd56",
   "metadata": {},
   "outputs": [],
   "source": [
    "def inference(model, test_loader, device):\n",
    "    model.to(device)\n",
    "    model.eval()\n",
    "    preds = []\n",
    "    with torch.no_grad():\n",
    "        for videos in tqdm(iter(test_loader)):\n",
    "            videos = videos.to(device)\n",
    "            \n",
    "            logit = model(videos)\n",
    "\n",
    "            preds += logit.argmax(1).detach().cpu().numpy().tolist()\n",
    "    return preds"
   ]
  },
  {
   "cell_type": "code",
   "execution_count": null,
   "id": "9fcce1a1-995c-403b-9229-f4253dd5c702",
   "metadata": {},
   "outputs": [],
   "source": [
    "preds = inference(model, test_loader, device)"
   ]
  },
  {
   "cell_type": "markdown",
   "id": "370e5a18-de28-4c3d-a33b-77d4797911eb",
   "metadata": {},
   "source": [
    "## Submission"
   ]
  },
  {
   "cell_type": "code",
   "execution_count": null,
   "id": "95107b25-7d4b-423f-90ce-849c6f4a46c0",
   "metadata": {},
   "outputs": [],
   "source": [
    "submit = pd.read_csv('/root/Competitions/DACON/Carcarsh_video_classification/data/sample_submission.csv')"
   ]
  },
  {
   "cell_type": "code",
   "execution_count": null,
   "id": "c7d82083-af35-4ba5-957d-1c7451404eab",
   "metadata": {},
   "outputs": [],
   "source": [
    "submit['label'] = preds\n",
    "submit.head()"
   ]
  },
  {
   "cell_type": "code",
   "execution_count": null,
   "id": "dd24b98d-1ac7-46df-a833-16d4cb57ac04",
   "metadata": {},
   "outputs": [],
   "source": [
    "submit.to_csv('/root/Competitions/DACON/Carcarsh_video_classification/prediction/efficientNet3d(x2 resolution)_submit.csv', index=False)"
   ]
  },
  {
   "cell_type": "code",
   "execution_count": null,
   "id": "e2b11873",
   "metadata": {},
   "outputs": [],
   "source": []
  }
 ],
 "metadata": {
  "kernelspec": {
   "display_name": "Vision",
   "language": "python",
   "name": "python3"
  },
  "language_info": {
   "codemirror_mode": {
    "name": "ipython",
    "version": 3
   },
   "file_extension": ".py",
   "mimetype": "text/x-python",
   "name": "python",
   "nbconvert_exporter": "python",
   "pygments_lexer": "ipython3",
   "version": "3.10.9"
  },
  "vscode": {
   "interpreter": {
    "hash": "2be5db867a8e48a5046a648c27c7f3533a04d485c5580f847108a942a2a2f253"
   }
  }
 },
 "nbformat": 4,
 "nbformat_minor": 5
}
