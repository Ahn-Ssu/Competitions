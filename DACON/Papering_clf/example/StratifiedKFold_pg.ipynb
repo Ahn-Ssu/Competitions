{
 "cells": [
  {
   "cell_type": "code",
   "execution_count": 1,
   "metadata": {},
   "outputs": [],
   "source": [
    "import os\n",
    "import pytorch_lightning as pl\n",
    "\n",
    "import glob\n",
    "import pandas as pd\n",
    "from torch.utils.data import Dataset\n",
    "from torch.utils.data import DataLoader\n",
    "from sklearn.model_selection import KFold, StratifiedKFold\n",
    "\n",
    "from data_loader import CustomDataset\n",
    "from sklearn import preprocessing"
   ]
  },
  {
   "cell_type": "code",
   "execution_count": 2,
   "metadata": {},
   "outputs": [],
   "source": [
    "all_img_list = glob.glob('./aug_data/train/*/*')\n",
    "df = pd.DataFrame(columns=['img_path', 'label'])\n",
    "df['img_path'] = all_img_list\n",
    "df['label'] = df['img_path'].apply(lambda x : str(x).split('/')[-2])\n",
    "\n",
    "kf = StratifiedKFold(n_splits=5,\n",
    "            shuffle=True,\n",
    "            random_state=41)\n",
    "\n",
    "all_splits = [k for k in kf.split(df, df['label'])]\n",
    "train_idx, val_idx = all_splits[0]\n",
    "train_idx, val_idx = train_idx.tolist(), val_idx.tolist()"
   ]
  },
  {
   "cell_type": "code",
   "execution_count": 3,
   "metadata": {},
   "outputs": [
    {
     "name": "stdout",
     "output_type": "stream",
     "text": [
      "all splits length: [5]\n",
      "all splits[0][0] shape: [(2896,)]\n",
      "all splits[0][1] shape: [(724,)]\n"
     ]
    }
   ],
   "source": [
    "print(f'all splits length: [{len(all_splits)}]')\n",
    "print(f'all splits[0][0] shape: [{all_splits[0][0].shape}]') # 80%\n",
    "print(f'all splits[0][1] shape: [{all_splits[0][1].shape}]') # 20%"
   ]
  },
  {
   "cell_type": "code",
   "execution_count": 4,
   "metadata": {},
   "outputs": [
    {
     "name": "stdout",
     "output_type": "stream",
     "text": [
      "df shape from train_idx : [(2896, 2)]\n",
      "df shape from val_idx : [(724, 2)]\n"
     ]
    }
   ],
   "source": [
    "print(f'df shape from train_idx : [{df.iloc[train_idx].shape}]')\n",
    "print(f'df shape from val_idx : [{df.iloc[val_idx].shape}]')\n",
    "\n",
    "train = df.iloc[train_idx]\n",
    "val = df.iloc[val_idx]"
   ]
  },
  {
   "cell_type": "code",
   "execution_count": 9,
   "metadata": {},
   "outputs": [
    {
     "ename": "ValueError",
     "evalue": "cannot set a row with mismatched columns",
     "output_type": "error",
     "traceback": [
      "\u001b[0;31m---------------------------------------------------------------------------\u001b[0m",
      "\u001b[0;31mValueError\u001b[0m                                Traceback (most recent call last)",
      "Cell \u001b[0;32mIn[9], line 3\u001b[0m\n\u001b[1;32m      1\u001b[0m le \u001b[39m=\u001b[39m preprocessing\u001b[39m.\u001b[39mLabelEncoder()\n\u001b[1;32m      2\u001b[0m \u001b[39m# le.fit(df['label'])\u001b[39;00m\n\u001b[0;32m----> 3\u001b[0m train\u001b[39m.\u001b[39mloc[\u001b[39m'\u001b[39m\u001b[39mlabel\u001b[39m\u001b[39m'\u001b[39m] \u001b[39m=\u001b[39m le\u001b[39m.\u001b[39mfit_transform(train[\u001b[39m'\u001b[39m\u001b[39mlabel\u001b[39m\u001b[39m'\u001b[39m])\n\u001b[1;32m      4\u001b[0m val[\u001b[39m'\u001b[39m\u001b[39mlabel\u001b[39m\u001b[39m'\u001b[39m] \u001b[39m=\u001b[39m le\u001b[39m.\u001b[39mtransform(val[\u001b[39m'\u001b[39m\u001b[39mlabel\u001b[39m\u001b[39m'\u001b[39m])\n",
      "File \u001b[0;32m/opt/conda/envs/paper/lib/python3.10/site-packages/pandas/core/indexing.py:818\u001b[0m, in \u001b[0;36m_LocationIndexer.__setitem__\u001b[0;34m(self, key, value)\u001b[0m\n\u001b[1;32m    815\u001b[0m \u001b[39mself\u001b[39m\u001b[39m.\u001b[39m_has_valid_setitem_indexer(key)\n\u001b[1;32m    817\u001b[0m iloc \u001b[39m=\u001b[39m \u001b[39mself\u001b[39m \u001b[39mif\u001b[39;00m \u001b[39mself\u001b[39m\u001b[39m.\u001b[39mname \u001b[39m==\u001b[39m \u001b[39m\"\u001b[39m\u001b[39miloc\u001b[39m\u001b[39m\"\u001b[39m \u001b[39melse\u001b[39;00m \u001b[39mself\u001b[39m\u001b[39m.\u001b[39mobj\u001b[39m.\u001b[39miloc\n\u001b[0;32m--> 818\u001b[0m iloc\u001b[39m.\u001b[39;49m_setitem_with_indexer(indexer, value, \u001b[39mself\u001b[39;49m\u001b[39m.\u001b[39;49mname)\n",
      "File \u001b[0;32m/opt/conda/envs/paper/lib/python3.10/site-packages/pandas/core/indexing.py:1785\u001b[0m, in \u001b[0;36m_iLocIndexer._setitem_with_indexer\u001b[0;34m(self, indexer, value, name)\u001b[0m\n\u001b[1;32m   1782\u001b[0m     indexer, missing \u001b[39m=\u001b[39m convert_missing_indexer(indexer)\n\u001b[1;32m   1784\u001b[0m     \u001b[39mif\u001b[39;00m missing:\n\u001b[0;32m-> 1785\u001b[0m         \u001b[39mself\u001b[39;49m\u001b[39m.\u001b[39;49m_setitem_with_indexer_missing(indexer, value)\n\u001b[1;32m   1786\u001b[0m         \u001b[39mreturn\u001b[39;00m\n\u001b[1;32m   1788\u001b[0m \u001b[39mif\u001b[39;00m name \u001b[39m==\u001b[39m \u001b[39m\"\u001b[39m\u001b[39mloc\u001b[39m\u001b[39m\"\u001b[39m:\n\u001b[1;32m   1789\u001b[0m     \u001b[39m# must come after setting of missing\u001b[39;00m\n",
      "File \u001b[0;32m/opt/conda/envs/paper/lib/python3.10/site-packages/pandas/core/indexing.py:2160\u001b[0m, in \u001b[0;36m_iLocIndexer._setitem_with_indexer_missing\u001b[0;34m(self, indexer, value)\u001b[0m\n\u001b[1;32m   2157\u001b[0m     \u001b[39mif\u001b[39;00m is_list_like_indexer(value):\n\u001b[1;32m   2158\u001b[0m         \u001b[39m# must have conforming columns\u001b[39;00m\n\u001b[1;32m   2159\u001b[0m         \u001b[39mif\u001b[39;00m \u001b[39mlen\u001b[39m(value) \u001b[39m!=\u001b[39m \u001b[39mlen\u001b[39m(\u001b[39mself\u001b[39m\u001b[39m.\u001b[39mobj\u001b[39m.\u001b[39mcolumns):\n\u001b[0;32m-> 2160\u001b[0m             \u001b[39mraise\u001b[39;00m \u001b[39mValueError\u001b[39;00m(\u001b[39m\"\u001b[39m\u001b[39mcannot set a row with mismatched columns\u001b[39m\u001b[39m\"\u001b[39m)\n\u001b[1;32m   2162\u001b[0m     value \u001b[39m=\u001b[39m Series(value, index\u001b[39m=\u001b[39m\u001b[39mself\u001b[39m\u001b[39m.\u001b[39mobj\u001b[39m.\u001b[39mcolumns, name\u001b[39m=\u001b[39mindexer)\n\u001b[1;32m   2164\u001b[0m \u001b[39mif\u001b[39;00m \u001b[39mnot\u001b[39;00m \u001b[39mlen\u001b[39m(\u001b[39mself\u001b[39m\u001b[39m.\u001b[39mobj):\n\u001b[1;32m   2165\u001b[0m     \u001b[39m# We will ignore the existing dtypes instead of using\u001b[39;00m\n\u001b[1;32m   2166\u001b[0m     \u001b[39m#  internals.concat logic\u001b[39;00m\n",
      "\u001b[0;31mValueError\u001b[0m: cannot set a row with mismatched columns"
     ]
    }
   ],
   "source": []
  },
  {
   "cell_type": "code",
   "execution_count": 6,
   "metadata": {},
   "outputs": [
    {
     "data": {
      "text/html": [
       "<div>\n",
       "<style scoped>\n",
       "    .dataframe tbody tr th:only-of-type {\n",
       "        vertical-align: middle;\n",
       "    }\n",
       "\n",
       "    .dataframe tbody tr th {\n",
       "        vertical-align: top;\n",
       "    }\n",
       "\n",
       "    .dataframe thead th {\n",
       "        text-align: right;\n",
       "    }\n",
       "</style>\n",
       "<table border=\"1\" class=\"dataframe\">\n",
       "  <thead>\n",
       "    <tr style=\"text-align: right;\">\n",
       "      <th></th>\n",
       "      <th>img_path</th>\n",
       "      <th>label</th>\n",
       "    </tr>\n",
       "  </thead>\n",
       "  <tbody>\n",
       "    <tr>\n",
       "      <th>1663</th>\n",
       "      <td>./aug_data/train/틈새과다/3.png</td>\n",
       "      <td>16</td>\n",
       "    </tr>\n",
       "    <tr>\n",
       "      <th>1664</th>\n",
       "      <td>./aug_data/train/틈새과다/2.png</td>\n",
       "      <td>16</td>\n",
       "    </tr>\n",
       "    <tr>\n",
       "      <th>1665</th>\n",
       "      <td>./aug_data/train/틈새과다/0.png</td>\n",
       "      <td>16</td>\n",
       "    </tr>\n",
       "    <tr>\n",
       "      <th>1667</th>\n",
       "      <td>./aug_data/train/틈새과다/1.png</td>\n",
       "      <td>16</td>\n",
       "    </tr>\n",
       "  </tbody>\n",
       "</table>\n",
       "</div>"
      ],
      "text/plain": [
       "                         img_path  label\n",
       "1663  ./aug_data/train/틈새과다/3.png     16\n",
       "1664  ./aug_data/train/틈새과다/2.png     16\n",
       "1665  ./aug_data/train/틈새과다/0.png     16\n",
       "1667  ./aug_data/train/틈새과다/1.png     16"
      ]
     },
     "execution_count": 6,
     "metadata": {},
     "output_type": "execute_result"
    }
   ],
   "source": [
    "train[train.label == 16]"
   ]
  },
  {
   "cell_type": "code",
   "execution_count": 7,
   "metadata": {},
   "outputs": [
    {
     "data": {
      "text/plain": [
       "18    1100\n",
       "10     469\n",
       "1      253\n",
       "3      175\n",
       "15     153\n",
       "2      150\n",
       "11     119\n",
       "7      108\n",
       "6       86\n",
       "9       48\n",
       "5       46\n",
       "17      44\n",
       "12      43\n",
       "14      28\n",
       "13      22\n",
       "8       22\n",
       "4       17\n",
       "0        9\n",
       "16       4\n",
       "Name: label, dtype: int64"
      ]
     },
     "execution_count": 7,
     "metadata": {},
     "output_type": "execute_result"
    }
   ],
   "source": [
    "train.label.value_counts()"
   ]
  },
  {
   "cell_type": "code",
   "execution_count": 8,
   "metadata": {},
   "outputs": [
    {
     "data": {
      "text/plain": [
       "18    275\n",
       "10    118\n",
       "1      64\n",
       "3      44\n",
       "15     39\n",
       "2      37\n",
       "11     30\n",
       "7      26\n",
       "6      21\n",
       "9      12\n",
       "5      11\n",
       "12     11\n",
       "17     11\n",
       "8       6\n",
       "14      6\n",
       "13      5\n",
       "4       4\n",
       "0       3\n",
       "16      1\n",
       "Name: label, dtype: int64"
      ]
     },
     "execution_count": 8,
     "metadata": {},
     "output_type": "execute_result"
    }
   ],
   "source": [
    "val.label.value_counts()"
   ]
  },
  {
   "cell_type": "code",
   "execution_count": null,
   "metadata": {},
   "outputs": [],
   "source": [
    "train_dataset = CustomDataset(train['img_path'].values, train['label'].values, train_transform_4_origin)"
   ]
  }
 ],
 "metadata": {
  "kernelspec": {
   "display_name": "paper",
   "language": "python",
   "name": "python3"
  },
  "language_info": {
   "codemirror_mode": {
    "name": "ipython",
    "version": 3
   },
   "file_extension": ".py",
   "mimetype": "text/x-python",
   "name": "python",
   "nbconvert_exporter": "python",
   "pygments_lexer": "ipython3",
   "version": "3.10.10"
  },
  "orig_nbformat": 4
 },
 "nbformat": 4,
 "nbformat_minor": 2
}
